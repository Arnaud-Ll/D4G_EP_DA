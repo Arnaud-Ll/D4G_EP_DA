{
 "cells": [
  {
   "cell_type": "code",
   "execution_count": 4,
   "metadata": {},
   "outputs": [],
   "source": [
    "import pandas as pd\n",
    "import geopandas as gpd\n",
    "import matplotlib.pyplot as plt"
   ]
  },
  {
   "cell_type": "code",
   "execution_count": 10,
   "metadata": {},
   "outputs": [
    {
     "ename": "ImportError",
     "evalue": "cannot import name 'creer_col_dept' from 'creer_col_dept' (G:\\My Drive/data_for_good/eclaireur/git/D4G_EP_DA/cleanup\\creer_col_dept.py)",
     "output_type": "error",
     "traceback": [
      "\u001b[1;31m---------------------------------------------------------------------------\u001b[0m",
      "\u001b[1;31mImportError\u001b[0m                               Traceback (most recent call last)",
      "Input \u001b[1;32mIn [10]\u001b[0m, in \u001b[0;36m<cell line: 3>\u001b[1;34m()\u001b[0m\n\u001b[0;32m      1\u001b[0m \u001b[38;5;28;01mimport\u001b[39;00m \u001b[38;5;21;01msys\u001b[39;00m\n\u001b[0;32m      2\u001b[0m sys\u001b[38;5;241m.\u001b[39mpath\u001b[38;5;241m.\u001b[39mappend(\u001b[38;5;124m\"\u001b[39m\u001b[38;5;124mG:/My Drive/data_for_good/eclaireur/git/D4G_EP_DA/cleanup\u001b[39m\u001b[38;5;124m\"\u001b[39m)  \u001b[38;5;66;03m# Replace with the actual path\u001b[39;00m\n\u001b[1;32m----> 3\u001b[0m \u001b[38;5;28;01mfrom\u001b[39;00m \u001b[38;5;21;01mcreer_col_dept\u001b[39;00m \u001b[38;5;28;01mimport\u001b[39;00m creer_col_dept\n",
      "\u001b[1;31mImportError\u001b[0m: cannot import name 'creer_col_dept' from 'creer_col_dept' (G:\\My Drive/data_for_good/eclaireur/git/D4G_EP_DA/cleanup\\creer_col_dept.py)"
     ]
    }
   ],
   "source": [
    "import sys\n",
    "sys.path.append(\"G:/My Drive/data_for_good/eclaireur/git/D4G_EP_DA/cleanup\")  # Replace with the actual path\n",
    "from creer_col_dept import creer_col_dept"
   ]
  },
  {
   "cell_type": "code",
   "execution_count": 7,
   "metadata": {},
   "outputs": [
    {
     "name": "stderr",
     "output_type": "stream",
     "text": [
      "C:\\Users\\huynh\\AppData\\Local\\Temp\\ipykernel_18360\\1097195050.py:1: DtypeWarning: Columns (1,2,7,8,17) have mixed types. Specify dtype option on import or set low_memory=False.\n",
      "  df = pd.read_csv('G:/My Drive/data_for_good/eclaireur/data_raw/marches_publics_normalized_data.csv', delimiter=';')\n"
     ]
    },
    {
     "ename": "TypeError",
     "evalue": "'module' object is not callable",
     "output_type": "error",
     "traceback": [
      "\u001b[1;31m---------------------------------------------------------------------------\u001b[0m",
      "\u001b[1;31mTypeError\u001b[0m                                 Traceback (most recent call last)",
      "Input \u001b[1;32mIn [7]\u001b[0m, in \u001b[0;36m<cell line: 2>\u001b[1;34m()\u001b[0m\n\u001b[0;32m      1\u001b[0m df \u001b[38;5;241m=\u001b[39m pd\u001b[38;5;241m.\u001b[39mread_csv(\u001b[38;5;124m'\u001b[39m\u001b[38;5;124mG:/My Drive/data_for_good/eclaireur/data_raw/marches_publics_normalized_data.csv\u001b[39m\u001b[38;5;124m'\u001b[39m, delimiter\u001b[38;5;241m=\u001b[39m\u001b[38;5;124m'\u001b[39m\u001b[38;5;124m;\u001b[39m\u001b[38;5;124m'\u001b[39m)\n\u001b[1;32m----> 2\u001b[0m \u001b[43mcreer_col_dept\u001b[49m\u001b[43m(\u001b[49m\u001b[43mdf\u001b[49m\u001b[43m)\u001b[49m\n",
      "\u001b[1;31mTypeError\u001b[0m: 'module' object is not callable"
     ]
    }
   ],
   "source": [
    "df = pd.read_csv('G:/My Drive/data_for_good/eclaireur/data_raw/marches_publics_normalized_data.csv', delimiter=';')\n",
    "creer_col_dept(df)"
   ]
  },
  {
   "cell_type": "code",
   "execution_count": 3,
   "metadata": {},
   "outputs": [],
   "source": [
    "shapefile_path = 'G:/My Drive/data_for_good/eclaireur/departements-20140306-50m-shp/departements-20140306-50m.shp'\n",
    "gdf = gpd.read_file(shapefile_path, encoding='ISO-8859-1')"
   ]
  },
  {
   "cell_type": "code",
   "execution_count": null,
   "metadata": {},
   "outputs": [],
   "source": [
    "# Get the unique counts of 'dept' values\n",
    "unique_dept_counts = df_filtered['dept'].value_counts().reset_index()\n",
    "unique_dept_counts.columns = ['dept', 'count']\n",
    "\n",
    "# Merge the counts with the GeoDataFrame\n",
    "gdf = gdf.merge(unique_dept_counts, left_on='code_insee', right_on='dept', how='left')\n",
    "\n",
    "# Filter out overseas departments from the GeoDataFrame\n",
    "mainland_gdf = gdf[gdf['code_insee'].isin(department_codes)]\n",
    "\n",
    "print(gdf.head())\n",
    "\n",
    "# Plot the map\n",
    "fig, ax = plt.subplots(1, 1, figsize=(10, 10))\n",
    "mainland_gdf.boundary.plot(ax=ax)\n",
    "mainland_gdf.plot(column='count', ax=ax, legend=True, cmap='OrRd', missing_kwds={\"color\": \"lightgrey\"})\n",
    "plt.title('Count of dept values on a map of Mainland France')\n",
    "\n",
    "# Set the extent to zoom in to mainland France\n",
    "ax.set_xlim(-5, 10)\n",
    "ax.set_ylim(41, 52)\n",
    "\n",
    "plt.show()"
   ]
  }
 ],
 "metadata": {
  "kernelspec": {
   "display_name": "base",
   "language": "python",
   "name": "python3"
  },
  "language_info": {
   "codemirror_mode": {
    "name": "ipython",
    "version": 3
   },
   "file_extension": ".py",
   "mimetype": "text/x-python",
   "name": "python",
   "nbconvert_exporter": "python",
   "pygments_lexer": "ipython3",
   "version": "3.9.12"
  }
 },
 "nbformat": 4,
 "nbformat_minor": 2
}
