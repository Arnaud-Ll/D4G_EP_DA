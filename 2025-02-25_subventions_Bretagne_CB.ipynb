{
 "cells": [
  {
   "cell_type": "code",
   "execution_count": null,
   "id": "ae7c4563-0db7-421b-a57a-7d8163f7ef9e",
   "metadata": {},
   "outputs": [],
   "source": [
    "import numpy as np\n",
    "import pandas as pd\n",
    "import json\n",
    "import dash\n",
    "from dash import dcc, html, Input, Output\n",
    "import time\n",
    "import os \n",
    "import plotly.graph_objects as go\n",
    "from dash.dependencies import Input, Output\n",
    "\n",
    "import plotly.express as px\n",
    "import matplotlib.pyplot as plt\n",
    "\n",
    "from cleanup.cleanup_functions import clean_numeros\n",
    "from cleanup.cleanup_functions import classify_id"
   ]
  },
  {
   "cell_type": "markdown",
   "id": "61b981c9-5acd-4e12-a0df-6827104b7807",
   "metadata": {},
   "source": [
    "# 📂 Données nécessaires pour exécuter ce notebook\n",
    "\n",
    "Pour faire fonctionner ce notebook, vous devez placer plusieurs fichiers **.csv** dans le dossier `data/`. Certains fichiers sont volumineux et doivent être téléchargés manuellement.\n",
    "\n",
    "## 📥 Fichiers requis\n",
    "\n",
    "### 1️⃣ Fichiers à télécharger manuellement :\n",
    "- **`StockEtablissement_utf8.csv`** (⚠️ ~8 Go)  \n",
    "  📥 Disponible ici : [Base SIRENE des entreprises et de leurs établissements (SIREN/SIRET)](https://www.data.gouv.fr/fr/datasets/base-sirene-des-entreprises-et-de-leurs-etablissements-siren-siret/)  \n",
    "\n",
    "- **`20230823-communes-departement-region.csv`**  \n",
    "  📥 Disponible ici : [Communes de France - Base des codes postaux](https://www.data.gouv.fr/fr/datasets/communes-de-france-base-des-codes-postaux/)  \n",
    "\n",
    "### 2️⃣ Autres fichiers attendus dans `data/` :\n",
    "Ces fichiers sont utilisés dans le notebook, assurez-vous qu'ils sont bien présents :\n",
    "- **`all_communities_data.csv`**  \n",
    "- **`marches_publics_normalized_data.csv`**  \n",
    "- **`selected_communities_data.csv`**  \n",
    "- **`subventions_normalized_data.csv`**  \n",
    "\n",
    "⚠️ **Remarque** : Ces fichiers sont exclus du dépôt Git via `.gitignore` pour éviter d'ajouter des fichiers trop lourds.\n",
    "\n",
    "## 📌 Instructions :\n",
    "1. **Téléchargez** les fichiers manuellement si nécessaire.  \n",
    "2. **Placez-les** dans le dossier `data/` à la racine du projet.  \n",
    "3. **Vérifiez** que les chemins sont corrects avant d'exécuter le notebook.\n",
    "\n",
    "Bonne analyse ! 🚀\n"
   ]
  },
  {
   "cell_type": "code",
   "execution_count": null,
   "id": "e4928c7a-4bea-41c6-b609-aeeaf96beae6",
   "metadata": {},
   "outputs": [],
   "source": [
    "path_to_data = 'data' #path to data"
   ]
  },
  {
   "cell_type": "markdown",
   "id": "8a218a12-f249-4eb7-93a7-645eef1df47a",
   "metadata": {},
   "source": [
    "## READ DATA"
   ]
  },
  {
   "cell_type": "markdown",
   "id": "6daf6967-b6cb-4a8d-9f34-0685221047fe",
   "metadata": {},
   "source": [
    "Statistique des Regions:\n",
    "Regroupement de ces data_set: \n"
   ]
  },
  {
   "cell_type": "code",
   "execution_count": null,
   "id": "e8905bf3-8b00-4776-b7ca-4d8177126516",
   "metadata": {},
   "outputs": [],
   "source": [
    "Data_region_statistique = pd.read_csv(path_to_data+'/INSEE_Region.csv')"
   ]
  },
  {
   "cell_type": "code",
   "execution_count": null,
   "id": "ff01acaa-7b9d-4012-9fc1-3788ad6b2f52",
   "metadata": {},
   "outputs": [],
   "source": [
    "Data_region_statistique_mean = Data_region_statistique[['cog','year','Total',\n",
    "       'Président du conseil régional', 'Positionnement parti',\n",
    "       'Parti politique', 'Chomage moyenne anneé', 'De 20 à 64 ans',\n",
    "       '65 ans et plus','Moins de 20 ans']]"
   ]
  },
  {
   "cell_type": "code",
   "execution_count": 38,
   "id": "dc30b206-3b52-490b-89a8-fefc52d0c885",
   "metadata": {},
   "outputs": [
    {
     "name": "stdout",
     "output_type": "stream",
     "text": [
      "Le fichier data/Subvention_normalized_data_with_NAF.csv Le fichier data/Subvention_normalized_data_with_NAF.csv existe déjà. On passe directement au Dashboard global Region.\n"
     ]
    }
   ],
   "source": [
    "file_path = 'data/Subvention_normalized_data_with_NAF.csv'\n",
    "\n",
    "if os.path.exists(file_path):\n",
    "    subventions_normalized_data_with_NAF = pd.read_csv(path_to_data+'/Subvention_normalized_data_with_NAF.csv', on_bad_lines='skip', sep=';')\n",
    "    print(f\"Le fichier {file_path} Le fichier {file_path} existe déjà. On passe directement au Dashboard global Region.\")\n",
    "else:\n",
    "    print(f\"Le fichier {file_path} n'existe pas, Clean Siret et Add naf doivent etre exécutées.\")\n"
   ]
  },
  {
   "cell_type": "code",
   "execution_count": 37,
   "id": "6590dc3b-6ae6-4030-8d41-0305d5517afc",
   "metadata": {},
   "outputs": [
    {
     "name": "stderr",
     "output_type": "stream",
     "text": [
      "/var/folders/nn/3glhgr3j7hq9dt7rpd6sks840000gn/T/ipykernel_473/593674888.py:1: DtypeWarning:\n",
      "\n",
      "Columns (1,2,3,4,6,7,11,12,13,14,16,18,19,20) have mixed types. Specify dtype option on import or set low_memory=False.\n",
      "\n",
      "/var/folders/nn/3glhgr3j7hq9dt7rpd6sks840000gn/T/ipykernel_473/593674888.py:3: DtypeWarning:\n",
      "\n",
      "Columns (1,2,7,8,17) have mixed types. Specify dtype option on import or set low_memory=False.\n",
      "\n",
      "/var/folders/nn/3glhgr3j7hq9dt7rpd6sks840000gn/T/ipykernel_473/593674888.py:4: DtypeWarning:\n",
      "\n",
      "Columns (4,5,8) have mixed types. Specify dtype option on import or set low_memory=False.\n",
      "\n"
     ]
    },
    {
     "name": "stdout",
     "output_type": "stream",
     "text": [
      "Le fichier data/Subvention_normalized_data_with_NAF.csv Le fichier data/Subvention_normalized_data_with_NAF.csv existe déjà. On passe directement au Dashboard global Region.\n"
     ]
    }
   ],
   "source": [
    "subventions_normalized_data = pd.read_csv(path_to_data+'/subventions_normalized_data.csv', on_bad_lines='skip', sep=';')\n",
    "selected_communities_data = pd.read_csv(path_to_data+'/selected_communities_data.csv', sep=';')\n",
    "marches_publics_normalized_data = pd.read_csv(path_to_data+'/marches_publics_normalized_data.csv', sep=';')\n",
    "all_communities_data = pd.read_csv(path_to_data+'/all_communities_data.csv', sep=';')\n"
   ]
  },
  {
   "cell_type": "code",
   "execution_count": null,
   "id": "b8f234a5-3d28-40ac-9605-1abd7522b245",
   "metadata": {},
   "outputs": [],
   "source": [
    "communesdepartementregion = pd.read_csv(path_to_data+'/20230823-communes-departement-region.csv')"
   ]
  },
  {
   "cell_type": "markdown",
   "id": "78a59615-346d-40ad-9e47-f54a130291f4",
   "metadata": {},
   "source": [
    "## Clean Siret"
   ]
  },
  {
   "cell_type": "code",
   "execution_count": null,
   "id": "94f2142b-9a8e-410a-84de-1ab7bc970196",
   "metadata": {},
   "outputs": [],
   "source": [
    "\n",
    "subventions_normalized_data['idbeneficiaire'] = subventions_normalized_data['idbeneficiaire'].apply(clean_numeros)\n",
    "subventions_normalized_data['nombeneficiaire'] = subventions_normalized_data['nombeneficiaire'].apply(clean_numeros)\n",
    "\n",
    "subventions_normalized_data[['siret_bene', 'siren_bene', 'nombeneficiaire_new','switch']] = subventions_normalized_data.apply(\n",
    "    lambda row: pd.Series(classify_id(row['idbeneficiaire'], row['nombeneficiaire'])), axis=1\n",
    ")\n",
    "subventions_normalized_data['dateconvention'] = pd.to_datetime(subventions_normalized_data['dateconvention'], errors='coerce')\n",
    "subventions_normalized_data['year'] = subventions_normalized_data['dateconvention'].dt.year\n",
    "# subventation = subventions_normalized_data.loc[~(subventions_normalized_data['montant'].isna())]\n",
    "# subventation = subventation.loc[subventation['montant']!=0]\n",
    "subventions_normalized_data = subventions_normalized_data.rename(columns={'siren': 'siren_attribuant'})"
   ]
  },
  {
   "cell_type": "markdown",
   "id": "17750c80-0a5c-453e-9848-c010e2363764",
   "metadata": {},
   "source": [
    "### Add code NAF"
   ]
  },
  {
   "cell_type": "code",
   "execution_count": null,
   "id": "9e91cbc7-9013-4088-94cf-1674897b36f0",
   "metadata": {},
   "outputs": [],
   "source": [
    "list_siret_bene = list(set(subventions_normalized_data['siret_bene']))\n",
    "list_siret_bene =  np.array([np.nan if pd.isna(i) else np.int64(i) for i in list_siret_bene])\n",
    "subventions_normalized_data = subventions_normalized_data.merge(selected_communities_data[['nom','type','cog', 'population','longitude',\n",
    "       'latitude']], \n",
    "                     left_on=['nom','type'], \n",
    "                     right_on=['nom','type'], \n",
    "                     how='left')\n",
    "\n",
    "data_naf = pd.read_excel(\"data/int_courts_naf_rev_2.xls\")\n",
    "data_naf = data_naf.loc[~(data_naf['Code'].isna())]\n",
    "data_naf.columns = ['ligne', 'Code', 'Intitulés de la NAF rév. 2, version finale',\n",
    "       'Intitulés NAF rév. 2, \\nen 65 caractères',\n",
    "       'Intitulés NAF rév. 2, \\nen 40 caractères']"
   ]
  },
  {
   "cell_type": "markdown",
   "id": "750f0bc9-4725-4d6a-befa-2004ea3d5b7e",
   "metadata": {},
   "source": []
  },
  {
   "cell_type": "code",
   "execution_count": null,
   "id": "cedc9f50-c9e3-494b-b28b-9e2d0c1ab9cd",
   "metadata": {},
   "outputs": [],
   "source": [
    "\n",
    "chunksize = 10**5\n",
    "data_siret = pd.DataFrame({})\n",
    "\n",
    "for chunk in pd.read_csv(path_to_data+'/StockEtablissement_utf8.csv', chunksize=chunksize, low_memory=False):\n",
    "\n",
    "    data_siret = pd.concat([data_siret,chunk.loc[chunk['siret'].isin(list_siret_bene)]])\n",
    "# À la fin de la boucle, 'data_siret' contient toutes les lignes du fichier CSV 'StockEtablissement_utf8.csv'\n",
    "# où la colonne 'siret' correspond à une valeur de 'list_siret_bene'"
   ]
  },
  {
   "cell_type": "code",
   "execution_count": null,
   "id": "3f74ea2d-7bbb-4073-a7d6-ca90ae030c06",
   "metadata": {},
   "outputs": [],
   "source": [
    "data_siret[\"siret\"] = data_siret[\"siret\"].astype(str)\n",
    "index_to_put = ['siren','siret','nic','trancheEffectifsEtablissement','activitePrincipaleEtablissement','activitePrincipaleRegistreMetiersEtablissement','codeCommuneEtablissement','nomenclatureActivitePrincipaleEtablissement']\n",
    "\n",
    "df_merged = subventions_normalized_data.merge(data_siret.loc[:,index_to_put], left_on=\"siret_bene\", right_on=\"siret\", how=\"left\")\n",
    "\n",
    "df_merged['NAF_subsector'] = df_merged['activitePrincipaleEtablissement'].str.extract(r'(\\d{2})')\n",
    "\n",
    "df_merged = df_merged.merge(\n",
    "    data_naf[['Code', 'Intitulés de la NAF rév. 2, version finale']], \n",
    "    left_on=\"NAF_subsector\", right_on=\"Code\", how=\"left\",\n",
    "    suffixes=('', '_drop')\n",
    ").rename(columns={'Intitulés de la NAF rév. 2, version finale': 'Naf_subsector_name'})\n",
    "\n",
    "df_merged = df_merged.merge(\n",
    "    data_naf[['Code', 'Intitulés NAF rév. 2, \\nen 40 caractères']], \n",
    "    left_on=\"activitePrincipaleEtablissement\", right_on=\"Code\", how=\"left\",\n",
    "    suffixes=('', '_drop')  \n",
    ").rename(columns={'Intitulés NAF rév. 2, \\nen 40 caractères': 'Naf_subsubsector_name'})\n",
    "\n",
    "df_merged = df_merged.drop(columns=['NAF_subsector', 'Code', 'Code_drop'], errors='ignore')\n",
    "\n"
   ]
  },
  {
   "cell_type": "code",
   "execution_count": null,
   "id": "cf24f826-cca7-43f4-8f62-488fd5733a05",
   "metadata": {},
   "outputs": [],
   "source": [
    "\n",
    "data_naf_sector = data_naf[['Code', 'Intitulés NAF rév. 2, \\nen 40 caractères']]\n",
    "\n",
    "# Initialisation des variables\n",
    "sections = []\n",
    "codes = []\n",
    "titles = []\n",
    "current_codes = []\n",
    "current_section = None\n",
    "current_title = None\n",
    "\n",
    "# Parcours du dataframe pour regrouper les codes par section\n",
    "for _, row in data_naf_sector.iterrows():\n",
    "    if 'SECTION' in row['Code']:  # Nouvelle section détectée\n",
    "        if current_codes:  \n",
    "            codes.append(current_codes)\n",
    "            sections.append(current_section)\n",
    "            titles.append(current_title)\n",
    "\n",
    "        current_section = row['Code']\n",
    "        current_title = row['Intitulés NAF rév. 2, \\nen 40 caractères']\n",
    "        current_codes = []\n",
    "    else:\n",
    "        current_codes.append(row['Code'])\n",
    "\n",
    "if current_codes:\n",
    "    codes.append(current_codes)\n",
    "    sections.append(current_section)\n",
    "    titles.append(current_title)\n",
    "\n",
    "df_naf_section = pd.DataFrame({\n",
    "    'SECTION': sections,\n",
    "    'Intitulés NAF rév. 2, \\nen 40 caractères': titles,\n",
    "    'Code': codes\n",
    "})\n",
    "\n",
    "naf_section_mapping = {code: title for codes_list, title in zip(df_naf_section['Code'], df_naf_section['Intitulés NAF rév. 2, \\nen 40 caractères']) for code in codes_list}\n",
    "\n",
    "df_merged['section NAF'] = df_merged['activitePrincipaleEtablissement'].map(naf_section_mapping)\n",
    "subventions_normalized_data_with_NAF = df_merged.drop(columns=['Unnamed: 0'], errors='ignore')"
   ]
  },
  {
   "cell_type": "code",
   "execution_count": null,
   "id": "30d4c664-3739-4d24-978a-65b96f19dd20",
   "metadata": {},
   "outputs": [],
   "source": []
  },
  {
   "cell_type": "code",
   "execution_count": null,
   "id": "a9521c06-00e3-4a59-be05-67404ec258b9",
   "metadata": {},
   "outputs": [],
   "source": [
    "#df_merged_subvention.to_csv('data/Subvention_new_data.csv')"
   ]
  },
  {
   "cell_type": "markdown",
   "id": "a80a59e5-0c70-407f-bd2f-8d0e50261c29",
   "metadata": {},
   "source": [
    "## DASHBOARD REGION GLOBAL"
   ]
  },
  {
   "cell_type": "code",
   "execution_count": null,
   "id": "4cf55896-aa47-4d17-8e8f-aa5b1c961c57",
   "metadata": {},
   "outputs": [],
   "source": []
  },
  {
   "cell_type": "code",
   "execution_count": null,
   "id": "3807f808-1fd7-43c9-84c7-c34a6ddfacde",
   "metadata": {},
   "outputs": [],
   "source": [
    "data_reg = subventions_normalized_data_with_NAF.loc[subventions_normalized_data_with_NAF['type'] == 'REG']"
   ]
  },
  {
   "cell_type": "markdown",
   "id": "277a89dc-e172-4696-bae5-ddbc14089d0f",
   "metadata": {},
   "source": [
    "J'enleve si il n'y a pas d'année"
   ]
  },
  {
   "cell_type": "code",
   "execution_count": null,
   "id": "241f2294-561b-48f9-9a99-4663d452528b",
   "metadata": {},
   "outputs": [],
   "source": [
    "data_reg = data_reg.dropna(subset=['year'])"
   ]
  },
  {
   "cell_type": "code",
   "execution_count": null,
   "id": "20928762-7e42-4442-bf5a-6ad8134e1a76",
   "metadata": {},
   "outputs": [],
   "source": [
    "data_reg['year'] = data_reg['year'].astype('Int64')\n",
    "data_reg['cog'] = data_reg['cog'].astype('Int64')\n",
    "\n",
    "data_reg_group = data_reg.groupby(['year','nom','population','longitude','latitude','cog']).sum().reset_index()\n",
    "data_reg_group['year'] = data_reg_group['year'].astype(int)\n",
    "data_reg_group = data_reg_group.merge(Data_region_statistique_mean, on = ['year','cog'])"
   ]
  },
  {
   "cell_type": "code",
   "execution_count": null,
   "id": "4173b50c-7823-4797-9bc8-0996d9d7f949",
   "metadata": {},
   "outputs": [],
   "source": [
    "\n",
    "# Fonction pour formater les montants\n",
    "def custom_format(val):\n",
    "    if val >= 1_000_000_000:\n",
    "        return f\"{val / 1_000_000_000:.1f} Md\"\n",
    "    elif val >= 1_000_000:\n",
    "        return f\"{val / 1_000_000:.1f} Mi\"\n",
    "    else:\n",
    "        return f\"{val:.0f}\"\n",
    "\n",
    "data_reg_group['montant_formatted'] = data_reg_group['montant'].apply(custom_format)\n",
    "\n",
    "# Charger le GeoJSON des régions françaises\n",
    "geojson_path = path_to_data + \"/regions.geojson\"\n",
    "with open(geojson_path, \"r\", encoding=\"utf-8\") as file:\n",
    "    geojson_regions = json.load(file)\n",
    "\n",
    "fig = px.choropleth_mapbox(\n",
    "    data_reg_group[data_reg_group['year'] == 2014],  # Filtrer les données pour l'année 2014\n",
    "    geojson=geojson_regions,\n",
    "    locations=\"cog\",\n",
    "    featureidkey=\"properties.code\",\n",
    "    color=\"montant\",\n",
    "    color_continuous_scale=\"Viridis\",\n",
    "    hover_name=\"nom\",\n",
    "    hover_data=[\"montant_formatted\"],\n",
    "    mapbox_style=\"carto-positron\",\n",
    "    zoom=4.5,\n",
    "    center={\"lat\": 46.603354, \"lon\": 1.888334},\n",
    "    opacity=0.7,\n",
    "    title=\"Carte des Subventions par Région (2014)\",\n",
    ")\n",
    "\n",
    "buttons = [\n",
    "    {\n",
    "        \"args\": [{\"visible\": [year == selected_year for selected_year in sorted(data_reg_group['year'].unique())]}, \n",
    "                 {\"title\": f\"Carte des Subventions par Région ({year})\"}],\n",
    "        \"label\": f\"{year}\",\n",
    "        \"method\": \"update\"\n",
    "    }\n",
    "    for year in sorted(data_reg_group['year'].unique())\n",
    "]\n",
    "\n",
    "\n",
    "fig.update_layout(\n",
    "        coloraxis_colorbar=dict(\n",
    "        title=\"Montant des Subventions (€)\",\n",
    "        tickvals=[0, 1000000000, 5000000000, 10000000000],  # Les valeurs à afficher\n",
    "        ticktext=[\"0\", \"1 Md\", \"5 Md\",\"10 Md\"],  # Texte des ticks\n",
    "    ),\n",
    "    updatemenus=[\n",
    "        {\n",
    "            \"buttons\": buttons,\n",
    "            \"direction\": \"down\",\n",
    "            \"showactive\": True,\n",
    "            \"active\": 0,\n",
    "            \"x\": 0.17,\n",
    "            \"xanchor\": \"left\",\n",
    "            \"y\": 0.98,\n",
    "            \"yanchor\": \"top\"\n",
    "        }\n",
    "    ],\n",
    "    geo=dict(\n",
    "        showcoastlines=True,\n",
    "        coastlinecolor=\"Black\",\n",
    "        projection_type=\"mercator\",\n",
    "        showland=True,\n",
    "        landcolor=\"lightgray\",\n",
    "    ),\n",
    "    width=800,\n",
    "    height=600\n",
    ")\n",
    "\n",
    "for year in sorted(data_reg_group['year'].unique()):\n",
    "    fig.add_trace(\n",
    "        px.choropleth_mapbox(\n",
    "            data_reg_group[data_reg_group['year'] == year],\n",
    "            geojson=geojson_regions,\n",
    "            locations=\"cog\",\n",
    "            featureidkey=\"properties.code\",\n",
    "            color=\"montant\",\n",
    "            color_continuous_scale=\"Viridis\",\n",
    "            hover_name=\"nom\",\n",
    "            hover_data=[\"montant_formatted\"],\n",
    "            mapbox_style=\"carto-positron\",\n",
    "            opacity=0.7,\n",
    "        ).data[0]\n",
    "    )\n",
    "\n",
    "fig.show()\n",
    "# fig.write_image(\"carte_subventions_region.png\")\n",
    "# fig.write_html(\"carte_subventions_region.html\")"
   ]
  },
  {
   "cell_type": "markdown",
   "id": "6effca4a-4fcd-4747-8e55-bb4aa36b24a4",
   "metadata": {},
   "source": [
    "### Carte Sub with data on region"
   ]
  },
  {
   "cell_type": "code",
   "execution_count": null,
   "id": "b09167a7-0540-45a5-88c3-83c6d8982e6d",
   "metadata": {},
   "outputs": [],
   "source": [
    "\n",
    "# Création de l'application Dash\n",
    "app = dash.Dash(__name__)\n",
    "\n",
    "\n",
    "geojson_path = path_to_data + \"/regions.geojson\"\n",
    "with open(geojson_path, \"r\", encoding=\"utf-8\") as file:\n",
    "    geojson_regions = json.load(file)\n",
    "\n",
    "\n",
    "# Fonction pour formater les montants\n",
    "def custom_format(val):\n",
    "    if val >= 1_000_000_000:\n",
    "        return f\"{val / 1_000_000_000:.1f} Md\"\n",
    "    elif val >= 1_000_000:\n",
    "        return f\"{val / 1_000_000:.1f} Mi\"\n",
    "    else:\n",
    "        return f\"{val:.0f}\"\n",
    "\n",
    "\n",
    "data_reg_group['montant_formatted'] = data_reg_group['montant'].apply(custom_format)\n",
    "\n",
    "\n",
    "def create_map(year):\n",
    "    filtered_data = data_reg_group[data_reg_group['year'] == year]\n",
    "    \n",
    "    fig = px.choropleth_mapbox(\n",
    "        filtered_data, \n",
    "        geojson=geojson_regions,\n",
    "        locations=\"cog\",\n",
    "        featureidkey=\"properties.code\",\n",
    "        color=\"montant\",\n",
    "        color_continuous_scale=\"Viridis\",\n",
    "        hover_name=\"nom\",\n",
    "        hover_data=[\"montant_formatted\"],\n",
    "        mapbox_style=\"carto-positron\",\n",
    "        zoom=4.5,\n",
    "        center={\"lat\": 46.603354, \"lon\": 1.888334},\n",
    "        opacity=0.7,\n",
    "    )\n",
    "    \n",
    "    fig.update_layout(\n",
    "        title=f\"Carte des Subventions par Région ({year})\",\n",
    "        coloraxis_colorbar=dict(\n",
    "            title=\"Montant des Subventions (€)\",\n",
    "            tickvals=[0, 1000000000, 5000000000, 10000000000],\n",
    "            ticktext=[\"0\", \"1 Md\", \"5 Md\", \"10 Md\"]\n",
    "        ),\n",
    "        geo=dict(\n",
    "            showcoastlines=True,\n",
    "            coastlinecolor=\"Black\",\n",
    "            projection_type=\"mercator\",\n",
    "            showland=True,\n",
    "            landcolor=\"lightgray\",\n",
    "        ),\n",
    "        width=800,\n",
    "        height=600,\n",
    "        margin={\"r\":0,\"t\":50,\"l\":0,\"b\":0}  # Ajuster les marges pour l'affichage\n",
    "    )\n",
    "    \n",
    "    return fig\n",
    "\n",
    "\n",
    "app.layout = html.Div([\n",
    "    html.Div([\n",
    "        dcc.Dropdown(\n",
    "            id='year-dropdown',\n",
    "            options=[{'label': str(year), 'value': year} for year in sorted(data_reg_group['year'].unique())],\n",
    "            value=2014,\n",
    "            style={'width': '50%'}\n",
    "        ),\n",
    "        dcc.Graph(\n",
    "            id='choropleth-map',\n",
    "            figure=create_map(2014)  \n",
    "        ),\n",
    "    ], style={'width': '100%', 'display': 'inline-block'}),  \n",
    "\n",
    "    html.Div([\n",
    "        html.H3(\"Détails de la région\"),\n",
    "        html.Div(id='region-details', style={'white-space': 'pre-line'})  \n",
    "    ], style={'width': '100%', 'display': 'inline-block', 'padding-top': '20px'})  \n",
    "])\n",
    "\n",
    "@app.callback(\n",
    "    [Output('choropleth-map', 'figure'),\n",
    "     Output('region-details', 'children')],\n",
    "    [Input('year-dropdown', 'value'),\n",
    "     Input('choropleth-map', 'clickData')]\n",
    ")\n",
    "def update_map(year, clickData):\n",
    "    fig = create_map(year)  \n",
    "    \n",
    "    if clickData is None:\n",
    "        return fig, \"Cliquez sur une région pour afficher les détails.\"\n",
    "    \n",
    "    region_code = clickData['points'][0]['location']\n",
    "    \n",
    "    region_data = data_reg_group[(data_reg_group['cog'] == region_code) & (data_reg_group['year'] == year)].iloc[0]\n",
    "    \n",
    "    return fig, html.Div([\n",
    "        html.P(f\"Nom de la région: {region_data['nom']}\"),\n",
    "        html.P(f\"Président du conseil régional: {region_data['Président du conseil régional']}\"),\n",
    "        html.P(f\"Parti politique: {region_data['Parti politique']}\"),\n",
    "        html.P(f\"Chômage moyen: {region_data['Chomage moyenne anneé']:.2f}%\"),\n",
    "        html.P(f\"Moins de 20 ans: {region_data['Moins de 20 ans']}\"),\n",
    "        html.P(f\"De 20 à 64 ans: {region_data['De 20 à 64 ans']}\"),\n",
    "        html.P(f\"65 ans et plus: {region_data['65 ans et plus']}\"),\n",
    "        html.P(f\"Total population: {region_data['Total']}\")\n",
    "    ])\n",
    "\n",
    "if __name__ == '__main__':\n",
    "    app.run_server(debug=True)\n"
   ]
  },
  {
   "cell_type": "markdown",
   "id": "9d7f3593-88c9-43b8-8c00-eaed53487ec3",
   "metadata": {},
   "source": [
    "# UNE SEULE REGION "
   ]
  },
  {
   "cell_type": "code",
   "execution_count": null,
   "id": "40e6f717-170f-487e-b402-3937b5ae1a05",
   "metadata": {},
   "outputs": [],
   "source": [
    "data_reg['cog'].value_counts()"
   ]
  },
  {
   "cell_type": "code",
   "execution_count": null,
   "id": "dfa05f0b-de76-40e7-b23d-0a6bf2da6ca4",
   "metadata": {},
   "outputs": [],
   "source": [
    "COG = 53"
   ]
  },
  {
   "cell_type": "code",
   "execution_count": null,
   "id": "19b3cf7f-a021-47f0-baa7-7b11882107d8",
   "metadata": {},
   "outputs": [],
   "source": [
    "region = data_reg.loc[data_reg['cog'] == COG,'nomattribuant'].unique()[0]"
   ]
  },
  {
   "cell_type": "code",
   "execution_count": null,
   "id": "eb3fa099-43d5-4b39-8bbf-929ee895fdc8",
   "metadata": {},
   "outputs": [],
   "source": [
    "data_region = data_reg[data_reg['cog'] == COG]"
   ]
  },
  {
   "cell_type": "code",
   "execution_count": null,
   "id": "0ba222b1-cfbe-43d2-b73d-0f24bd0aa910",
   "metadata": {},
   "outputs": [],
   "source": [
    "subventions_beneficiaire_region = data_region.groupby(['year', 'nombeneficiaire'])['montant'].sum().reset_index()"
   ]
  },
  {
   "cell_type": "markdown",
   "id": "2349d343-e631-4518-a4a9-4087d76a884f",
   "metadata": {},
   "source": [
    "## Subventation per year"
   ]
  },
  {
   "cell_type": "code",
   "execution_count": null,
   "id": "79629624-85bf-4d82-be58-c6130a9492ce",
   "metadata": {},
   "outputs": [],
   "source": [
    "subventions_region_per_year = data_region.groupby(['year'])['montant'].sum().reset_index()"
   ]
  },
  {
   "cell_type": "code",
   "execution_count": null,
   "id": "93fe765a-3cb8-456e-88f2-1899b318a740",
   "metadata": {},
   "outputs": [],
   "source": [
    "fig = px.bar(subventions_region_per_year, x=\"year\", y=\"montant\", barmode=\"group\",\n",
    "              title=f\"Montant attribué par la {region} et par année\")\n",
    "\n",
    "fig.show()"
   ]
  },
  {
   "cell_type": "markdown",
   "id": "42fabd4f-b5d3-416b-a42a-072a9a00d543",
   "metadata": {},
   "source": [
    "## Beneficiaire"
   ]
  },
  {
   "cell_type": "code",
   "execution_count": null,
   "id": "7bf03533-b79e-44cc-8dac-9b92712662aa",
   "metadata": {},
   "outputs": [],
   "source": [
    "subventions_beneficiaire_region_sorted = subventions_beneficiaire_region.sort_values(by=['year','montant'], ascending=[True, False])"
   ]
  },
  {
   "cell_type": "code",
   "execution_count": null,
   "id": "e5f8c4c0-92ad-473b-83b1-b78fc6ef1bf1",
   "metadata": {},
   "outputs": [],
   "source": [
    "\n",
    "top_beneficiaries = pd.DataFrame()\n",
    "\n",
    "# Parcourir chaque région et sélectionner les 10 plus gros bénéficiaires\n",
    "for year in subventions_beneficiaire_region_sorted['year'].unique():\n",
    "    year_data = subventions_beneficiaire_region_sorted[subventions_beneficiaire_region_sorted['year'] == year]\n",
    "    top_10_region = year_data.sort_values(by='montant', ascending=False).head(10)\n",
    "    top_beneficiaries = pd.concat([top_beneficiaries, top_10_region])\n",
    "\n",
    "for year in [2019,2020,2021,2022,2023,2024]:\n",
    "    year_data = top_beneficiaries[top_beneficiaries['year'] == year]\n",
    "\n",
    "    fig = px.bar(year_data, \n",
    "                 x='nombeneficiaire', \n",
    "                 y='montant', \n",
    "                 title=f\"Top 10 des bénéficiaires - {year}\",\n",
    "                 labels={'nombeneficiaire': 'Bénéficiaire', 'montant': 'Montant total'},\n",
    "                 color='nombeneficiaire',  # Chaque bénéficiaire a une couleur différente\n",
    "                 height=600)\n",
    "\n",
    "\n",
    "    fig.update_layout(  xaxis = go.XAxis(\n",
    "        title = 'Bénéficiaire',\n",
    "        showticklabels=False),)\n",
    "\n",
    "   # fig.write_image(f\"Top_beneficiaires{region}.pdf\")\n",
    "\n",
    "    fig.show()\n"
   ]
  },
  {
   "cell_type": "markdown",
   "id": "d0124025-49d4-49dc-a741-5b8f89517313",
   "metadata": {},
   "source": [
    "## Section NAF"
   ]
  },
  {
   "cell_type": "code",
   "execution_count": null,
   "id": "22eecbf1-de54-4ade-af18-320208766844",
   "metadata": {},
   "outputs": [],
   "source": []
  },
  {
   "cell_type": "code",
   "execution_count": null,
   "id": "8e3e9f3f-f37c-4df5-98cf-0fb8623444c6",
   "metadata": {},
   "outputs": [],
   "source": [
    "data_region2019 = data_region.loc[data_region['year'] == 2019.0]\n",
    "data_region2019_section = data_region2019.groupby('section NAF').sum()\n",
    "data_region2019_section = data_region2019_section.reset_index()"
   ]
  },
  {
   "cell_type": "code",
   "execution_count": null,
   "id": "b426e6fb-2d5d-445f-a328-1a0fecc111ef",
   "metadata": {},
   "outputs": [],
   "source": [
    "\n",
    "fig = px.bar(\n",
    "    data_region2019_section, \n",
    "    x=\"montant\", \n",
    "    y='section NAF', \n",
    "    barmode=\"group\",  \n",
    "    height=600,  \n",
    "    title=f\"Montant des subventions par Intitulé NAF section, 2019 {region}\",\n",
    "    orientation='h'  \n",
    ")\n",
    "\n",
    "fig.update_xaxes(title_text=\"Montant\")\n",
    "fig.update_yaxes(title_text=\"Intitulé Section NAF\")\n",
    "\n",
    "fig.show()\n",
    "#fig.write_image(\"Montant_Subvention_code_NAF.pdf\")\n"
   ]
  },
  {
   "cell_type": "code",
   "execution_count": null,
   "id": "ecfc2767-5e15-4a2f-81ba-8eab85c2d2ed",
   "metadata": {},
   "outputs": [],
   "source": [
    "data_region2019 = data_region.loc[data_region['year'] == 2019.0]\n",
    "data_region2019_sub = data_region2019.groupby('Naf_subsector_name').sum()\n",
    "data_region2019_sub = data_region2019_sub.reset_index()"
   ]
  },
  {
   "cell_type": "code",
   "execution_count": null,
   "id": "ab9479b7-d40d-4bb4-94ed-16765591856b",
   "metadata": {},
   "outputs": [],
   "source": [
    "\n",
    "fig = px.bar(\n",
    "    data_region2019_sub, \n",
    "    x=\"montant\", \n",
    "    y='Naf_subsector_name', \n",
    "    barmode=\"group\",  \n",
    "    height=2000,  \n",
    "    title=f\"Montant des subventions par Intitulé NAF section, 2019 {region}\",\n",
    "    orientation='h'  \n",
    ")\n",
    "\n",
    "fig.update_xaxes(title_text=\"Montant\")\n",
    "fig.update_yaxes(title_text=\"Intitulé Section NAF sub-sector\")\n",
    "\n",
    "fig.show()\n",
    "#fig.write_image(\"Montant_Subvention_code_NAF.pdf\")"
   ]
  },
  {
   "cell_type": "code",
   "execution_count": null,
   "id": "6e7c47b0-2fde-40dc-84e6-a9b07a4202f4",
   "metadata": {},
   "outputs": [],
   "source": [
    "data_region2019 = data_region.loc[data_region['year'] == 2019.0]\n",
    "data_region2019_subsub = data_region2019.groupby('Naf_subsubsector_name').sum()\n",
    "data_region2019_subsub = data_region2019_subsub.reset_index()"
   ]
  },
  {
   "cell_type": "code",
   "execution_count": null,
   "id": "ec52e9fe-5b73-4827-bfba-0a9cdad58936",
   "metadata": {},
   "outputs": [],
   "source": [
    "\n",
    "fig = px.bar(\n",
    "    data_region2019_subsub, \n",
    "    x=\"montant\", \n",
    "    y='Naf_subsubsector_name', \n",
    "    barmode=\"group\",  \n",
    "    height=6000,  \n",
    "    title=f\"Montant des subventions par Intitulé NAF section, 2019 {region}\",\n",
    "    orientation='h'  \n",
    ")\n",
    "\n",
    "fig.update_xaxes(title_text=\"Montant\")\n",
    "fig.update_yaxes(title_text=\"Intitulé Section NAF sub-sub sector\")\n",
    "\n",
    "fig.show()\n",
    "#fig.write_image(\"Montant_Subvention_code_NAF.pdf\")"
   ]
  },
  {
   "cell_type": "markdown",
   "id": "3601f366-b78a-46fb-b628-782af04baca8",
   "metadata": {},
   "source": [
    "# Subvention donné par la région à des communes"
   ]
  },
  {
   "cell_type": "code",
   "execution_count": null,
   "id": "afa0e8d1-d4de-4f42-8898-dac76b177e1b",
   "metadata": {},
   "outputs": [],
   "source": [
    "data_administration_gene = data_region.loc[data_region['Naf_subsubsector_name'] == 'Administration publique générale']"
   ]
  },
  {
   "cell_type": "markdown",
   "id": "f0f66684-890c-4992-98e0-5f89117dfd60",
   "metadata": {},
   "source": [
    "Il manque les localisations des communes qui recoivent (toutes ne sont pas dans le csv selected_communities) trouvé ici : https://www.data.gouv.fr/fr/datasets/communes-de-france-base-des-codes-postaux/"
   ]
  },
  {
   "cell_type": "code",
   "execution_count": null,
   "id": "7c21632a-f6e3-4224-9438-850f7873ecdc",
   "metadata": {},
   "outputs": [],
   "source": [
    "communesdepartementregion = pd.read_csv('data/20230823-communes-departement-region.csv')"
   ]
  },
  {
   "cell_type": "code",
   "execution_count": null,
   "id": "23eaf738-ac01-4e37-b475-3ac41ee68fad",
   "metadata": {},
   "outputs": [],
   "source": [
    "convert_to_int = lambda value: int(float(value)) if isinstance(value, (int, float, str)) and str(value).replace('.', '', 1).isdigit() else value\n",
    "\n",
    "communes_data = all_communities_data[all_communities_data['type'] == 'COM']\n",
    "communes_data['cog'] = communes_data['cog'].apply(convert_to_int)\n",
    "\n",
    "communesdepartementregion['code_commune_INSEE'] = communesdepartementregion['code_commune_INSEE'].apply(convert_to_int)\n",
    "\n",
    "merge_data = communes_data.merge(\n",
    "    communesdepartementregion[['code_commune_INSEE', 'latitude', 'longitude']], \n",
    "    left_on=\"cog\", right_on=\"code_commune_INSEE\", how=\"left\"\n",
    ").drop_duplicates()\n",
    "\n",
    "merge_data = merge_data.rename(columns={'latitude': 'latitude_bene', 'longitude': 'longitude_bene'})\n",
    "merge_data['siren'] = merge_data['siren'].astype(str)\n",
    "\n",
    "data_administration_gene2019 = data_administration_gene.merge(\n",
    "    merge_data[['latitude_bene', 'longitude_bene', 'siren', 'cog']], \n",
    "    left_on=\"siren_bene\", right_on=\"siren\", how=\"left\"\n",
    ").drop_duplicates()\n",
    "\n",
    "# Filtrage pour l'année 2019\n",
    "data_administration_gene2019 = data_administration_gene2019[data_administration_gene2019['year'] == 2019]\n",
    "data_administration_gene2019 = data_administration_gene2019.reset_index(drop=True)\n",
    "data_administration_gene2019 = data_administration_gene2019.drop_duplicates()\n"
   ]
  },
  {
   "cell_type": "code",
   "execution_count": null,
   "id": "1021fec6-107a-4103-b94c-fdc8cf39b418",
   "metadata": {},
   "outputs": [],
   "source": []
  },
  {
   "cell_type": "code",
   "execution_count": null,
   "id": "23daa229-a1ce-4d9d-b0f5-393b234559cf",
   "metadata": {},
   "outputs": [],
   "source": [
    "\n",
    "# Fonction pour formater les montants (Mi pour millions, Md pour milliards)\n",
    "def custom_format(val):\n",
    "    if val >= 1_000_000_000:\n",
    "        return f\"{val / 1_000_000_000:.1f} Md\"\n",
    "    elif val >= 1_000_000:\n",
    "        return f\"{val / 1_000_000:.1f} Mi\"\n",
    "    else:\n",
    "        return f\"{val:.0f}\"\n",
    "\n",
    "data_administration_gene2019['montant_formatted'] = data_administration_gene2019['montant'].apply(custom_format)\n",
    "\n",
    "fig = px.scatter_mapbox(\n",
    "    data_administration_gene2019,\n",
    "    lat=\"latitude_bene\", \n",
    "    lon=\"longitude_bene\",  \n",
    "    hover_name=\"nombeneficiaire\",  \n",
    "    hover_data=[\"montant_formatted\"], \n",
    "    color=\"montant\",  \n",
    "    color_continuous_scale=\"Viridis\",  \n",
    "    size_max=4.5,  \n",
    "    title=f\"Carte des Subventions donner aux communes par la {region}\",\n",
    "    mapbox_style=\"carto-positron\", \n",
    "    zoom=6,  \n",
    "    range_color=[0, 200000] \n",
    ")\n",
    "\n",
    "fig.update_layout(\n",
    "    coloraxis_colorbar=dict(\n",
    "        title=\"Montant des Subventions (€)\",\n",
    "        tickvals=[0, 10000, 20000,50000,70000,100000,200000],\n",
    "        ticktext=[\"0\", \"10k\", \"20k\", \"50k\",\"70k\",\"100k\",\"200k\"]\n",
    "    ),\n",
    "    width=800, \n",
    "    height=600  \n",
    ")\n",
    "\n",
    "app = dash.Dash(__name__)\n",
    "\n",
    "app.layout = html.Div([\n",
    "    dcc.Graph(id='map', figure=fig),\n",
    "    html.Div(id='info-box', children=\"Cliquez sur une commune pour afficher ses informations.\")\n",
    "])\n",
    "\n",
    "@app.callback(\n",
    "    Output('info-box', 'children'),\n",
    "    [Input('map', 'clickData')]\n",
    ")\n",
    "def update_info(clickData):\n",
    "    if clickData:\n",
    "        commune_name = clickData['points'][0]['hovertext']\n",
    "        \n",
    "        commune_data = data_administration_gene2019[data_administration_gene2019['nombeneficiaire'] == commune_name]\n",
    "        \n",
    "        objets = commune_data['objet'].unique()\n",
    "        \n",
    "        formatted_objets = \", \".join(objets) if len(objets) > 1 else objets[0]\n",
    "        result = f\"Commune: {commune_name}\\nObjets associés: {formatted_objets}\"\n",
    "\n",
    "        return result\n",
    "    else:\n",
    "        return \"Cliquez sur une commune pour afficher ses informations.\"\n",
    "\n",
    "if __name__ == '__main__':\n",
    "    app.run_server(debug=True)\n"
   ]
  },
  {
   "cell_type": "code",
   "execution_count": null,
   "id": "ca5f3656-cf81-4dd0-ba59-29d945e45fe8",
   "metadata": {},
   "outputs": [],
   "source": []
  },
  {
   "cell_type": "markdown",
   "id": "2f5ffeb5-5135-4d72-ab7f-9158123fe95e",
   "metadata": {},
   "source": [
    "# DEPARTEMENTS"
   ]
  },
  {
   "cell_type": "code",
   "execution_count": null,
   "id": "d291751f-cdc7-4b89-9e2d-fb87f22b32e2",
   "metadata": {},
   "outputs": [],
   "source": []
  },
  {
   "cell_type": "code",
   "execution_count": null,
   "id": "57df308d-55c3-4c1c-a19a-12e16b03c7d6",
   "metadata": {},
   "outputs": [],
   "source": []
  },
  {
   "cell_type": "code",
   "execution_count": null,
   "id": "b0a76fd2-84fe-4d86-a6ad-667ac0bd46b3",
   "metadata": {},
   "outputs": [],
   "source": []
  }
 ],
 "metadata": {
  "kernelspec": {
   "display_name": "Python 3 (ipykernel)",
   "language": "python",
   "name": "python3"
  },
  "language_info": {
   "codemirror_mode": {
    "name": "ipython",
    "version": 3
   },
   "file_extension": ".py",
   "mimetype": "text/x-python",
   "name": "python",
   "nbconvert_exporter": "python",
   "pygments_lexer": "ipython3",
   "version": "3.9.13"
  }
 },
 "nbformat": 4,
 "nbformat_minor": 5
}
