{
 "cells": [
  {
   "cell_type": "code",
   "execution_count": 24,
   "metadata": {},
   "outputs": [],
   "source": [
    "import pandas as pd\n",
    "import numpy as np\n",
    "import json\n",
    "\n",
    "from cleanup.cleanup_functions_collec import create_collec_staging\n",
    "from cleanup.cleanup_siret_functions import clean_numeros"
   ]
  },
  {
   "cell_type": "markdown",
   "metadata": {},
   "source": [
    "### Upload fichier"
   ]
  },
  {
   "cell_type": "code",
   "execution_count": 25,
   "metadata": {},
   "outputs": [],
   "source": [
    "path = '../data/datasets/'"
   ]
  },
  {
   "cell_type": "code",
   "execution_count": 26,
   "metadata": {},
   "outputs": [],
   "source": [
    "communities_df = pd.read_csv(path + 'all_communities_data.csv', delimiter=';', low_memory=False, index_col=False)"
   ]
  },
  {
   "cell_type": "markdown",
   "metadata": {},
   "source": [
    "### Nettoyage de données"
   ]
  },
  {
   "cell_type": "code",
   "execution_count": 27,
   "metadata": {},
   "outputs": [],
   "source": [
    "communities_clean = communities_df.copy()"
   ]
  },
  {
   "cell_type": "code",
   "execution_count": 28,
   "metadata": {},
   "outputs": [
    {
     "name": "stdout",
     "output_type": "stream",
     "text": [
      "Cleaning duplicates: 36353 entries\n"
     ]
    },
    {
     "name": "stdout",
     "output_type": "stream",
     "text": [
      "After removing duplicates: 36353 entries\n",
      "drop colummns: 18 columns\n",
      " After droping columns : 11 columns\n",
      "Cleaning duplicates 'nom', 'type', and 'siren': 36353 entries\n",
      "After removing duplicates: 36347 entries\n"
     ]
    }
   ],
   "source": [
    "communities_clean = create_collec_staging(communities_clean)"
   ]
  },
  {
   "cell_type": "code",
   "execution_count": 29,
   "metadata": {},
   "outputs": [
    {
     "data": {
      "text/plain": [
       "(36347, 11)"
      ]
     },
     "execution_count": 29,
     "metadata": {},
     "output_type": "execute_result"
    }
   ],
   "source": [
    "communities_clean.shape"
   ]
  },
  {
   "cell_type": "markdown",
   "metadata": {},
   "source": [
    "### Enrichir les données"
   ]
  },
  {
   "cell_type": "code",
   "execution_count": 30,
   "metadata": {},
   "outputs": [],
   "source": [
    "communities_final = communities_clean.copy()"
   ]
  },
  {
   "cell_type": "markdown",
   "metadata": {},
   "source": [
    "#### 1. Latitude longitude\n",
    "**source** : selected_communities_data.csv"
   ]
  },
  {
   "cell_type": "code",
   "execution_count": 31,
   "metadata": {},
   "outputs": [],
   "source": [
    "selected_communities = pd.read_csv(path + 'selected_communities_data.csv', delimiter=';')"
   ]
  },
  {
   "cell_type": "code",
   "execution_count": 32,
   "metadata": {},
   "outputs": [
    {
     "data": {
      "text/html": [
       "<div>\n",
       "<style scoped>\n",
       "    .dataframe tbody tr th:only-of-type {\n",
       "        vertical-align: middle;\n",
       "    }\n",
       "\n",
       "    .dataframe tbody tr th {\n",
       "        vertical-align: top;\n",
       "    }\n",
       "\n",
       "    .dataframe thead th {\n",
       "        text-align: right;\n",
       "    }\n",
       "</style>\n",
       "<table border=\"1\" class=\"dataframe\">\n",
       "  <thead>\n",
       "    <tr style=\"text-align: right;\">\n",
       "      <th></th>\n",
       "      <th>Unnamed: 0</th>\n",
       "      <th>nom</th>\n",
       "      <th>siren</th>\n",
       "      <th>type</th>\n",
       "      <th>cog</th>\n",
       "      <th>cog_3digits</th>\n",
       "      <th>code_departement</th>\n",
       "      <th>code_departement_3digits</th>\n",
       "      <th>code_region</th>\n",
       "      <th>population</th>\n",
       "      <th>epci</th>\n",
       "      <th>url_ptf</th>\n",
       "      <th>url_datagouv</th>\n",
       "      <th>id_datagouv</th>\n",
       "      <th>merge</th>\n",
       "      <th>ptf</th>\n",
       "      <th>trancheeffectifsunitelegale</th>\n",
       "      <th>effectifssup50</th>\n",
       "      <th>longitude</th>\n",
       "      <th>latitude</th>\n",
       "    </tr>\n",
       "  </thead>\n",
       "  <tbody>\n",
       "    <tr>\n",
       "      <th>0</th>\n",
       "      <td>0</td>\n",
       "      <td>Guadeloupe</td>\n",
       "      <td>239710015</td>\n",
       "      <td>REG</td>\n",
       "      <td>1</td>\n",
       "      <td>NaN</td>\n",
       "      <td>NaN</td>\n",
       "      <td>NaN</td>\n",
       "      <td>NaN</td>\n",
       "      <td>396153.0</td>\n",
       "      <td>NaN</td>\n",
       "      <td>https://regionguadeloupe.opendatasoft.com/expl...</td>\n",
       "      <td>NaN</td>\n",
       "      <td>NaN</td>\n",
       "      <td>ptf</td>\n",
       "      <td>KaruData</td>\n",
       "      <td>42.0</td>\n",
       "      <td>True</td>\n",
       "      <td>-61.568686</td>\n",
       "      <td>16.252882</td>\n",
       "    </tr>\n",
       "    <tr>\n",
       "      <th>1</th>\n",
       "      <td>1</td>\n",
       "      <td>Île-de-France</td>\n",
       "      <td>237500079</td>\n",
       "      <td>REG</td>\n",
       "      <td>11</td>\n",
       "      <td>NaN</td>\n",
       "      <td>NaN</td>\n",
       "      <td>NaN</td>\n",
       "      <td>NaN</td>\n",
       "      <td>12291279.0</td>\n",
       "      <td>NaN</td>\n",
       "      <td>https://data.iledefrance.fr/explore/?refine.pu...</td>\n",
       "      <td>https://www.data.gouv.fr/fr/organizations/534f...</td>\n",
       "      <td>534fffa8a3a7292c64a780c8</td>\n",
       "      <td>ptf+datagouv</td>\n",
       "      <td>Ile-de-France, DataGouv</td>\n",
       "      <td>53.0</td>\n",
       "      <td>True</td>\n",
       "      <td>2.504722</td>\n",
       "      <td>48.709167</td>\n",
       "    </tr>\n",
       "    <tr>\n",
       "      <th>2</th>\n",
       "      <td>2</td>\n",
       "      <td>Martinique</td>\n",
       "      <td>200055507</td>\n",
       "      <td>CTU</td>\n",
       "      <td>2</td>\n",
       "      <td>NaN</td>\n",
       "      <td>NaN</td>\n",
       "      <td>NaN</td>\n",
       "      <td>NaN</td>\n",
       "      <td>377711.0</td>\n",
       "      <td>NaN</td>\n",
       "      <td>NaN</td>\n",
       "      <td>NaN</td>\n",
       "      <td>NaN</td>\n",
       "      <td>NaN</td>\n",
       "      <td>NaN</td>\n",
       "      <td>51.0</td>\n",
       "      <td>True</td>\n",
       "      <td>-61.015827</td>\n",
       "      <td>14.636792</td>\n",
       "    </tr>\n",
       "    <tr>\n",
       "      <th>3</th>\n",
       "      <td>3</td>\n",
       "      <td>Centre-Val de Loire</td>\n",
       "      <td>234500023</td>\n",
       "      <td>REG</td>\n",
       "      <td>24</td>\n",
       "      <td>NaN</td>\n",
       "      <td>NaN</td>\n",
       "      <td>NaN</td>\n",
       "      <td>NaN</td>\n",
       "      <td>2634852.0</td>\n",
       "      <td>NaN</td>\n",
       "      <td>https://data.centrevaldeloire.fr/explore/?sort...</td>\n",
       "      <td>https://www.data.gouv.fr/fr/organizations/regi...</td>\n",
       "      <td>561a7f00c751df4e6dcdbb48</td>\n",
       "      <td>ptf+datagouv</td>\n",
       "      <td>Centre Val-de-Loire, DataGouv</td>\n",
       "      <td>51.0</td>\n",
       "      <td>True</td>\n",
       "      <td>1.685278</td>\n",
       "      <td>47.480556</td>\n",
       "    </tr>\n",
       "    <tr>\n",
       "      <th>4</th>\n",
       "      <td>4</td>\n",
       "      <td>Bourgogne-Franche-Comté</td>\n",
       "      <td>200053726</td>\n",
       "      <td>REG</td>\n",
       "      <td>27</td>\n",
       "      <td>NaN</td>\n",
       "      <td>NaN</td>\n",
       "      <td>NaN</td>\n",
       "      <td>NaN</td>\n",
       "      <td>2885864.0</td>\n",
       "      <td>NaN</td>\n",
       "      <td>https://trouver.ternum-bfc.fr/organization/reg...</td>\n",
       "      <td>https://www.data.gouv.fr/fr/organizations/5835...</td>\n",
       "      <td>5835cdb988ee383e0bc65bb3</td>\n",
       "      <td>ptf+datagouv</td>\n",
       "      <td>Bourgogne-Franche-Comté, DataGouv</td>\n",
       "      <td>51.0</td>\n",
       "      <td>True</td>\n",
       "      <td>4.809167</td>\n",
       "      <td>47.235278</td>\n",
       "    </tr>\n",
       "  </tbody>\n",
       "</table>\n",
       "</div>"
      ],
      "text/plain": [
       "   Unnamed: 0                      nom      siren type cog cog_3digits  \\\n",
       "0           0               Guadeloupe  239710015  REG   1         NaN   \n",
       "1           1            Île-de-France  237500079  REG  11         NaN   \n",
       "2           2               Martinique  200055507  CTU   2         NaN   \n",
       "3           3      Centre-Val de Loire  234500023  REG  24         NaN   \n",
       "4           4  Bourgogne-Franche-Comté  200053726  REG  27         NaN   \n",
       "\n",
       "  code_departement code_departement_3digits code_region  population  epci  \\\n",
       "0              NaN                      NaN         NaN    396153.0   NaN   \n",
       "1              NaN                      NaN         NaN  12291279.0   NaN   \n",
       "2              NaN                      NaN         NaN    377711.0   NaN   \n",
       "3              NaN                      NaN         NaN   2634852.0   NaN   \n",
       "4              NaN                      NaN         NaN   2885864.0   NaN   \n",
       "\n",
       "                                             url_ptf  \\\n",
       "0  https://regionguadeloupe.opendatasoft.com/expl...   \n",
       "1  https://data.iledefrance.fr/explore/?refine.pu...   \n",
       "2                                                NaN   \n",
       "3  https://data.centrevaldeloire.fr/explore/?sort...   \n",
       "4  https://trouver.ternum-bfc.fr/organization/reg...   \n",
       "\n",
       "                                        url_datagouv  \\\n",
       "0                                                NaN   \n",
       "1  https://www.data.gouv.fr/fr/organizations/534f...   \n",
       "2                                                NaN   \n",
       "3  https://www.data.gouv.fr/fr/organizations/regi...   \n",
       "4  https://www.data.gouv.fr/fr/organizations/5835...   \n",
       "\n",
       "                id_datagouv         merge                                ptf  \\\n",
       "0                       NaN           ptf                           KaruData   \n",
       "1  534fffa8a3a7292c64a780c8  ptf+datagouv            Ile-de-France, DataGouv   \n",
       "2                       NaN           NaN                                NaN   \n",
       "3  561a7f00c751df4e6dcdbb48  ptf+datagouv      Centre Val-de-Loire, DataGouv   \n",
       "4  5835cdb988ee383e0bc65bb3  ptf+datagouv  Bourgogne-Franche-Comté, DataGouv   \n",
       "\n",
       "   trancheeffectifsunitelegale  effectifssup50  longitude   latitude  \n",
       "0                         42.0            True -61.568686  16.252882  \n",
       "1                         53.0            True   2.504722  48.709167  \n",
       "2                         51.0            True -61.015827  14.636792  \n",
       "3                         51.0            True   1.685278  47.480556  \n",
       "4                         51.0            True   4.809167  47.235278  "
      ]
     },
     "execution_count": 32,
     "metadata": {},
     "output_type": "execute_result"
    }
   ],
   "source": [
    "selected_communities.head()"
   ]
  },
  {
   "cell_type": "code",
   "execution_count": 33,
   "metadata": {},
   "outputs": [],
   "source": [
    "selected_communities[\"siren\"]= selected_communities[\"siren\"].apply(clean_numeros)"
   ]
  },
  {
   "cell_type": "code",
   "execution_count": 34,
   "metadata": {},
   "outputs": [],
   "source": [
    "communities_final = communities_final.merge(selected_communities[['siren', 'type', 'longitude','latitude']],on=['siren', 'type'], how='left' )"
   ]
  },
  {
   "cell_type": "code",
   "execution_count": 35,
   "metadata": {},
   "outputs": [
    {
     "data": {
      "text/plain": [
       "COM    31841\n",
       "CC         1\n",
       "Name: type, dtype: int64"
      ]
     },
     "execution_count": 35,
     "metadata": {},
     "output_type": "execute_result"
    }
   ],
   "source": [
    "communities_final[communities_final[\"latitude\"].isna()]['type'].value_counts()"
   ]
  },
  {
   "cell_type": "markdown",
   "metadata": {},
   "source": [
    "* **Sources** : \n",
    "    * 20230823-communes-departement-region.csv\n",
    "    * banatic-sireninsee-last.csv"
   ]
  },
  {
   "cell_type": "code",
   "execution_count": 36,
   "metadata": {},
   "outputs": [],
   "source": [
    "com_dep_reg_df = pd.read_csv(path + '20230823-communes-departement-region.csv')"
   ]
  },
  {
   "cell_type": "code",
   "execution_count": 37,
   "metadata": {},
   "outputs": [
    {
     "data": {
      "text/html": [
       "<div>\n",
       "<style scoped>\n",
       "    .dataframe tbody tr th:only-of-type {\n",
       "        vertical-align: middle;\n",
       "    }\n",
       "\n",
       "    .dataframe tbody tr th {\n",
       "        vertical-align: top;\n",
       "    }\n",
       "\n",
       "    .dataframe thead th {\n",
       "        text-align: right;\n",
       "    }\n",
       "</style>\n",
       "<table border=\"1\" class=\"dataframe\">\n",
       "  <thead>\n",
       "    <tr style=\"text-align: right;\">\n",
       "      <th></th>\n",
       "      <th>code_commune_INSEE</th>\n",
       "      <th>nom_commune_postal</th>\n",
       "      <th>code_postal</th>\n",
       "      <th>libelle_acheminement</th>\n",
       "      <th>ligne_5</th>\n",
       "      <th>latitude</th>\n",
       "      <th>longitude</th>\n",
       "      <th>code_commune</th>\n",
       "      <th>article</th>\n",
       "      <th>nom_commune</th>\n",
       "      <th>nom_commune_complet</th>\n",
       "      <th>code_departement</th>\n",
       "      <th>nom_departement</th>\n",
       "      <th>code_region</th>\n",
       "      <th>nom_region</th>\n",
       "    </tr>\n",
       "  </thead>\n",
       "  <tbody>\n",
       "    <tr>\n",
       "      <th>0</th>\n",
       "      <td>1001</td>\n",
       "      <td>L ABERGEMENT CLEMENCIAT</td>\n",
       "      <td>1400</td>\n",
       "      <td>L ABERGEMENT CLEMENCIAT</td>\n",
       "      <td>NaN</td>\n",
       "      <td>46.153426</td>\n",
       "      <td>4.926114</td>\n",
       "      <td>1.0</td>\n",
       "      <td>L'</td>\n",
       "      <td>Abergement-Clémenciat</td>\n",
       "      <td>L'Abergement-Clémenciat</td>\n",
       "      <td>1</td>\n",
       "      <td>Ain</td>\n",
       "      <td>84.0</td>\n",
       "      <td>Auvergne-Rhône-Alpes</td>\n",
       "    </tr>\n",
       "    <tr>\n",
       "      <th>1</th>\n",
       "      <td>1002</td>\n",
       "      <td>L ABERGEMENT DE VAREY</td>\n",
       "      <td>1640</td>\n",
       "      <td>L ABERGEMENT DE VAREY</td>\n",
       "      <td>NaN</td>\n",
       "      <td>46.009188</td>\n",
       "      <td>5.428017</td>\n",
       "      <td>2.0</td>\n",
       "      <td>L'</td>\n",
       "      <td>Abergement-de-Varey</td>\n",
       "      <td>L'Abergement-de-Varey</td>\n",
       "      <td>1</td>\n",
       "      <td>Ain</td>\n",
       "      <td>84.0</td>\n",
       "      <td>Auvergne-Rhône-Alpes</td>\n",
       "    </tr>\n",
       "    <tr>\n",
       "      <th>2</th>\n",
       "      <td>1004</td>\n",
       "      <td>AMBERIEU EN BUGEY</td>\n",
       "      <td>1500</td>\n",
       "      <td>AMBERIEU EN BUGEY</td>\n",
       "      <td>NaN</td>\n",
       "      <td>45.960848</td>\n",
       "      <td>5.372926</td>\n",
       "      <td>4.0</td>\n",
       "      <td>NaN</td>\n",
       "      <td>Ambérieu-en-Bugey</td>\n",
       "      <td>Ambérieu-en-Bugey</td>\n",
       "      <td>1</td>\n",
       "      <td>Ain</td>\n",
       "      <td>84.0</td>\n",
       "      <td>Auvergne-Rhône-Alpes</td>\n",
       "    </tr>\n",
       "    <tr>\n",
       "      <th>3</th>\n",
       "      <td>1005</td>\n",
       "      <td>AMBERIEUX EN DOMBES</td>\n",
       "      <td>1330</td>\n",
       "      <td>AMBERIEUX EN DOMBES</td>\n",
       "      <td>NaN</td>\n",
       "      <td>45.996180</td>\n",
       "      <td>4.912273</td>\n",
       "      <td>5.0</td>\n",
       "      <td>NaN</td>\n",
       "      <td>Ambérieux-en-Dombes</td>\n",
       "      <td>Ambérieux-en-Dombes</td>\n",
       "      <td>1</td>\n",
       "      <td>Ain</td>\n",
       "      <td>84.0</td>\n",
       "      <td>Auvergne-Rhône-Alpes</td>\n",
       "    </tr>\n",
       "    <tr>\n",
       "      <th>4</th>\n",
       "      <td>1006</td>\n",
       "      <td>AMBLEON</td>\n",
       "      <td>1300</td>\n",
       "      <td>AMBLEON</td>\n",
       "      <td>NaN</td>\n",
       "      <td>45.749499</td>\n",
       "      <td>5.594320</td>\n",
       "      <td>6.0</td>\n",
       "      <td>NaN</td>\n",
       "      <td>Ambléon</td>\n",
       "      <td>Ambléon</td>\n",
       "      <td>1</td>\n",
       "      <td>Ain</td>\n",
       "      <td>84.0</td>\n",
       "      <td>Auvergne-Rhône-Alpes</td>\n",
       "    </tr>\n",
       "  </tbody>\n",
       "</table>\n",
       "</div>"
      ],
      "text/plain": [
       "  code_commune_INSEE       nom_commune_postal  code_postal  \\\n",
       "0               1001  L ABERGEMENT CLEMENCIAT         1400   \n",
       "1               1002    L ABERGEMENT DE VAREY         1640   \n",
       "2               1004        AMBERIEU EN BUGEY         1500   \n",
       "3               1005      AMBERIEUX EN DOMBES         1330   \n",
       "4               1006                  AMBLEON         1300   \n",
       "\n",
       "      libelle_acheminement ligne_5   latitude  longitude  code_commune  \\\n",
       "0  L ABERGEMENT CLEMENCIAT     NaN  46.153426   4.926114           1.0   \n",
       "1    L ABERGEMENT DE VAREY     NaN  46.009188   5.428017           2.0   \n",
       "2        AMBERIEU EN BUGEY     NaN  45.960848   5.372926           4.0   \n",
       "3      AMBERIEUX EN DOMBES     NaN  45.996180   4.912273           5.0   \n",
       "4                  AMBLEON     NaN  45.749499   5.594320           6.0   \n",
       "\n",
       "  article            nom_commune      nom_commune_complet code_departement  \\\n",
       "0      L'  Abergement-Clémenciat  L'Abergement-Clémenciat                1   \n",
       "1      L'    Abergement-de-Varey    L'Abergement-de-Varey                1   \n",
       "2     NaN      Ambérieu-en-Bugey        Ambérieu-en-Bugey                1   \n",
       "3     NaN    Ambérieux-en-Dombes      Ambérieux-en-Dombes                1   \n",
       "4     NaN                Ambléon                  Ambléon                1   \n",
       "\n",
       "  nom_departement  code_region            nom_region  \n",
       "0             Ain         84.0  Auvergne-Rhône-Alpes  \n",
       "1             Ain         84.0  Auvergne-Rhône-Alpes  \n",
       "2             Ain         84.0  Auvergne-Rhône-Alpes  \n",
       "3             Ain         84.0  Auvergne-Rhône-Alpes  \n",
       "4             Ain         84.0  Auvergne-Rhône-Alpes  "
      ]
     },
     "execution_count": 37,
     "metadata": {},
     "output_type": "execute_result"
    }
   ],
   "source": [
    "com_dep_reg_df.head()"
   ]
  },
  {
   "cell_type": "code",
   "execution_count": 38,
   "metadata": {},
   "outputs": [],
   "source": [
    "com_dep_reg_df['insee'] = com_dep_reg_df['code_commune_INSEE']"
   ]
  },
  {
   "cell_type": "code",
   "execution_count": 39,
   "metadata": {},
   "outputs": [],
   "source": [
    "siren_insee = pd.read_csv(path + 'banatic-sireninsee-last.csv', delimiter=';', encoding='ISO-8859-1')"
   ]
  },
  {
   "cell_type": "code",
   "execution_count": 40,
   "metadata": {},
   "outputs": [
    {
     "data": {
      "text/html": [
       "<div>\n",
       "<style scoped>\n",
       "    .dataframe tbody tr th:only-of-type {\n",
       "        vertical-align: middle;\n",
       "    }\n",
       "\n",
       "    .dataframe tbody tr th {\n",
       "        vertical-align: top;\n",
       "    }\n",
       "\n",
       "    .dataframe thead th {\n",
       "        text-align: right;\n",
       "    }\n",
       "</style>\n",
       "<table border=\"1\" class=\"dataframe\">\n",
       "  <thead>\n",
       "    <tr style=\"text-align: right;\">\n",
       "      <th></th>\n",
       "      <th>Reg_com</th>\n",
       "      <th>dep_com</th>\n",
       "      <th>siren</th>\n",
       "      <th>insee</th>\n",
       "      <th>nom_com</th>\n",
       "      <th>ptot_2024</th>\n",
       "      <th>pmun_2024</th>\n",
       "      <th>pcap_2024</th>\n",
       "    </tr>\n",
       "  </thead>\n",
       "  <tbody>\n",
       "    <tr>\n",
       "      <th>0</th>\n",
       "      <td>84</td>\n",
       "      <td>01</td>\n",
       "      <td>210100012</td>\n",
       "      <td>01001</td>\n",
       "      <td>L'Abergement-Clémenciat</td>\n",
       "      <td>848</td>\n",
       "      <td>832</td>\n",
       "      <td>16</td>\n",
       "    </tr>\n",
       "    <tr>\n",
       "      <th>1</th>\n",
       "      <td>84</td>\n",
       "      <td>01</td>\n",
       "      <td>210100020</td>\n",
       "      <td>01002</td>\n",
       "      <td>L'Abergement-de-Varey</td>\n",
       "      <td>273</td>\n",
       "      <td>267</td>\n",
       "      <td>6</td>\n",
       "    </tr>\n",
       "    <tr>\n",
       "      <th>2</th>\n",
       "      <td>84</td>\n",
       "      <td>01</td>\n",
       "      <td>210100046</td>\n",
       "      <td>01004</td>\n",
       "      <td>Ambérieu-en-Bugey</td>\n",
       "      <td>15 240</td>\n",
       "      <td>14 854</td>\n",
       "      <td>386</td>\n",
       "    </tr>\n",
       "    <tr>\n",
       "      <th>3</th>\n",
       "      <td>84</td>\n",
       "      <td>01</td>\n",
       "      <td>210100053</td>\n",
       "      <td>01005</td>\n",
       "      <td>Ambérieux-en-Dombes</td>\n",
       "      <td>1 921</td>\n",
       "      <td>1 897</td>\n",
       "      <td>24</td>\n",
       "    </tr>\n",
       "    <tr>\n",
       "      <th>4</th>\n",
       "      <td>84</td>\n",
       "      <td>01</td>\n",
       "      <td>210100061</td>\n",
       "      <td>01006</td>\n",
       "      <td>Ambléon</td>\n",
       "      <td>113</td>\n",
       "      <td>113</td>\n",
       "      <td>0</td>\n",
       "    </tr>\n",
       "  </tbody>\n",
       "</table>\n",
       "</div>"
      ],
      "text/plain": [
       "   Reg_com dep_com      siren  insee                  nom_com ptot_2024  \\\n",
       "0       84      01  210100012  01001  L'Abergement-Clémenciat       848   \n",
       "1       84      01  210100020  01002    L'Abergement-de-Varey       273   \n",
       "2       84      01  210100046  01004        Ambérieu-en-Bugey    15 240   \n",
       "3       84      01  210100053  01005      Ambérieux-en-Dombes     1 921   \n",
       "4       84      01  210100061  01006                  Ambléon       113   \n",
       "\n",
       "  pmun_2024 pcap_2024  \n",
       "0       832        16  \n",
       "1       267         6  \n",
       "2    14 854       386  \n",
       "3     1 897        24  \n",
       "4       113         0  "
      ]
     },
     "execution_count": 40,
     "metadata": {},
     "output_type": "execute_result"
    }
   ],
   "source": [
    "siren_insee.head()"
   ]
  },
  {
   "cell_type": "code",
   "execution_count": 41,
   "metadata": {},
   "outputs": [],
   "source": [
    "com_dep_reg_df = com_dep_reg_df.merge(siren_insee[['siren', 'insee']], on=['insee'], how='left')"
   ]
  },
  {
   "cell_type": "code",
   "execution_count": 42,
   "metadata": {},
   "outputs": [
    {
     "data": {
      "text/plain": [
       "code_commune_INSEE          0\n",
       "nom_commune_postal          0\n",
       "code_postal                 0\n",
       "libelle_acheminement        0\n",
       "ligne_5                 35944\n",
       "latitude                  269\n",
       "longitude                 269\n",
       "code_commune                7\n",
       "article                 36621\n",
       "nom_commune                 0\n",
       "nom_commune_complet         0\n",
       "code_departement            7\n",
       "nom_departement           267\n",
       "code_region               267\n",
       "nom_region                267\n",
       "insee                       0\n",
       "siren                    4707\n",
       "dtype: int64"
      ]
     },
     "execution_count": 42,
     "metadata": {},
     "output_type": "execute_result"
    }
   ],
   "source": [
    "com_dep_reg_df.isna().sum()"
   ]
  },
  {
   "cell_type": "code",
   "execution_count": 43,
   "metadata": {},
   "outputs": [],
   "source": [
    "com_dep_reg_df.dropna(subset='siren', axis=0, inplace=True)"
   ]
  },
  {
   "cell_type": "code",
   "execution_count": 44,
   "metadata": {},
   "outputs": [],
   "source": [
    "com_dep_reg_df[\"siren\"] = com_dep_reg_df['siren'].apply(clean_numeros)"
   ]
  },
  {
   "cell_type": "code",
   "execution_count": 45,
   "metadata": {},
   "outputs": [],
   "source": [
    "\n",
    "valeurs_dict_la = com_dep_reg_df.groupby('siren')['latitude'].first().to_dict()\n",
    "valeurs_dict_lg = com_dep_reg_df.groupby('siren')['longitude'].first().to_dict()\n",
    "communities_final['latitude'] = communities_final['latitude'].fillna(communities_final['siren'].map(valeurs_dict_la))\n",
    "communities_final['longitude'] =communities_final['longitude'].fillna(communities_final['siren'].map(valeurs_dict_lg))\n"
   ]
  },
  {
   "cell_type": "code",
   "execution_count": 46,
   "metadata": {},
   "outputs": [
    {
     "data": {
      "text/plain": [
       "nom                               2\n",
       "siren                             0\n",
       "type                              1\n",
       "cog                            1268\n",
       "code_dept                       117\n",
       "code_departement_3digits        117\n",
       "code_region                      19\n",
       "population                        1\n",
       "epci                           1429\n",
       "trancheeffectifsunitelegale    2109\n",
       "effectifssup50                    0\n",
       "longitude                      3059\n",
       "latitude                       3059\n",
       "dtype: int64"
      ]
     },
     "execution_count": 46,
     "metadata": {},
     "output_type": "execute_result"
    }
   ],
   "source": [
    "communities_final.isna().sum()"
   ]
  },
  {
   "cell_type": "code",
   "execution_count": 47,
   "metadata": {},
   "outputs": [
    {
     "data": {
      "text/html": [
       "<div>\n",
       "<style scoped>\n",
       "    .dataframe tbody tr th:only-of-type {\n",
       "        vertical-align: middle;\n",
       "    }\n",
       "\n",
       "    .dataframe tbody tr th {\n",
       "        vertical-align: top;\n",
       "    }\n",
       "\n",
       "    .dataframe thead th {\n",
       "        text-align: right;\n",
       "    }\n",
       "</style>\n",
       "<table border=\"1\" class=\"dataframe\">\n",
       "  <thead>\n",
       "    <tr style=\"text-align: right;\">\n",
       "      <th></th>\n",
       "      <th>nom</th>\n",
       "      <th>siren</th>\n",
       "      <th>type</th>\n",
       "      <th>cog</th>\n",
       "      <th>code_dept</th>\n",
       "      <th>code_departement_3digits</th>\n",
       "      <th>code_region</th>\n",
       "      <th>population</th>\n",
       "      <th>epci</th>\n",
       "      <th>trancheeffectifsunitelegale</th>\n",
       "      <th>effectifssup50</th>\n",
       "      <th>longitude</th>\n",
       "      <th>latitude</th>\n",
       "    </tr>\n",
       "  </thead>\n",
       "  <tbody>\n",
       "    <tr>\n",
       "      <th>10002</th>\n",
       "      <td>NaN</td>\n",
       "      <td>200063782</td>\n",
       "      <td>COM</td>\n",
       "      <td>27676</td>\n",
       "      <td>NaN</td>\n",
       "      <td>NaN</td>\n",
       "      <td>NaN</td>\n",
       "      <td>NaN</td>\n",
       "      <td>200089456</td>\n",
       "      <td>12.0</td>\n",
       "      <td>False</td>\n",
       "      <td>1.295948</td>\n",
       "      <td>49.20122</td>\n",
       "    </tr>\n",
       "    <tr>\n",
       "      <th>36350</th>\n",
       "      <td>NaN</td>\n",
       "      <td>0</td>\n",
       "      <td>NaN</td>\n",
       "      <td>NaN</td>\n",
       "      <td>NaN</td>\n",
       "      <td>NaN</td>\n",
       "      <td>NaN</td>\n",
       "      <td>37323.0</td>\n",
       "      <td>NaN</td>\n",
       "      <td>NaN</td>\n",
       "      <td>False</td>\n",
       "      <td>NaN</td>\n",
       "      <td>NaN</td>\n",
       "    </tr>\n",
       "  </tbody>\n",
       "</table>\n",
       "</div>"
      ],
      "text/plain": [
       "       nom      siren type    cog code_dept code_departement_3digits  \\\n",
       "10002  NaN  200063782  COM  27676       NaN                      NaN   \n",
       "36350  NaN          0  NaN    NaN       NaN                      NaN   \n",
       "\n",
       "      code_region  population       epci  trancheeffectifsunitelegale  \\\n",
       "10002         NaN         NaN  200089456                         12.0   \n",
       "36350         NaN     37323.0        NaN                          NaN   \n",
       "\n",
       "       effectifssup50  longitude  latitude  \n",
       "10002           False   1.295948  49.20122  \n",
       "36350           False        NaN       NaN  "
      ]
     },
     "execution_count": 47,
     "metadata": {},
     "output_type": "execute_result"
    }
   ],
   "source": [
    "# check vlue null of nom\n",
    "communities_final[communities_final['nom'].isna()]"
   ]
  },
  {
   "cell_type": "markdown",
   "metadata": {},
   "source": [
    "#### Densite et superficie \n",
    "**source**: communes-france-2025.csv"
   ]
  },
  {
   "cell_type": "code",
   "execution_count": 48,
   "metadata": {},
   "outputs": [],
   "source": [
    "commune_france = pd.read_csv(path + 'communes-france-2025.csv',low_memory=False)"
   ]
  },
  {
   "cell_type": "code",
   "execution_count": 49,
   "metadata": {},
   "outputs": [
    {
     "data": {
      "text/plain": [
       "Index(['Unnamed: 0', 'code_insee', 'nom_standard', 'nom_sans_pronom', 'nom_a',\n",
       "       'nom_de', 'nom_sans_accent', 'nom_standard_majuscule', 'typecom',\n",
       "       'typecom_texte', 'reg_code', 'reg_nom', 'dep_code', 'dep_nom',\n",
       "       'canton_code', 'canton_nom', 'epci_code', 'epci_nom', 'academie_code',\n",
       "       'academie_nom', 'code_postal', 'codes_postaux', 'zone_emploi',\n",
       "       'code_insee_centre_zone_emploi', 'code_unite_urbaine',\n",
       "       'nom_unite_urbaine', 'taille_unite_urbaine',\n",
       "       'type_commune_unite_urbaine', 'statut_commune_unite_urbaine',\n",
       "       'population', 'superficie_hectare', 'superficie_km2', 'densite',\n",
       "       'altitude_moyenne', 'altitude_minimale', 'altitude_maximale',\n",
       "       'latitude_mairie', 'longitude_mairie', 'latitude_centre',\n",
       "       'longitude_centre', 'grille_densite', 'grille_densite_texte',\n",
       "       'niveau_equipements_services', 'niveau_equipements_services_texte',\n",
       "       'gentile', 'url_wikipedia', 'url_villedereve'],\n",
       "      dtype='object')"
      ]
     },
     "execution_count": 49,
     "metadata": {},
     "output_type": "execute_result"
    }
   ],
   "source": [
    "commune_france.columns"
   ]
  },
  {
   "cell_type": "code",
   "execution_count": 50,
   "metadata": {},
   "outputs": [
    {
     "data": {
      "text/plain": [
       "COM    34935\n",
       "Name: typecom, dtype: int64"
      ]
     },
     "execution_count": 50,
     "metadata": {},
     "output_type": "execute_result"
    }
   ],
   "source": [
    "commune_france['typecom'].value_counts()"
   ]
  },
  {
   "cell_type": "code",
   "execution_count": 51,
   "metadata": {},
   "outputs": [],
   "source": [
    "#ajouter le siren\n",
    "commune_france['insee'] = commune_france['code_insee']\n",
    "commune_france = commune_france.merge(siren_insee[['siren', 'insee']], on='insee', how = 'left')"
   ]
  },
  {
   "cell_type": "code",
   "execution_count": 52,
   "metadata": {},
   "outputs": [
    {
     "data": {
      "text/plain": [
       "Unnamed: 0                               0\n",
       "code_insee                               0\n",
       "nom_standard                             0\n",
       "nom_sans_pronom                          0\n",
       "nom_a                                    0\n",
       "nom_de                                   0\n",
       "nom_sans_accent                          0\n",
       "nom_standard_majuscule                   0\n",
       "typecom                                  0\n",
       "typecom_texte                            0\n",
       "reg_code                                 0\n",
       "reg_nom                                  0\n",
       "dep_code                                 0\n",
       "dep_nom                                  0\n",
       "canton_code                             56\n",
       "canton_nom                              56\n",
       "epci_code                                3\n",
       "epci_nom                                 3\n",
       "academie_code                            0\n",
       "academie_nom                             0\n",
       "code_postal                              3\n",
       "codes_postaux                            3\n",
       "zone_emploi                              3\n",
       "code_insee_centre_zone_emploi          132\n",
       "code_unite_urbaine                       3\n",
       "nom_unite_urbaine                    27359\n",
       "taille_unite_urbaine                     3\n",
       "type_commune_unite_urbaine               3\n",
       "statut_commune_unite_urbaine             3\n",
       "population                               0\n",
       "superficie_hectare                       0\n",
       "superficie_km2                           0\n",
       "densite                                  3\n",
       "altitude_moyenne                         0\n",
       "altitude_minimale                        0\n",
       "altitude_maximale                        0\n",
       "latitude_mairie                          0\n",
       "longitude_mairie                         0\n",
       "latitude_centre                          9\n",
       "longitude_centre                         9\n",
       "grille_densite                           0\n",
       "grille_densite_texte                     0\n",
       "niveau_equipements_services            132\n",
       "niveau_equipements_services_texte      132\n",
       "gentile                              10870\n",
       "url_wikipedia                           57\n",
       "url_villedereve                          0\n",
       "insee                                    0\n",
       "siren                                    0\n",
       "dtype: int64"
      ]
     },
     "execution_count": 52,
     "metadata": {},
     "output_type": "execute_result"
    }
   ],
   "source": [
    "commune_france.isna().sum()"
   ]
  },
  {
   "cell_type": "code",
   "execution_count": 53,
   "metadata": {},
   "outputs": [],
   "source": [
    "commune_france['type']=commune_france['typecom']\n",
    "commune_france['siren'] = commune_france['siren'].apply(clean_numeros)"
   ]
  },
  {
   "cell_type": "code",
   "execution_count": null,
   "metadata": {},
   "outputs": [],
   "source": []
  },
  {
   "cell_type": "code",
   "execution_count": 54,
   "metadata": {},
   "outputs": [],
   "source": [
    "communities_final = communities_final.merge(commune_france[['siren', 'type', 'superficie_km2','densite']], on=['siren', 'type'], how='left')"
   ]
  },
  {
   "cell_type": "code",
   "execution_count": 55,
   "metadata": {},
   "outputs": [
    {
     "data": {
      "text/plain": [
       "nom                               2\n",
       "siren                             0\n",
       "type                              1\n",
       "cog                            1268\n",
       "code_dept                       117\n",
       "code_departement_3digits        117\n",
       "code_region                      19\n",
       "population                        1\n",
       "epci                           1429\n",
       "trancheeffectifsunitelegale    2109\n",
       "effectifssup50                    0\n",
       "longitude                      3059\n",
       "latitude                       3059\n",
       "superficie_km2                 1449\n",
       "densite                        1450\n",
       "dtype: int64"
      ]
     },
     "execution_count": 55,
     "metadata": {},
     "output_type": "execute_result"
    }
   ],
   "source": [
    "communities_final.isna().sum()"
   ]
  },
  {
   "cell_type": "code",
   "execution_count": 56,
   "metadata": {},
   "outputs": [
    {
     "data": {
      "text/html": [
       "<div>\n",
       "<style scoped>\n",
       "    .dataframe tbody tr th:only-of-type {\n",
       "        vertical-align: middle;\n",
       "    }\n",
       "\n",
       "    .dataframe tbody tr th {\n",
       "        vertical-align: top;\n",
       "    }\n",
       "\n",
       "    .dataframe thead th {\n",
       "        text-align: right;\n",
       "    }\n",
       "</style>\n",
       "<table border=\"1\" class=\"dataframe\">\n",
       "  <thead>\n",
       "    <tr style=\"text-align: right;\">\n",
       "      <th></th>\n",
       "      <th>nom</th>\n",
       "      <th>siren</th>\n",
       "      <th>type</th>\n",
       "      <th>cog</th>\n",
       "      <th>code_dept</th>\n",
       "      <th>code_departement_3digits</th>\n",
       "      <th>code_region</th>\n",
       "      <th>population</th>\n",
       "      <th>epci</th>\n",
       "      <th>trancheeffectifsunitelegale</th>\n",
       "      <th>effectifssup50</th>\n",
       "      <th>longitude</th>\n",
       "      <th>latitude</th>\n",
       "      <th>superficie_km2</th>\n",
       "      <th>densite</th>\n",
       "    </tr>\n",
       "  </thead>\n",
       "  <tbody>\n",
       "    <tr>\n",
       "      <th>0</th>\n",
       "      <td>Guadeloupe</td>\n",
       "      <td>239710015</td>\n",
       "      <td>REG</td>\n",
       "      <td>1</td>\n",
       "      <td>NaN</td>\n",
       "      <td>NaN</td>\n",
       "      <td>NaN</td>\n",
       "      <td>396153.0</td>\n",
       "      <td>NaN</td>\n",
       "      <td>42.0</td>\n",
       "      <td>True</td>\n",
       "      <td>-61.568686</td>\n",
       "      <td>16.252882</td>\n",
       "      <td>NaN</td>\n",
       "      <td>NaN</td>\n",
       "    </tr>\n",
       "    <tr>\n",
       "      <th>1</th>\n",
       "      <td>Île-de-France</td>\n",
       "      <td>237500079</td>\n",
       "      <td>REG</td>\n",
       "      <td>11</td>\n",
       "      <td>NaN</td>\n",
       "      <td>NaN</td>\n",
       "      <td>NaN</td>\n",
       "      <td>12291279.0</td>\n",
       "      <td>NaN</td>\n",
       "      <td>53.0</td>\n",
       "      <td>True</td>\n",
       "      <td>2.504722</td>\n",
       "      <td>48.709167</td>\n",
       "      <td>NaN</td>\n",
       "      <td>NaN</td>\n",
       "    </tr>\n",
       "    <tr>\n",
       "      <th>2</th>\n",
       "      <td>Martinique</td>\n",
       "      <td>200055507</td>\n",
       "      <td>CTU</td>\n",
       "      <td>2</td>\n",
       "      <td>NaN</td>\n",
       "      <td>NaN</td>\n",
       "      <td>NaN</td>\n",
       "      <td>377711.0</td>\n",
       "      <td>NaN</td>\n",
       "      <td>51.0</td>\n",
       "      <td>True</td>\n",
       "      <td>-61.015827</td>\n",
       "      <td>14.636792</td>\n",
       "      <td>NaN</td>\n",
       "      <td>NaN</td>\n",
       "    </tr>\n",
       "    <tr>\n",
       "      <th>3</th>\n",
       "      <td>Centre-Val de Loire</td>\n",
       "      <td>234500023</td>\n",
       "      <td>REG</td>\n",
       "      <td>24</td>\n",
       "      <td>NaN</td>\n",
       "      <td>NaN</td>\n",
       "      <td>NaN</td>\n",
       "      <td>2634852.0</td>\n",
       "      <td>NaN</td>\n",
       "      <td>51.0</td>\n",
       "      <td>True</td>\n",
       "      <td>1.685278</td>\n",
       "      <td>47.480556</td>\n",
       "      <td>NaN</td>\n",
       "      <td>NaN</td>\n",
       "    </tr>\n",
       "    <tr>\n",
       "      <th>4</th>\n",
       "      <td>Bourgogne-Franche-Comté</td>\n",
       "      <td>200053726</td>\n",
       "      <td>REG</td>\n",
       "      <td>27</td>\n",
       "      <td>NaN</td>\n",
       "      <td>NaN</td>\n",
       "      <td>NaN</td>\n",
       "      <td>2885864.0</td>\n",
       "      <td>NaN</td>\n",
       "      <td>51.0</td>\n",
       "      <td>True</td>\n",
       "      <td>4.809167</td>\n",
       "      <td>47.235278</td>\n",
       "      <td>NaN</td>\n",
       "      <td>NaN</td>\n",
       "    </tr>\n",
       "  </tbody>\n",
       "</table>\n",
       "</div>"
      ],
      "text/plain": [
       "                       nom      siren type cog code_dept  \\\n",
       "0               Guadeloupe  239710015  REG   1       NaN   \n",
       "1            Île-de-France  237500079  REG  11       NaN   \n",
       "2               Martinique  200055507  CTU   2       NaN   \n",
       "3      Centre-Val de Loire  234500023  REG  24       NaN   \n",
       "4  Bourgogne-Franche-Comté  200053726  REG  27       NaN   \n",
       "\n",
       "  code_departement_3digits code_region  population epci  \\\n",
       "0                      NaN         NaN    396153.0  NaN   \n",
       "1                      NaN         NaN  12291279.0  NaN   \n",
       "2                      NaN         NaN    377711.0  NaN   \n",
       "3                      NaN         NaN   2634852.0  NaN   \n",
       "4                      NaN         NaN   2885864.0  NaN   \n",
       "\n",
       "   trancheeffectifsunitelegale  effectifssup50  longitude   latitude  \\\n",
       "0                         42.0            True -61.568686  16.252882   \n",
       "1                         53.0            True   2.504722  48.709167   \n",
       "2                         51.0            True -61.015827  14.636792   \n",
       "3                         51.0            True   1.685278  47.480556   \n",
       "4                         51.0            True   4.809167  47.235278   \n",
       "\n",
       "   superficie_km2  densite  \n",
       "0             NaN      NaN  \n",
       "1             NaN      NaN  \n",
       "2             NaN      NaN  \n",
       "3             NaN      NaN  \n",
       "4             NaN      NaN  "
      ]
     },
     "execution_count": 56,
     "metadata": {},
     "output_type": "execute_result"
    }
   ],
   "source": [
    "communities_final.head()"
   ]
  },
  {
   "cell_type": "markdown",
   "metadata": {},
   "source": [
    "#### Les élus"
   ]
  },
  {
   "cell_type": "code",
   "execution_count": 57,
   "metadata": {},
   "outputs": [],
   "source": [
    "# TODO"
   ]
  },
  {
   "cell_type": "markdown",
   "metadata": {},
   "source": [
    "#### Obligation publication"
   ]
  },
  {
   "cell_type": "code",
   "execution_count": 58,
   "metadata": {},
   "outputs": [],
   "source": [
    "## TODO"
   ]
  },
  {
   "cell_type": "markdown",
   "metadata": {},
   "source": [
    "#### Compléter les codes départements pour faire le lien  avec les communes ou autres collectivités\n",
    "source nocodb :ofgl-base-departements-consolidee.csv"
   ]
  },
  {
   "cell_type": "code",
   "execution_count": 59,
   "metadata": {},
   "outputs": [],
   "source": [
    "bases_departements = pd.read_csv(path +'ofgl-base-departements-consolidee.csv', delimiter=';')"
   ]
  },
  {
   "cell_type": "code",
   "execution_count": 60,
   "metadata": {},
   "outputs": [],
   "source": [
    "bases_departements['siren'] = bases_departements['siren'].apply(clean_numeros)\n",
    "bases_departements['dep_code'] = bases_departements['dep_code'].apply(lambda x: str(x).strip().upper() if pd.notna(x) else x)"
   ]
  },
  {
   "cell_type": "code",
   "execution_count": 61,
   "metadata": {},
   "outputs": [],
   "source": [
    "valeurs_dict_dep = bases_departements.groupby('siren')['dep_code'].first().to_dict()\n",
    "communities_final['code_dept'] = communities_final['code_dept'].fillna(communities_final['siren'].map(valeurs_dict_dep))"
   ]
  },
  {
   "cell_type": "code",
   "execution_count": 62,
   "metadata": {},
   "outputs": [
    {
     "data": {
      "text/plain": [
       "REG    14\n",
       "CTU     3\n",
       "COM     1\n",
       "Name: type, dtype: int64"
      ]
     },
     "execution_count": 62,
     "metadata": {},
     "output_type": "execute_result"
    }
   ],
   "source": [
    "communities_final[communities_final[\"code_dept\"].isnull()][\"type\"].value_counts()"
   ]
  },
  {
   "cell_type": "code",
   "execution_count": 63,
   "metadata": {},
   "outputs": [
    {
     "data": {
      "text/html": [
       "<div>\n",
       "<style scoped>\n",
       "    .dataframe tbody tr th:only-of-type {\n",
       "        vertical-align: middle;\n",
       "    }\n",
       "\n",
       "    .dataframe tbody tr th {\n",
       "        vertical-align: top;\n",
       "    }\n",
       "\n",
       "    .dataframe thead th {\n",
       "        text-align: right;\n",
       "    }\n",
       "</style>\n",
       "<table border=\"1\" class=\"dataframe\">\n",
       "  <thead>\n",
       "    <tr style=\"text-align: right;\">\n",
       "      <th></th>\n",
       "      <th>nom</th>\n",
       "      <th>siren</th>\n",
       "      <th>type</th>\n",
       "      <th>cog</th>\n",
       "      <th>code_dept</th>\n",
       "      <th>code_departement_3digits</th>\n",
       "      <th>code_region</th>\n",
       "      <th>population</th>\n",
       "      <th>epci</th>\n",
       "      <th>trancheeffectifsunitelegale</th>\n",
       "      <th>effectifssup50</th>\n",
       "      <th>longitude</th>\n",
       "      <th>latitude</th>\n",
       "      <th>superficie_km2</th>\n",
       "      <th>densite</th>\n",
       "    </tr>\n",
       "  </thead>\n",
       "  <tbody>\n",
       "    <tr>\n",
       "      <th>10002</th>\n",
       "      <td>NaN</td>\n",
       "      <td>200063782</td>\n",
       "      <td>COM</td>\n",
       "      <td>27676</td>\n",
       "      <td>NaN</td>\n",
       "      <td>NaN</td>\n",
       "      <td>NaN</td>\n",
       "      <td>NaN</td>\n",
       "      <td>200089456</td>\n",
       "      <td>12.0</td>\n",
       "      <td>False</td>\n",
       "      <td>1.295948</td>\n",
       "      <td>49.20122</td>\n",
       "      <td>15.0</td>\n",
       "      <td>117.0</td>\n",
       "    </tr>\n",
       "  </tbody>\n",
       "</table>\n",
       "</div>"
      ],
      "text/plain": [
       "       nom      siren type    cog code_dept code_departement_3digits  \\\n",
       "10002  NaN  200063782  COM  27676       NaN                      NaN   \n",
       "\n",
       "      code_region  population       epci  trancheeffectifsunitelegale  \\\n",
       "10002         NaN         NaN  200089456                         12.0   \n",
       "\n",
       "       effectifssup50  longitude  latitude  superficie_km2  densite  \n",
       "10002           False   1.295948  49.20122            15.0    117.0  "
      ]
     },
     "execution_count": 63,
     "metadata": {},
     "output_type": "execute_result"
    }
   ],
   "source": [
    "communities_final[(communities_final[\"code_dept\"].isnull()) & (communities_final[\"type\"]=='COM')]\n"
   ]
  },
  {
   "cell_type": "markdown",
   "metadata": {},
   "source": [
    "##### Remarque: une seule commune avec nom null et code dept null: siren: 200063782"
   ]
  },
  {
   "cell_type": "markdown",
   "metadata": {},
   "source": [
    "#### Compléter les codes régions pour faire le lien  avec les communes, départements ou autres collectivités\n",
    "Sources: NocoDB ofgl-base-regions-consolidee.csv "
   ]
  },
  {
   "cell_type": "code",
   "execution_count": 64,
   "metadata": {},
   "outputs": [
    {
     "data": {
      "text/plain": [
       "REG    14\n",
       "CTU     3\n",
       "COM     1\n",
       "Name: type, dtype: int64"
      ]
     },
     "execution_count": 64,
     "metadata": {},
     "output_type": "execute_result"
    }
   ],
   "source": [
    "communities_final[communities_final['code_region'].isna()][\"type\"].value_counts()"
   ]
  },
  {
   "cell_type": "code",
   "execution_count": 65,
   "metadata": {},
   "outputs": [],
   "source": [
    "base_regions = pd.read_csv(path + 'ofgl-base-regions-consolidee.csv', delimiter=';')"
   ]
  },
  {
   "cell_type": "code",
   "execution_count": 66,
   "metadata": {},
   "outputs": [],
   "source": [
    "base_regions['siren'] = base_regions['siren'].apply(clean_numeros)\n",
    "base_regions['reg_code'] = base_regions['reg_code'].apply(lambda x: str(x).strip().upper() if pd.notna(x) else x)"
   ]
  },
  {
   "cell_type": "code",
   "execution_count": 67,
   "metadata": {},
   "outputs": [],
   "source": [
    "valeurs_dict_reg = base_regions.groupby('siren')['reg_code'].first().to_dict()\n",
    "communities_final['code_region'] = communities_final['code_region'].fillna(communities_final['siren'].map(valeurs_dict_reg))"
   ]
  },
  {
   "cell_type": "code",
   "execution_count": 68,
   "metadata": {},
   "outputs": [
    {
     "data": {
      "text/plain": [
       "COM    1\n",
       "Name: type, dtype: int64"
      ]
     },
     "execution_count": 68,
     "metadata": {},
     "output_type": "execute_result"
    }
   ],
   "source": [
    "communities_final[communities_final['code_region'].isna()][\"type\"].value_counts()"
   ]
  },
  {
   "cell_type": "markdown",
   "metadata": {},
   "source": [
    "Remarque: la même commune avec code région null: 200063782"
   ]
  },
  {
   "cell_type": "code",
   "execution_count": null,
   "metadata": {},
   "outputs": [],
   "source": []
  }
 ],
 "metadata": {
  "kernelspec": {
   "display_name": "artefact",
   "language": "python",
   "name": "python3"
  },
  "language_info": {
   "codemirror_mode": {
    "name": "ipython",
    "version": 3
   },
   "file_extension": ".py",
   "mimetype": "text/x-python",
   "name": "python",
   "nbconvert_exporter": "python",
   "pygments_lexer": "ipython3",
   "version": "3.10.12"
  }
 },
 "nbformat": 4,
 "nbformat_minor": 2
}
