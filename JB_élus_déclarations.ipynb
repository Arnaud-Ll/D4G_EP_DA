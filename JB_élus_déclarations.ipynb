{
 "cells": [
  {
   "cell_type": "markdown",
   "metadata": {},
   "source": [
    "# Notebook exploratoire des données de déclaration d'intérêt des élus\n",
    "\n",
    "[Lien de la source de données](https://www.hatvp.fr/livraison/merge/declarations.xml)"
   ]
  },
  {
   "cell_type": "markdown",
   "metadata": {},
   "source": [
    "## Introduction sur l'intérêt d'étudier les déclarations d'intérêt des élus"
   ]
  },
  {
   "cell_type": "markdown",
   "metadata": {},
   "source": [
    "Les déclarations d'intérêt des élus contiennent des informations détaillées sur les intérêts financiers, professionnels et personnels des élus. Elles visent à garantir la transparence et à prévenir les conflits d'intérêts.  \n",
    "Ces déclarations incluent généralement des informations sur les revenus, les participations financières, les activités professionnelles, les mandats et les fonctions exercées, ainsi que les éventuels liens familiaux pouvant influencer les décisions publiques.\n",
    "\n",
    "L'objectif de ce notebook est donc d'explorer ces données de déclaration afin d'en dégager des informations pertinentes et éventuellement déterminer un processus pour recueillir automatiquement ces données."
   ]
  },
  {
   "cell_type": "markdown",
   "metadata": {},
   "source": [
    "## Importation et aperçu des données"
   ]
  },
  {
   "cell_type": "code",
   "execution_count": null,
   "metadata": {},
   "outputs": [],
   "source": [
    "# Bibliothèques\n",
    "import pandas as pd\n",
    "import numpy as np\n",
    "import requests\n",
    "import xml.etree.ElementTree as ET\n",
    "from bs4 import BeautifulSoup\n",
    "\n"
   ]
  },
  {
   "cell_type": "code",
   "execution_count": null,
   "metadata": {},
   "outputs": [],
   "source": [
    "# 2 fichiers sources pour les déclarations\n",
    "# Liste .csv = en têtes des déclarations avec élus\n",
    "# Déclaration .xml = contenus des déclarations \n",
    "\n",
    "# data = pd.read_parquet(\"Jeux de données/declarations.parquet\")\n",
    "\n",
    "liste = pd.read_csv('/home/jbn/.jupyter/liste.csv', sep = ';')"
   ]
  },
  {
   "cell_type": "code",
   "execution_count": null,
   "metadata": {},
   "outputs": [],
   "source": [
    "# import du élus.parquet de CGoudet issu du RNE\n",
    "elus = pd.read_parquet('/home/jbn/.jupyter/elus.parquet')\n",
    "elus"
   ]
  },
  {
   "cell_type": "code",
   "execution_count": null,
   "metadata": {},
   "outputs": [],
   "source": [
    "declarations = pd.read_parquet('/home/jbn/.jupyter/declarations.parquet')"
   ]
  },
  {
   "cell_type": "code",
   "execution_count": null,
   "metadata": {},
   "outputs": [],
   "source": [
    "# URL du fichier XML (je ne peux pas le télécharger)\n",
    "url = 'https://www.hatvp.fr/livraison/merge/declarations.xml'\n",
    "\n",
    "# Requêtage du fichier\n",
    "response = requests.get(url)\n",
    "xml_content = response.content\n",
    "\n",
    "# Parsing du fichier XML\n",
    "root = ET.fromstring(xml_content)\n"
   ]
  },
  {
   "cell_type": "code",
   "execution_count": null,
   "metadata": {},
   "outputs": [],
   "source": [
    "# Représentation de l'arbre XML\n",
    "\n",
    "xml_str = ET.tostring(root, encoding='utf-8').decode('utf-8')\n"
   ]
  },
  {
   "cell_type": "code",
   "execution_count": null,
   "metadata": {},
   "outputs": [],
   "source": [
    "# Ecriture du fichier XML et enregistrement local\n",
    "tree = ET.ElementTree(root)\n",
    "tree.write(\"file.xml\")"
   ]
  },
  {
   "cell_type": "code",
   "execution_count": null,
   "metadata": {},
   "outputs": [],
   "source": [
    "file = 'file.xml'"
   ]
  },
  {
   "cell_type": "code",
   "execution_count": null,
   "metadata": {},
   "outputs": [],
   "source": [
    "# Création de l'objet BeautifulSoup\n",
    "with open(file, \"r\", encoding=\"utf-8\") as f:\n",
    "    soup = BeautifulSoup(f.read(), \"lxml\")  # Utilisation de \"lxml\"\n",
    "    print(\"Soup created\")"
   ]
  },
  {
   "cell_type": "code",
   "execution_count": null,
   "metadata": {},
   "outputs": [],
   "source": [
    "# identification des balises déclarations\n",
    "declarations = soup.find_all(\"declaration\")\n",
    "len(declarations)"
   ]
  },
  {
   "cell_type": "code",
   "execution_count": null,
   "metadata": {},
   "outputs": [],
   "source": [
    "# Initialisation d'une liste pour stocker les lignes de données de la rubrique général\n",
    "data_general = []\n",
    "\n",
    "# Boucle sur les sous-éléments imbriqués (ex: activprofcinqdernieredto, mandatelectifdto, etc.)\n",
    "for declaration in soup.find_all(\"declaration\") :\n",
    "    \n",
    "    DateDepot = declaration.find(\"datedepot\").get_text(strip=True) if declaration.find(\"datedepot\") else None\n",
    "    Uuid = declaration.find(\"uuid\").get_text(strip=True) if declaration.find(\"uuid\") else None\n",
    "    Origine = declaration.find(\"origine\").get_text(strip=True) if declaration.find(\"origine\") else None\n",
    "    Complete = declaration.find(\"complete\").get_text(strip=True) if declaration.find(\"complete\") else None\n",
    "\n",
    "    for section in declaration.find_all(\"general\") :\n",
    "\n",
    "        Civilite = section.find(\"civilite\").get_text(strip=True) if section.find(\"civilite\").get_text(strip=True) else None\n",
    "        Nom = section.find(\"nom\").get_text(strip=True) if section.find(\"nom\").get_text(strip=True) else None\n",
    "        Prénom = section.find(\"prenom\").get_text(strip=True) if section.find(\"prenom\").get_text(strip=True) else None\n",
    "        Date_Naissance = section.find(\"datenaissance\").get_text(strip=True) if section.find(\"datenaissance\").get_text(strip=True) else None\n",
    "\n",
    "        typedeclaration = section.find(\"typedeclaration\")\n",
    "        Type_Déclaration = typedeclaration.find(\"id\").get_text(strip=True) if typedeclaration and typedeclaration.find(\"id\").get_text(strip=True) else None\n",
    "        Type_Nom_Déclaration = typedeclaration.find(\"label\").get_text(strip=True) if typedeclaration and typedeclaration.find(\"label\").get_text(strip=True) else None\n",
    "        Modif_Déclaration = section.find(\"declarationmodificative\").get_text(strip=True) if section.find(\"declarationmodificative\") else None\n",
    "    \n",
    "        mandat = section.find(\"mandat\")\n",
    "        Nom_Mandat = mandat.find(\"label\").get_text(strip=True) if mandat and mandat.find(\"label\").get_text(strip=True) else None\n",
    "        \n",
    "        qualitemandat = section.find(\"qualitemandat\")\n",
    "        Type_Mandat = qualitemandat.find(\"typemandat\").get_text(strip=True) if qualitemandat and qualitemandat.find(\"typemandat\").get_text(strip=True) else None\n",
    "        Catégorie_Code_Mandat = qualitemandat.find(\"codcategoriemandat\").get_text(strip=True) if qualitemandat and qualitemandat.find(\"codcategoriemandat\").get_text(strip=True) else None\n",
    "        Catégorie_Nom_Mandat = qualitemandat.find(\"nomcategoriemandat\").get_text(strip=True) if qualitemandat and qualitemandat.find(\"nomcategoriemandat\").get_text(strip=True) else None\n",
    "        Type_Nom_Mandat = qualitemandat.find(\"labeltypemandat\").get_text(strip=True) if qualitemandat and qualitemandat.find(\"labeltypemandat\").get_text(strip=True) else None\n",
    "        Organe_Intitulé_Mandat = qualitemandat.find(\"labelorgane\").get_text(strip=True) if qualitemandat and qualitemandat.find(\"labelorgane\").get_text(strip=True) else None\n",
    "        Organe_CodeListe_Mandat = qualitemandat.find(\"codelisteorgane\").get_text(strip=True) if qualitemandat and qualitemandat.find(\"codelisteorgane\").get_text(strip=True) else None\n",
    "\n",
    "        organe = section.find(\"organe\")\n",
    "        Organe_Code = organe.find(\"codelisteorgane\").get_text(strip=True) if organe and organe.find(\"codelisteorgane\") else None\n",
    "        Organe_Nom = organe.find(\"nomlisteorgane\").get_text(strip=True) if organe and organe.find(\"nomlisteorgane\") else None\n",
    "        Organe_Intitulé = organe.find(\"labelorgane\").get_text(strip=True) if organe and organe.find(\"labelorgane\") else None\n",
    "        Organe_Déclaration = organe.find(\"labeldeclaration\").get_text(strip=True) if organe and organe.find(\"labeldeclaration\") else None\n",
    "        \n",
    "        Qualité_Déclarant = section.find(\"qualitedeclarant\").get_text(strip=True) if section.find(\"qualitedeclarant\").get_text(strip=True) else None\n",
    "        Qualité_Déclarant_PDF = section.find(\"qualitedeclarantforpdf\").get_text(strip=True) if section.find(\"qualitedeclarantforpdf\").get_text(strip=True) else None\n",
    "        Date_début_Mandat = section.find(\"datedebutmandat\").get_text(strip=True) if section.find(\"datedebutmandat\").get_text(strip=True) else None\n",
    "        Date_fin_Mandat = section.find(\"datefinmandat\").get_text(strip=True) if section.find(\"datefinmandat\").get_text(strip=True) else None\n",
    "        Date_dernière_déclaration = section.find(\"datederndeclar\").get_text(strip=True) if section.find(\"datederndeclar\").get_text(strip=True) else None\n",
    "        # Régime_Matrimonial = section.find(\"regimematrimonial\").get_text(strip=True) if section.find(\"regimematrimonial\").get_text(strip=True) else None\n",
    "        # Régime_Matrimonial_Commentaire = section.find(\"regimematrimonialcomments\").get_text(strip=True) if section.find(\"regimematrimonialcomments\").get_text(strip=True) else None\n",
    "        # Nom_Société = section.find(\"nomsociete\").get_text(strip=True) if section.find(\"nomsociete\").get_text(strip=True) else None\n",
    "        # Nom_Société_mère = section.find(\"nomsocietemere\").get_text(strip=True) if section.find(\"nomsocietemere\").get_text(strip=True) else None\n",
    "        # Chiffre_affaires = section.find(\"chiffreaffaire\").get_text(strip=True) if section.find(\"chiffreaffaire\").get_text(strip=True) else None\n",
    "        # Nombre_Logements = section.find(\"nblogements\").get_text(strip=True) if section.find(\"nblogements\").get_text(strip=True) else None\n",
    "    \n",
    "        # Stocker la ligne à chaque élu de la déclaration\n",
    "        row = {\n",
    "            \"Uuid\": Uuid,\n",
    "            \"DateDepot\": DateDepot,\n",
    "            \"Origine\": Origine,\n",
    "            \"Complete\": Complete,\n",
    "            \"Civilite\": Civilite,\n",
    "            \"Nom\": Nom,\n",
    "            \"Prénom\": Prénom,\n",
    "            \"Date_Naissance\": Date_Naissance,\n",
    "            \"Type_Déclaration\": Type_Déclaration,\n",
    "            \"Type_Nom_Déclaration\": Type_Nom_Déclaration,\n",
    "            \"Modif_Déclaration\": Modif_Déclaration,\n",
    "            \"Nom_Mandat\": Nom_Mandat,\n",
    "            \"Type_Mandat\": Type_Mandat,\n",
    "            \"Catégorie_Code_Mandat\": Catégorie_Code_Mandat,\n",
    "            \"Catégorie_Nom_Mandat\": Catégorie_Nom_Mandat,\n",
    "            \"Type_Nom_Mandat\": Type_Nom_Mandat,\n",
    "            \"Organe_Intitulé_Mandat\": Organe_Intitulé_Mandat,\n",
    "            \"Organe_CodeListe_Mandat\": Organe_CodeListe_Mandat,\n",
    "            \"Organe_Code\": Organe_Code,\n",
    "            \"Organe_Nom\": Organe_Nom,\n",
    "            \"Organe_Intitulé\": Organe_Intitulé,\n",
    "            \"Organe_Déclaration\": Organe_Déclaration,\n",
    "            \"Qualité_Déclarant\": Qualité_Déclarant,\n",
    "            \"Qualité_Déclarant_PDF\": Qualité_Déclarant_PDF,\n",
    "            \"Date_début_Mandat\": Date_début_Mandat,\n",
    "            \"Date_fin_Mandat\": Date_fin_Mandat,\n",
    "            \"Date_dernière_déclaration\": Date_dernière_déclaration,\n",
    "            # \"Régime_Matrimonial\": Régime_Matrimonial,\n",
    "            # \"Régime_Matrimonial_Commentaire\": Régime_Matrimonial_Commentaire,\n",
    "            # \"Nom_Société\": Nom_Société,\n",
    "            # \"Nom_Société_mère\": Nom_Société_mère,\n",
    "            # \"Chiffre_affaires\": Chiffre_affaires,\n",
    "            # \"Nombre_Logements\": Nombre_Logements\n",
    "        }\n",
    "        \n",
    "        data_general.append(row)\n",
    "    \n",
    "\n",
    "# Création du DataFrame\n",
    "dfg = pd.DataFrame(data_general)\n",
    "\n"
   ]
  },
  {
   "cell_type": "code",
   "execution_count": null,
   "metadata": {},
   "outputs": [],
   "source": [
    "dfg"
   ]
  },
  {
   "cell_type": "code",
   "execution_count": null,
   "metadata": {},
   "outputs": [],
   "source": [
    "nb_doublons = dfg.duplicated(subset=[\"Uuid\"]).sum()\n",
    "print(f\"Nombre de doublons sur la colonne 'Uuid' : {nb_doublons}\")"
   ]
  },
  {
   "cell_type": "code",
   "execution_count": null,
   "metadata": {},
   "outputs": [],
   "source": [
    "doublons = dfg[dfg.duplicated(subset=[\"Uuid\"], keep=False)]\n",
    "print(doublons)"
   ]
  },
  {
   "cell_type": "code",
   "execution_count": null,
   "metadata": {},
   "outputs": [],
   "source": [
    "# Uuid est la clé primaire, on enlève les uuid doublons\n",
    "dfg = dfg.drop_duplicates(subset=[\"Uuid\"], keep='first')"
   ]
  },
  {
   "cell_type": "code",
   "execution_count": null,
   "metadata": {},
   "outputs": [],
   "source": [
    "# On trie sur les déclarations d'intérêts (DI) et d'intérêts annexes (DIA) \n",
    "dfg = dfg[dfg['Type_Déclaration'].isin(['DI','DIA'])]"
   ]
  },
  {
   "cell_type": "code",
   "execution_count": null,
   "metadata": {},
   "outputs": [],
   "source": [
    "dfg.info()"
   ]
  },
  {
   "cell_type": "code",
   "execution_count": null,
   "metadata": {},
   "outputs": [],
   "source": [
    "dfg.to_csv(\"dfg\", sep='%', encoding='utf-8', index=False)"
   ]
  },
  {
   "cell_type": "code",
   "execution_count": null,
   "metadata": {},
   "outputs": [],
   "source": [
    "# Initialisation d'une liste pour stocker les lignes de données de tous les items\n",
    "data_items = []\n",
    "\n",
    "for declaration in soup.find_all(\"declaration\"):\n",
    "    Uuid = declaration.find(\"uuid\").get_text(strip=True) if declaration.find(\"uuid\") else None\n",
    "\n",
    "    for section in declaration.find_all([\n",
    "        \"activconsultantdto\", \"activprofcinqdernieredto\", \"activprofconjointdto\", \n",
    "        \"fonctionbenevoledto\", \"mandatelectifdto\", \"participationdirigeantdto\", \"observationinteretdto\"]):\n",
    "\n",
    "        # Vérifier si l'élément \"neant\" est présent et s'il est True\n",
    "        neant_tag = section.find(\"neant\")\n",
    "        if neant_tag and neant_tag.get_text(strip=True).lower() == \"true\":\n",
    "            continue  # On saute cet item et passe au suivant\n",
    "        \n",
    "        for item in section.find_all(\"items\"):\n",
    "            for sub_item in item.find_all(\"items\"):\n",
    "                ID = sub_item.find(\"id\").get_text(strip=True) if sub_item.find(\"id\") else None\n",
    "                Label = sub_item.find(\"label\").get_text(strip=True) if sub_item.find(\"label\") else None\n",
    "                Commentaire = sub_item.find(\"commentaire\").get_text(strip=True) if sub_item.find(\"commentaire\") else None\n",
    "                Conservee = sub_item.find(\"conservee\").get_text(strip=True) if sub_item.find(\"conservee\") else None\n",
    "                Description = sub_item.find([\"description\", \"activiteprof\", \"descriptionactivite\", \n",
    "                                            \"descriptionmandat\", \"activite\", \"contenu\"]).get_text(strip=True) \\\n",
    "                            if sub_item.find([\"description\", \"activiteprof\", \"descriptionactivite\", \n",
    "                                                \"descriptionmandat\", \"activite\", \"contenu\"]) else None\n",
    "                Employeur = sub_item.find([\"nomemployeur\", \"employeur\", \"employeurconjoint\", \n",
    "                                        \"nomstructure\", \"nomsociete\"]).get_text(strip=True) \\\n",
    "                            if sub_item.find([\"nomemployeur\", \"employeur\", \"employeurconjoint\", \n",
    "                                            \"nomstructure\", \"nomsociete\"]) else None\n",
    "                Date_Début = sub_item.find(\"datedebut\").get_text(strip=True) if sub_item.find(\"datedebut\") else None\n",
    "                Date_Fin = sub_item.find(\"datefin\").get_text(strip=True) if sub_item.find(\"datefin\") else None\n",
    "                Rémunération_Type = sub_item.find(\"brutnet\").get_text(strip=True) if sub_item.find(\"brutnet\") else None\n",
    "\n",
    "                # Boucle sur chaque \"montant\" pour créer une ligne par montant/année\n",
    "                for montant in sub_item.find_all(\"montant\"):\n",
    "                    for sub_montant in montant.find_all(\"montant\"):\n",
    "                        Rémunération_Année = sub_montant.find(\"annee\").get_text(strip=True) if sub_montant.find(\"annee\") else None\n",
    "                        Rémunération_Montant = sub_montant.find(\"montant\").get_text(strip=True).replace(\"\\xa0\", \"\").replace(\" \", \"\") \\\n",
    "                                            if sub_montant.find(\"montant\") else None\n",
    "\n",
    "                        # Conversion Rémunération_Montant en float\n",
    "                        try:\n",
    "                            Rémunération_Montant = float(Rémunération_Montant)\n",
    "                        except (ValueError, TypeError):\n",
    "                            continue  # Si la conversion échoue, on saute cette ligne\n",
    "\n",
    "                        # Stocker la ligne (chaque combinaison montant/année est une ligne distincte)\n",
    "                        rowi = {\n",
    "                            \"Uuid\": Uuid,\n",
    "                            \"Type\": section.name,  \n",
    "                            \"ID\": ID,\n",
    "                            \"Label\": Label,\n",
    "                            \"Commentaire\": Commentaire,\n",
    "                            \"Conservee\": Conservee,\n",
    "                            \"Description\": Description,\n",
    "                            \"Employeur\": Employeur,\n",
    "                            \"Date_Début\": Date_Début,\n",
    "                            \"Date_Fin\": Date_Fin,\n",
    "                            \"Rémunération_Année\": Rémunération_Année,\n",
    "                            \"Rémunération_Montant\": Rémunération_Montant,\n",
    "                            \"Rémunération_Type\": Rémunération_Type\n",
    "                        }\n",
    "\n",
    "                        data_items.append(rowi)\n",
    "\n",
    "dfi = pd.DataFrame(data_items)"
   ]
  },
  {
   "cell_type": "code",
   "execution_count": null,
   "metadata": {},
   "outputs": [],
   "source": [
    "# Filtrer les lignes où Description et Employeur ne sont pas 'neant' ou 'aucun'\n",
    "# l'élu a rempli un item mais sans information pertinente\n",
    "dfi = dfi[\n",
    "    ~(\n",
    "        (dfi['Description'].str.lower().isin(['neant', 'aucune','0'])) &\n",
    "        (dfi['Employeur'].str.lower().isin(['neant', 'aucun','0']))\n",
    "    )\n",
    "]\n",
    "dfi"
   ]
  },
  {
   "cell_type": "code",
   "execution_count": null,
   "metadata": {},
   "outputs": [],
   "source": [
    "dfi.info()"
   ]
  },
  {
   "cell_type": "code",
   "execution_count": null,
   "metadata": {},
   "outputs": [],
   "source": [
    "dfi.to_csv(\"dfi\", sep='%', encoding='utf-8', index=False)"
   ]
  },
  {
   "cell_type": "code",
   "execution_count": null,
   "metadata": {},
   "outputs": [],
   "source": [
    "# dfi = pd.read_csv(\"dfi\", sep=';', encoding='utf-8')\n",
    "# dfg = pd.read_csv(\"dfg\", sep=';', encoding='utf-8')"
   ]
  },
  {
   "cell_type": "code",
   "execution_count": null,
   "metadata": {},
   "outputs": [],
   "source": [
    "# On merge les 2 dataframes navec Uuid en clé primaire commune\n",
    "df = pd.merge(dfg, dfi, on=\"Uuid\", how=\"right\")\n",
    "df"
   ]
  },
  {
   "cell_type": "code",
   "execution_count": null,
   "metadata": {},
   "outputs": [],
   "source": [
    "df.to_csv(\"df\", sep='%', encoding='utf-8', index=False)"
   ]
  },
  {
   "cell_type": "code",
   "execution_count": null,
   "metadata": {},
   "outputs": [],
   "source": [
    "\n",
    "# # Initialisation d'une liste pour stocker les lignes du DataFrame\n",
    "# data_items = []\n",
    "\n",
    "# for declaration in soup.find_all(\"declaration\") :\n",
    "    \n",
    "#     Uuid = declaration.find(\"uuid\").get_text(strip=True) if declaration.find(\"uuid\") else None\n",
    "\n",
    "#     for item in declaration.find_all([\n",
    "#         \"activconsultantdto\", \"activprofcinqdernieredto\", \"activprofconjointdto\", \n",
    "#         \"fonctionbenevoledto\", \"mandatelectifdto\", \"participationdirigeantdto\", \"observationinteretdto\"]):\n",
    "\n",
    "#         # Vérifier si l'élément \"neant\" est présent et s'il est True\n",
    "#         neant_tag = item.find(\"neant\")\n",
    "#         if neant_tag and neant_tag.get_text(strip=True).lower() == \"true\":\n",
    "#             # Si \"neant\" est True, on saute cet item et passe au suivant\n",
    "#             continue\n",
    "\n",
    "#         # Extraction des données XML\n",
    "#         ID = item.find(\"id\").get_text(strip=True) if item.find(\"id\") else None\n",
    "#         Label = item.find(\"label\").get_text(strip=True) if item.find(\"label\") else None\n",
    "#         Commentaire = item.find(\"commentaire\").get_text(strip=True) if item.find(\"commentaire\") else None\n",
    "#         Conservee = item.find(\"conservee\").get_text(strip=True) if item.find(\"conservee\") else None\n",
    "#         Description = item.find([\"description\",\"activiteprof\",\"descriptionactivite\",\"descriptionmandat\",\"activite\",\"contenu\"]).get_text(strip=True) if item.find([\"description\",\"activiteprof\",\"descriptionactivite\",\"descriptionmandat\",\"activite\",\"contenu\"]) else None\n",
    "#         Employeur = item.find([\"nomemployeur\",\"employeur\",\"employeurconjoint\",\"nomstructure\",\"nomsociete\"]).get_text(strip=True) if item.find(\"employeur\") else None\n",
    "#         Date_Début = item.find(\"datedebut\").get_text(strip=True) if item.find(\"datedebut\") else None\n",
    "#         Date_Fin = item.find(\"datefin\").get_text(strip=True) if item.find(\"datefin\") else None\n",
    "#         Rémunération_Type = item.find(\"brutnet\").get_text(strip=True) if item.find(\"brutnet\") else None\n",
    "        \n",
    "#         for montant in item.find_all(\"montant\"):\n",
    "        \n",
    "#             Rémunération_Année = montant.find(\"annee\").get_text(strip=True) if montant.find(\"annee\") else None\n",
    "#             Rémunération_Montant = montant.find(\"montant\").get_text(strip=True).replace(\"\\xa0\", \"\").replace(\" \", \"\") if montant.find(\"montant\") else None\n",
    "\n",
    "\n",
    "#             # Stocker la ligne\n",
    "#             rowi = {\n",
    "#                 \"Uuid\": Uuid,\n",
    "#                 \"Type\": item.name,  \n",
    "#                 \"ID\": ID,\n",
    "#                 \"Label\": Label,\n",
    "#                 \"Commentaire\": Commentaire,\n",
    "#                 \"Conservee\": Conservee,\n",
    "#                 \"Description\": Description,\n",
    "#                 \"Employeur\": Employeur,\n",
    "#                 \"Date_Début\": Date_Début,\n",
    "#                 \"Date_Fin\": Date_Fin,\n",
    "#                 \"Rémunération_Année\": Rémunération_Année,\n",
    "#                 \"Rémunération_Montant\": Rémunération_Montant,\n",
    "#                 \"Rémunération_Type\": Rémunération_Type\n",
    "#             }\n",
    "\n",
    "#             data_items.append(rowi)\n",
    "\n",
    "# # Création du DataFrame\n",
    "# dfi = pd.DataFrame(data_items)\n",
    "\n"
   ]
  },
  {
   "cell_type": "code",
   "execution_count": null,
   "metadata": {},
   "outputs": [],
   "source": [
    "# # Liste pour stocker les données\n",
    "# data = []\n",
    "\n",
    "# # Parcours des déclarations\n",
    "# for declaration in root.findall(\"declaration\"):\n",
    "#     date_depot = declaration.find(\"dateDepot\").text\n",
    "#     nom = declaration.find(\"identite/nom\").text\n",
    "#     prenom = declaration.find(\"identite/prenom\").text\n",
    "\n",
    "#     # Parcours des rémunérations des mandats\n",
    "#     for remuneration in declaration.findall(\"activite/missionsElectives/mandat/remunerationMandat\"):\n",
    "#         description_mandat = remuneration.find(\"descriptionMandat\").text\n",
    "#         date_debut = remuneration.find(\"dateDebut\").text\n",
    "#         date_fin = remuneration.find(\"dateFin\").text\n",
    "        \n",
    "#         # Parcours des montants annuels\n",
    "#         for montant_annuel in remuneration.findall(\"montant\"):\n",
    "#             annee = montant_annuel.get(\"annee\")\n",
    "#             montant = montant_annuel.text\n",
    "\n",
    "#             # Ajouter la ligne au dataset\n",
    "#             data.append([date_depot, nom, prenom, description_mandat, date_debut, date_fin, annee, montant])\n",
    "\n",
    "# # Création du DataFrame Pandas\n",
    "# df = pd.DataFrame(data, columns=[\"dateDepot\", \"nom\", \"prenom\", \"descriptionMandat\", \"dateDebut\", \"dateFin\", \"annee\", \"montant\"])\n",
    "\n",
    "# # Afficher les premières lignes\n",
    "# print(df.head())\n",
    "\n",
    "# # Sauvegarder en CSV (optionnel)\n",
    "# df.to_csv(\"extraction_mandats.csv\", index=False)"
   ]
  },
  {
   "cell_type": "code",
   "execution_count": null,
   "metadata": {},
   "outputs": [],
   "source": [
    "liste"
   ]
  },
  {
   "cell_type": "code",
   "execution_count": null,
   "metadata": {},
   "outputs": [],
   "source": [
    "# df = pd.read_csv(\"df\", sep=';', encoding='utf-8')"
   ]
  },
  {
   "cell_type": "markdown",
   "metadata": {},
   "source": [
    "TESTS"
   ]
  },
  {
   "cell_type": "code",
   "execution_count": null,
   "metadata": {},
   "outputs": [],
   "source": [
    "test = [\n",
    "    x\n",
    "    for x in declarations\n",
    "    if x.find(\"uuid\").text or \"\" == \"ed7219fa-b580-46ea-b430-ceeb22c1f223\"\n",
    "]\n",
    "test[0]"
   ]
  },
  {
   "cell_type": "code",
   "execution_count": null,
   "metadata": {},
   "outputs": [],
   "source": [
    "sorted(x.name for x in test[0].find_all(recursive=False))"
   ]
  },
  {
   "cell_type": "markdown",
   "metadata": {},
   "source": [
    "PARSER"
   ]
  },
  {
   "cell_type": "code",
   "execution_count": null,
   "metadata": {},
   "outputs": [],
   "source": [
    "def _parse_mandat_revenues(declarations: BeautifulSoup) -> list[dict]:\n",
    "    section = declarations.find(\"mandatelectifdto\")\n",
    "    if not section:\n",
    "        return []\n",
    "\n",
    "    remunerations = section.find(\"items\")\n",
    "    if not remunerations:\n",
    "        return []\n",
    "\n",
    "    remuneration = remunerations.find(\"remuneration\")\n",
    "    general_infos = {\n",
    "        \"description_mandat\": section.find(\"descriptionmandat\").text,\n",
    "    }\n",
    "    montants = remuneration.find(\"montant\", recursive=False)\n",
    "    return [\n",
    "        general_infos\n",
    "        | {\"montant\": float(item.find(\"montant\").text.replace(\"\\xa0\", \"\"))}\n",
    "        for item in montants.find_all(\"montant\", recursive=False)\n",
    "    ]"
   ]
  },
  {
   "cell_type": "code",
   "execution_count": null,
   "metadata": {},
   "outputs": [],
   "source": [
    "_parse_mandat_revenues(test[0])"
   ]
  },
  {
   "cell_type": "markdown",
   "metadata": {},
   "source": [
    "Voici le [lien](https://www.hatvp.fr/wordpress/wp-content/uploads/2017/07/opendata-structure.xlsx) vers le fichier Excel contenant la structure des données XML"
   ]
  },
  {
   "cell_type": "code",
   "execution_count": null,
   "metadata": {},
   "outputs": [],
   "source": [
    "# Structure du fichier XML\n",
    "\n",
    "structure_df = pd.read_excel(\"https://www.hatvp.fr/wordpress/wp-content/uploads/2017/07/opendata-structure.xlsx\")\n",
    "structure_df"
   ]
  },
  {
   "cell_type": "markdown",
   "metadata": {},
   "source": [
    "Le Xpath contient le chemin de l'élément dans l'arbre XML. \n",
    "On peut utiliser ce chemin pour requêter tous les éléments correspondant au champ\n"
   ]
  },
  {
   "cell_type": "code",
   "execution_count": null,
   "metadata": {},
   "outputs": [],
   "source": [
    "# Exemple de requêtage grâce à au Xpath\n",
    "# Rappel : root est l'élément racine de l'arbre XML, il est défini dans la deuxième cellule de code\n",
    "# Pour tester : récupérer le Xpath plus haut et remplacer la valeur de la variable xpath \n",
    "\n",
    "xpath = \"/declaration/general/declarant/nom\"\n",
    "\n",
    "for element in root.findall(\".\" + xpath):\n",
    "    print(element.text)"
   ]
  },
  {
   "cell_type": "markdown",
   "metadata": {},
   "source": [
    "Etude de Fonctions et mandats électifs"
   ]
  },
  {
   "cell_type": "code",
   "execution_count": null,
   "metadata": {},
   "outputs": [],
   "source": [
    "REMpath = \"/declaration/mandatElectifDto/items/items/remuneration/brutNet\"\n",
    "\n",
    "for element in root.findall(\".\" + REMpath):\n",
    "    print(element.text)"
   ]
  },
  {
   "cell_type": "code",
   "execution_count": null,
   "metadata": {},
   "outputs": [],
   "source": [
    "dict_xpath = {}\n",
    "\n",
    "for index, row in structure_df.iloc[51:62].iterrows():\n",
    "    dict_xpath[row[\"Champs\"]] = row[\"Xpath\"]\n",
    "\n",
    "print(dict_xpath)\n"
   ]
  },
  {
   "cell_type": "code",
   "execution_count": null,
   "metadata": {},
   "outputs": [],
   "source": [
    "dict_personne = {}\n",
    "\n",
    "for index, row in structure_df.iloc[128:129].iterrows():\n",
    "    dict_personne[row[\"Champs\"]] = row[\"Xpath\"]\n",
    "    for index, row in structure_df.iloc[51:62].iterrows():\n",
    "        dict_xpath[row[\"Champs\"]] = row[\"Xpath\"]\n",
    "\n",
    "print(dict_personne)"
   ]
  }
 ],
 "metadata": {
  "kernelspec": {
   "display_name": ".venv",
   "language": "python",
   "name": "python3"
  },
  "language_info": {
   "codemirror_mode": {
    "name": "ipython",
    "version": 3
   },
   "file_extension": ".py",
   "mimetype": "text/x-python",
   "name": "python",
   "nbconvert_exporter": "python",
   "pygments_lexer": "ipython3",
   "version": "3.12.3"
  },
  "toc": {
   "base_numbering": 1,
   "nav_menu": {},
   "number_sections": true,
   "sideBar": true,
   "skip_h1_title": false,
   "title_cell": "Table of Contents",
   "title_sidebar": "Contents",
   "toc_cell": false,
   "toc_position": {},
   "toc_section_display": true,
   "toc_window_display": false
  }
 },
 "nbformat": 4,
 "nbformat_minor": 2
}
