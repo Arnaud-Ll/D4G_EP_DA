{
 "cells": [
  {
   "cell_type": "code",
   "execution_count": null,
   "id": "f20ea327-fdcb-4d62-ae75-58a967e5a3e3",
   "metadata": {},
   "outputs": [],
   "source": [
    "import numpy as np\n",
    "import pandas as pd"
   ]
  },
  {
   "cell_type": "code",
   "execution_count": null,
   "id": "43374f8f-8fa1-4e0f-85cb-c8da41cd5283",
   "metadata": {},
   "outputs": [],
   "source": [
    "from cleanup_functions import clean_numeros\n",
    "from cleanup_functions import classify_id"
   ]
  },
  {
   "cell_type": "code",
   "execution_count": null,
   "id": "69409c79-a557-4841-ab18-729a5c8fbadf",
   "metadata": {
    "jupyter": {
     "source_hidden": true
    }
   },
   "outputs": [],
   "source": [
    "path_to_data = 'data' #path to data"
   ]
  },
  {
   "cell_type": "markdown",
   "id": "b39a1713-a714-4028-8a8f-839eb111c484",
   "metadata": {},
   "source": [
    "## Read Dataset"
   ]
  },
  {
   "cell_type": "code",
   "execution_count": null,
   "id": "958aada3-d72b-471b-986d-63913ab10495",
   "metadata": {},
   "outputs": [],
   "source": [
    "subventions_normalized_data = pd.read_csv(path_to_data+'subventions_normalized_data.csv', on_bad_lines='skip', sep=';')\n",
    "selected_communities_data = pd.read_csv(path_to_data+'selected_communities_data.csv', sep=';')\n",
    "marches_publics_normalized_data = pd.read_csv(path_to_data+'marches_publics_normalized_data.csv', sep=';')\n",
    "all_communities_data = pd.read_csv(path_to_data+'all_communities_data.csv', sep=';')"
   ]
  },
  {
   "cell_type": "markdown",
   "id": "ce2d1eb5-81d1-4b4a-a6a2-97b35f4a6e91",
   "metadata": {},
   "source": [
    "## Used Functions"
   ]
  },
  {
   "cell_type": "markdown",
   "id": "f8da6acd-b88e-4d7d-b97e-1ba6fe250cd8",
   "metadata": {},
   "source": [
    "Cleaning Number Formats in idbeneficiaire and nom_beneficiaire\n",
    "\n",
    "The function clean_numeros standardizes number formats in the idbeneficiaire and nom_beneficiaire columns by handling common formatting issues.\n",
    "Processing Rules:\n",
    "\n",
    "    Preserves missing values (NaN, empty strings, or \"non renseigné\", \"none\", etc.).\n",
    "    Fixes scientific notation with commas (e.g., '8,19672E+13' → '81967200000000'). This may cause issues if leading zeros are lost.\n",
    "    Removes spaces within numbers (e.g., '086 257 568 00034' → '08625756800034').\n",
    "    Removes decimal values with commas (e.g., '09869826600028,00' → '09869826600028').\n",
    "    Removes .0 from whole numbers (e.g., '03986982660002.0' → '03986982660002')"
   ]
  },
  {
   "cell_type": "code",
   "execution_count": null,
   "id": "0b173544-3515-4d7d-9d8c-3ee972c0979d",
   "metadata": {},
   "outputs": [],
   "source": [
    "subventions_normalized_data['idbeneficiaire'] = subventions_normalized_data['idbeneficiaire'].apply(clean_numeros)\n",
    "subventions_normalized_data['nombeneficiaire'] = subventions_normalized_data['nombeneficiaire'].apply(clean_numeros)"
   ]
  },
  {
   "cell_type": "markdown",
   "id": "18b9f0a4-9ddb-46f3-9d71-1af4a422ac7d",
   "metadata": {},
   "source": [
    "Cleaning Beneficiary ID Columns (idbeneficiaire and nom_beneficiaire)\n",
    "\n",
    "The function clean_and_check_length processes the idbeneficiaire and nombeneficiaire columns to identify whether they contain a SIRET (14-digit) or a SIREN (9). The results are categorized into different cases using the switch column:\n",
    "Switch Column Values Explanation:\n",
    "\n",
    "    0 → No changes applied.\n",
    "    1 → idbeneficiaire is a SIRET, stored in siret_bene.\n",
    "    2 → idbeneficiaire is a SIREN, stored in siren_bene.\n",
    "    3 → nom_beneficiaire is a SIRET, moved to siret_bene, and idbeneficiaire is placed in nom_beneficiaire.\n",
    "    4 → nom_beneficiaire is a SIREN, moved to siren_bene, and idbeneficiaire is placed in nom_beneficiaire.\n",
    "\n"
   ]
  },
  {
   "cell_type": "code",
   "execution_count": null,
   "id": "e1ba6d6d-393f-4074-80ac-490917b5b46a",
   "metadata": {},
   "outputs": [],
   "source": [
    "subventions_normalized_data[['siret_bene', 'siren_bene', 'nombeneficiaire_new','switch']] = subventions_normalized_data.apply(\n",
    "    lambda row: pd.Series(classify_id(row['idbeneficiaire'], row['nombeneficiaire'])), axis=1\n",
    ")"
   ]
  },
  {
   "cell_type": "code",
   "execution_count": null,
   "id": "5ef5359e-8027-476c-a6f3-c6f1d0c494cd",
   "metadata": {},
   "outputs": [],
   "source": []
  },
  {
   "cell_type": "code",
   "execution_count": 4,
   "id": "cef179b2-d135-45bf-8409-b3c2c3ddb622",
   "metadata": {},
   "outputs": [
    {
     "name": "stdout",
     "output_type": "stream",
     "text": [
      "Requirement already satisfied: nbconvert in /Users/chloe/opt/anaconda3/lib/python3.9/site-packages (6.4.4)\n",
      "Requirement already satisfied: mistune<2,>=0.8.1 in /Users/chloe/opt/anaconda3/lib/python3.9/site-packages (from nbconvert) (0.8.4)\n",
      "Requirement already satisfied: jinja2>=2.4 in /Users/chloe/opt/anaconda3/lib/python3.9/site-packages (from nbconvert) (3.0.3)\n",
      "Requirement already satisfied: pygments>=2.4.1 in /Users/chloe/opt/anaconda3/lib/python3.9/site-packages (from nbconvert) (2.11.2)\n",
      "Requirement already satisfied: jupyterlab-pygments in /Users/chloe/opt/anaconda3/lib/python3.9/site-packages (from nbconvert) (0.1.2)\n",
      "Requirement already satisfied: traitlets>=5.0 in /Users/chloe/opt/anaconda3/lib/python3.9/site-packages (from nbconvert) (5.14.3)\n",
      "Requirement already satisfied: jupyter-core in /Users/chloe/opt/anaconda3/lib/python3.9/site-packages (from nbconvert) (5.7.2)\n",
      "Requirement already satisfied: nbformat>=4.4 in /Users/chloe/opt/anaconda3/lib/python3.9/site-packages (from nbconvert) (5.5.0)\n",
      "Requirement already satisfied: entrypoints>=0.2.2 in /Users/chloe/opt/anaconda3/lib/python3.9/site-packages (from nbconvert) (0.4)\n",
      "Requirement already satisfied: bleach in /Users/chloe/opt/anaconda3/lib/python3.9/site-packages (from nbconvert) (4.1.0)\n",
      "Requirement already satisfied: pandocfilters>=1.4.1 in /Users/chloe/opt/anaconda3/lib/python3.9/site-packages (from nbconvert) (1.5.0)\n",
      "Requirement already satisfied: testpath in /Users/chloe/opt/anaconda3/lib/python3.9/site-packages (from nbconvert) (0.6.0)\n",
      "Requirement already satisfied: defusedxml in /Users/chloe/opt/anaconda3/lib/python3.9/site-packages (from nbconvert) (0.7.1)\n",
      "Requirement already satisfied: beautifulsoup4 in /Users/chloe/opt/anaconda3/lib/python3.9/site-packages (from nbconvert) (4.11.1)\n",
      "Requirement already satisfied: nbclient<0.6.0,>=0.5.0 in /Users/chloe/opt/anaconda3/lib/python3.9/site-packages (from nbconvert) (0.5.13)\n",
      "Requirement already satisfied: MarkupSafe>=2.0 in /Users/chloe/opt/anaconda3/lib/python3.9/site-packages (from jinja2>=2.4->nbconvert) (2.0.1)\n",
      "Requirement already satisfied: jupyter-client>=6.1.5 in /Users/chloe/opt/anaconda3/lib/python3.9/site-packages (from nbclient<0.6.0,>=0.5.0->nbconvert) (8.6.3)\n",
      "Requirement already satisfied: nest-asyncio in /Users/chloe/opt/anaconda3/lib/python3.9/site-packages (from nbclient<0.6.0,>=0.5.0->nbconvert) (1.5.5)\n",
      "Requirement already satisfied: fastjsonschema in /Users/chloe/opt/anaconda3/lib/python3.9/site-packages (from nbformat>=4.4->nbconvert) (2.16.2)\n",
      "Requirement already satisfied: jsonschema>=2.6 in /Users/chloe/opt/anaconda3/lib/python3.9/site-packages (from nbformat>=4.4->nbconvert) (4.23.0)\n",
      "Requirement already satisfied: soupsieve>1.2 in /Users/chloe/opt/anaconda3/lib/python3.9/site-packages (from beautifulsoup4->nbconvert) (2.3.1)\n",
      "Requirement already satisfied: packaging in /Users/chloe/opt/anaconda3/lib/python3.9/site-packages (from bleach->nbconvert) (24.1)\n",
      "Requirement already satisfied: six>=1.9.0 in /Users/chloe/opt/anaconda3/lib/python3.9/site-packages (from bleach->nbconvert) (1.16.0)\n",
      "Requirement already satisfied: webencodings in /Users/chloe/opt/anaconda3/lib/python3.9/site-packages (from bleach->nbconvert) (0.5.1)\n",
      "Requirement already satisfied: platformdirs>=2.5 in /Users/chloe/opt/anaconda3/lib/python3.9/site-packages (from jupyter-core->nbconvert) (2.5.2)\n",
      "Requirement already satisfied: attrs>=22.2.0 in /Users/chloe/opt/anaconda3/lib/python3.9/site-packages (from jsonschema>=2.6->nbformat>=4.4->nbconvert) (24.2.0)\n",
      "Requirement already satisfied: jsonschema-specifications>=2023.03.6 in /Users/chloe/opt/anaconda3/lib/python3.9/site-packages (from jsonschema>=2.6->nbformat>=4.4->nbconvert) (2023.12.1)\n",
      "Requirement already satisfied: referencing>=0.28.4 in /Users/chloe/opt/anaconda3/lib/python3.9/site-packages (from jsonschema>=2.6->nbformat>=4.4->nbconvert) (0.35.1)\n",
      "Requirement already satisfied: rpds-py>=0.7.1 in /Users/chloe/opt/anaconda3/lib/python3.9/site-packages (from jsonschema>=2.6->nbformat>=4.4->nbconvert) (0.20.0)\n",
      "Requirement already satisfied: importlib-metadata>=4.8.3 in /Users/chloe/opt/anaconda3/lib/python3.9/site-packages (from jupyter-client>=6.1.5->nbclient<0.6.0,>=0.5.0->nbconvert) (4.11.3)\n",
      "Requirement already satisfied: python-dateutil>=2.8.2 in /Users/chloe/opt/anaconda3/lib/python3.9/site-packages (from jupyter-client>=6.1.5->nbclient<0.6.0,>=0.5.0->nbconvert) (2.8.2)\n",
      "Requirement already satisfied: pyzmq>=23.0 in /Users/chloe/opt/anaconda3/lib/python3.9/site-packages (from jupyter-client>=6.1.5->nbclient<0.6.0,>=0.5.0->nbconvert) (26.2.0)\n",
      "Requirement already satisfied: tornado>=6.2 in /Users/chloe/opt/anaconda3/lib/python3.9/site-packages (from jupyter-client>=6.1.5->nbclient<0.6.0,>=0.5.0->nbconvert) (6.4.1)\n",
      "Requirement already satisfied: zipp>=0.5 in /Users/chloe/opt/anaconda3/lib/python3.9/site-packages (from importlib-metadata>=4.8.3->jupyter-client>=6.1.5->nbclient<0.6.0,>=0.5.0->nbconvert) (3.8.0)\n",
      "\n",
      "\u001b[1m[\u001b[0m\u001b[34;49mnotice\u001b[0m\u001b[1;39;49m]\u001b[0m\u001b[39;49m A new release of pip is available: \u001b[0m\u001b[31;49m24.2\u001b[0m\u001b[39;49m -> \u001b[0m\u001b[32;49m25.0.1\u001b[0m\n",
      "\u001b[1m[\u001b[0m\u001b[34;49mnotice\u001b[0m\u001b[1;39;49m]\u001b[0m\u001b[39;49m To update, run: \u001b[0m\u001b[32;49mpip install --upgrade pip\u001b[0m\n",
      "Note: you may need to restart the kernel to use updated packages.\n"
     ]
    }
   ],
   "source": [
    "pip install nbconvert"
   ]
  },
  {
   "cell_type": "code",
   "execution_count": null,
   "id": "3b28ce86-9ec9-4e53-ac5b-358c585496b7",
   "metadata": {},
   "outputs": [],
   "source": []
  }
 ],
 "metadata": {
  "kernelspec": {
   "display_name": "Python 3 (ipykernel)",
   "language": "python",
   "name": "python3"
  },
  "language_info": {
   "codemirror_mode": {
    "name": "ipython",
    "version": 3
   },
   "file_extension": ".py",
   "mimetype": "text/x-python",
   "name": "python",
   "nbconvert_exporter": "python",
   "pygments_lexer": "ipython3",
   "version": "3.9.13"
  }
 },
 "nbformat": 4,
 "nbformat_minor": 5
}
