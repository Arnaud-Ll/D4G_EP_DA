{
 "cells": [
  {
   "cell_type": "code",
   "execution_count": 2,
   "metadata": {},
   "outputs": [],
   "source": [
    "import pandas as pd\n",
    "from pandasql import sqldf\n",
    "import numpy as np\n",
    "from io import StringIO, BytesIO\n",
    "import os\n",
    "import matplotlib.pyplot as plt\n",
    "import seaborn as sns\n",
    "import plotly.graph_objects as go\n",
    "\n",
    "from cleanup.cleanup_functions_mp import create_mp_staging\n",
    "\n",
    "pd.set_option('display.max_columns', 100)"
   ]
  },
  {
   "cell_type": "markdown",
   "metadata": {},
   "source": [
    "# Chargement données"
   ]
  },
  {
   "cell_type": "markdown",
   "metadata": {},
   "source": [
    "**A FAIRE** : Pour faire tourner ce notebook, ajustez le chemin ci-dessous pour pointer vers le dossier où vous stockez tous les tables fournies par la pipeline et les data-eng"
   ]
  },
  {
   "cell_type": "code",
   "execution_count": 3,
   "metadata": {},
   "outputs": [],
   "source": [
    "BACK_DATA_PATH = '~/code/coralieclot/DataForGood/EclaireurPublic/13_eclaireur_public/back/data'\n"
   ]
  },
  {
   "cell_type": "code",
   "execution_count": 15,
   "metadata": {},
   "outputs": [],
   "source": [
    "MP_PATH = os.path.join(BACK_DATA_PATH,'datasets','marches_publics','outputs','normalized_data.csv')\n",
    "COMMUNITIES_PATH = os.path.join(BACK_DATA_PATH,'communities','processed_data','all_communities_data.parquet')"
   ]
  },
  {
   "cell_type": "markdown",
   "metadata": {},
   "source": [
    "## ```marche_publics_normalized_data.csv```"
   ]
  },
  {
   "cell_type": "code",
   "execution_count": 5,
   "metadata": {},
   "outputs": [
    {
     "name": "stdout",
     "output_type": "stream",
     "text": [
      "CPU times: user 1.64 s, sys: 232 ms, total: 1.88 s\n",
      "Wall time: 1.99 s\n"
     ]
    }
   ],
   "source": [
    "%%time\n",
    "mp_df= pd.read_csv(MP_PATH, sep=\";\",index_col=0,dtype=str)"
   ]
  },
  {
   "cell_type": "code",
   "execution_count": 6,
   "metadata": {},
   "outputs": [
    {
     "data": {
      "text/plain": [
       "(476180, 21)"
      ]
     },
     "execution_count": 6,
     "metadata": {},
     "output_type": "execute_result"
    }
   ],
   "source": [
    "mp_df.shape"
   ]
  },
  {
   "cell_type": "code",
   "execution_count": 7,
   "metadata": {},
   "outputs": [
    {
     "data": {
      "text/html": [
       "<div>\n",
       "<style scoped>\n",
       "    .dataframe tbody tr th:only-of-type {\n",
       "        vertical-align: middle;\n",
       "    }\n",
       "\n",
       "    .dataframe tbody tr th {\n",
       "        vertical-align: top;\n",
       "    }\n",
       "\n",
       "    .dataframe thead th {\n",
       "        text-align: right;\n",
       "    }\n",
       "</style>\n",
       "<table border=\"1\" class=\"dataframe\">\n",
       "  <thead>\n",
       "    <tr style=\"text-align: right;\">\n",
       "      <th></th>\n",
       "      <th>objet</th>\n",
       "      <th>nature</th>\n",
       "      <th>datenotification</th>\n",
       "      <th>datepublicationdonnees</th>\n",
       "      <th>_type</th>\n",
       "      <th>formeprix</th>\n",
       "      <th>acheteur_nom</th>\n",
       "      <th>lieuexecution_typecode</th>\n",
       "      <th>codecpv</th>\n",
       "      <th>uid</th>\n",
       "      <th>montant</th>\n",
       "      <th>id</th>\n",
       "      <th>lieuexecution_code</th>\n",
       "      <th>acheteur_id</th>\n",
       "      <th>dureemois</th>\n",
       "      <th>procedure</th>\n",
       "      <th>lieuexecution_nom</th>\n",
       "      <th>siren</th>\n",
       "      <th>nom</th>\n",
       "      <th>type</th>\n",
       "      <th>titulaires</th>\n",
       "    </tr>\n",
       "  </thead>\n",
       "  <tbody>\n",
       "    <tr>\n",
       "      <th>1221</th>\n",
       "      <td>GN9P18 - Prestation de maîtrise d'uvre pour l...</td>\n",
       "      <td>MARCHE</td>\n",
       "      <td>2020-02-07</td>\n",
       "      <td>2020-02-10</td>\n",
       "      <td>NaN</td>\n",
       "      <td>Révisable</td>\n",
       "      <td>NaN</td>\n",
       "      <td>CODE POSTAL</td>\n",
       "      <td>71335000</td>\n",
       "      <td>NaN</td>\n",
       "      <td>107400.0</td>\n",
       "      <td>20194694180000</td>\n",
       "      <td>11370</td>\n",
       "      <td>24110059300078</td>\n",
       "      <td>42</td>\n",
       "      <td>Procédure adaptée</td>\n",
       "      <td>Leucate</td>\n",
       "      <td>241100593</td>\n",
       "      <td>CA Le Grand Narbonne</td>\n",
       "      <td>CA</td>\n",
       "      <td>['TOGNELLA/CITE']</td>\n",
       "    </tr>\n",
       "    <tr>\n",
       "      <th>1222</th>\n",
       "      <td>20 F PDT ENT-Lot 2 : Produits d'entretien</td>\n",
       "      <td>ACCORD-CADRE</td>\n",
       "      <td>2020-01-28</td>\n",
       "      <td>2020-02-10</td>\n",
       "      <td>NaN</td>\n",
       "      <td>Ferme</td>\n",
       "      <td>NaN</td>\n",
       "      <td>CODE PAYS</td>\n",
       "      <td>39800000</td>\n",
       "      <td>NaN</td>\n",
       "      <td>52000.0</td>\n",
       "      <td>2019rDk0jbS9to00</td>\n",
       "      <td>FR</td>\n",
       "      <td>20004133300267</td>\n",
       "      <td>48</td>\n",
       "      <td>Procédure adaptée</td>\n",
       "      <td>FRANCE</td>\n",
       "      <td>200041333</td>\n",
       "      <td>CC de Parthenay-Gâtine</td>\n",
       "      <td>CC</td>\n",
       "      <td>['POLLET']</td>\n",
       "    </tr>\n",
       "    <tr>\n",
       "      <th>1223</th>\n",
       "      <td>20 F PDT ENT-Lot 1 : Essuyage papier et hygi�n...</td>\n",
       "      <td>ACCORD-CADRE</td>\n",
       "      <td>2020-01-28</td>\n",
       "      <td>2020-02-10</td>\n",
       "      <td>NaN</td>\n",
       "      <td>Ferme</td>\n",
       "      <td>NaN</td>\n",
       "      <td>CODE PAYS</td>\n",
       "      <td>39800000</td>\n",
       "      <td>NaN</td>\n",
       "      <td>112000.0</td>\n",
       "      <td>2019f2Gd0nDpRU00</td>\n",
       "      <td>FR</td>\n",
       "      <td>20004133300267</td>\n",
       "      <td>48</td>\n",
       "      <td>Procédure adaptée</td>\n",
       "      <td>FRANCE</td>\n",
       "      <td>200041333</td>\n",
       "      <td>CC de Parthenay-Gâtine</td>\n",
       "      <td>CC</td>\n",
       "      <td>['POLLET']</td>\n",
       "    </tr>\n",
       "    <tr>\n",
       "      <th>1226</th>\n",
       "      <td>2019-08-Lot 2 Peintures, rev�tements sols souples</td>\n",
       "      <td>MARCHE</td>\n",
       "      <td>2020-01-22</td>\n",
       "      <td>2020-02-10</td>\n",
       "      <td>NaN</td>\n",
       "      <td>Ferme</td>\n",
       "      <td>NaN</td>\n",
       "      <td>CODE DEPARTEMENT</td>\n",
       "      <td>45442110</td>\n",
       "      <td>NaN</td>\n",
       "      <td>17762.4</td>\n",
       "      <td>2019sFApN1hOGo00</td>\n",
       "      <td>78</td>\n",
       "      <td>21780545600019</td>\n",
       "      <td>120</td>\n",
       "      <td>Procédure adaptée</td>\n",
       "      <td>Yvelines</td>\n",
       "      <td>217805456</td>\n",
       "      <td>Saint-Cyr-l'École</td>\n",
       "      <td>COM</td>\n",
       "      <td>['Entreprise g�n�rale de peinture A. VIGNOLA']</td>\n",
       "    </tr>\n",
       "    <tr>\n",
       "      <th>1227</th>\n",
       "      <td>2019-08-Lot 1 D�molition, gros oeuvre, carrela...</td>\n",
       "      <td>MARCHE</td>\n",
       "      <td>2019-12-26</td>\n",
       "      <td>2020-02-10</td>\n",
       "      <td>NaN</td>\n",
       "      <td>Ferme</td>\n",
       "      <td>NaN</td>\n",
       "      <td>CODE DEPARTEMENT</td>\n",
       "      <td>45111100</td>\n",
       "      <td>NaN</td>\n",
       "      <td>71011.0</td>\n",
       "      <td>2019J4iAWL44B300</td>\n",
       "      <td>78</td>\n",
       "      <td>21780545600019</td>\n",
       "      <td>120</td>\n",
       "      <td>Procédure adaptée</td>\n",
       "      <td>Yvelines</td>\n",
       "      <td>217805456</td>\n",
       "      <td>Saint-Cyr-l'École</td>\n",
       "      <td>COM</td>\n",
       "      <td>['Coop�rative Moderne de Construction']</td>\n",
       "    </tr>\n",
       "  </tbody>\n",
       "</table>\n",
       "</div>"
      ],
      "text/plain": [
       "                                                  objet        nature  \\\n",
       "1221  GN9P18 - Prestation de maîtrise d'uvre pour l...        MARCHE   \n",
       "1222          20 F PDT ENT-Lot 2 : Produits d'entretien  ACCORD-CADRE   \n",
       "1223  20 F PDT ENT-Lot 1 : Essuyage papier et hygi�n...  ACCORD-CADRE   \n",
       "1226  2019-08-Lot 2 Peintures, rev�tements sols souples        MARCHE   \n",
       "1227  2019-08-Lot 1 D�molition, gros oeuvre, carrela...        MARCHE   \n",
       "\n",
       "     datenotification datepublicationdonnees _type  formeprix acheteur_nom  \\\n",
       "1221       2020-02-07             2020-02-10   NaN  Révisable          NaN   \n",
       "1222       2020-01-28             2020-02-10   NaN      Ferme          NaN   \n",
       "1223       2020-01-28             2020-02-10   NaN      Ferme          NaN   \n",
       "1226       2020-01-22             2020-02-10   NaN      Ferme          NaN   \n",
       "1227       2019-12-26             2020-02-10   NaN      Ferme          NaN   \n",
       "\n",
       "     lieuexecution_typecode   codecpv  uid   montant                id  \\\n",
       "1221            CODE POSTAL  71335000  NaN  107400.0    20194694180000   \n",
       "1222              CODE PAYS  39800000  NaN   52000.0  2019rDk0jbS9to00   \n",
       "1223              CODE PAYS  39800000  NaN  112000.0  2019f2Gd0nDpRU00   \n",
       "1226       CODE DEPARTEMENT  45442110  NaN   17762.4  2019sFApN1hOGo00   \n",
       "1227       CODE DEPARTEMENT  45111100  NaN   71011.0  2019J4iAWL44B300   \n",
       "\n",
       "     lieuexecution_code     acheteur_id dureemois          procedure  \\\n",
       "1221              11370  24110059300078        42  Procédure adaptée   \n",
       "1222                 FR  20004133300267        48  Procédure adaptée   \n",
       "1223                 FR  20004133300267        48  Procédure adaptée   \n",
       "1226                 78  21780545600019       120  Procédure adaptée   \n",
       "1227                 78  21780545600019       120  Procédure adaptée   \n",
       "\n",
       "     lieuexecution_nom      siren                     nom type  \\\n",
       "1221           Leucate  241100593    CA Le Grand Narbonne   CA   \n",
       "1222            FRANCE  200041333  CC de Parthenay-Gâtine   CC   \n",
       "1223            FRANCE  200041333  CC de Parthenay-Gâtine   CC   \n",
       "1226          Yvelines  217805456       Saint-Cyr-l'École  COM   \n",
       "1227          Yvelines  217805456       Saint-Cyr-l'École  COM   \n",
       "\n",
       "                                          titulaires  \n",
       "1221                               ['TOGNELLA/CITE']  \n",
       "1222                                      ['POLLET']  \n",
       "1223                                      ['POLLET']  \n",
       "1226  ['Entreprise g�n�rale de peinture A. VIGNOLA']  \n",
       "1227         ['Coop�rative Moderne de Construction']  "
      ]
     },
     "execution_count": 7,
     "metadata": {},
     "output_type": "execute_result"
    }
   ],
   "source": [
    "mp_df.head()"
   ]
  },
  {
   "cell_type": "markdown",
   "metadata": {},
   "source": [
    "## Codes CPV"
   ]
  },
  {
   "cell_type": "code",
   "execution_count": 8,
   "metadata": {},
   "outputs": [
    {
     "data": {
      "text/html": [
       "<div>\n",
       "<style scoped>\n",
       "    .dataframe tbody tr th:only-of-type {\n",
       "        vertical-align: middle;\n",
       "    }\n",
       "\n",
       "    .dataframe tbody tr th {\n",
       "        vertical-align: top;\n",
       "    }\n",
       "\n",
       "    .dataframe thead th {\n",
       "        text-align: right;\n",
       "    }\n",
       "</style>\n",
       "<table border=\"1\" class=\"dataframe\">\n",
       "  <thead>\n",
       "    <tr style=\"text-align: right;\">\n",
       "      <th></th>\n",
       "      <th>code</th>\n",
       "      <th>cpv_label</th>\n",
       "      <th>level</th>\n",
       "    </tr>\n",
       "  </thead>\n",
       "  <tbody>\n",
       "    <tr>\n",
       "      <th>0</th>\n",
       "      <td>03</td>\n",
       "      <td>Produits agricoles, de l'élevage, de la pêche,...</td>\n",
       "      <td>2</td>\n",
       "    </tr>\n",
       "    <tr>\n",
       "      <th>1</th>\n",
       "      <td>09</td>\n",
       "      <td>Produits pétroliers, combustibles, électricité...</td>\n",
       "      <td>2</td>\n",
       "    </tr>\n",
       "    <tr>\n",
       "      <th>2</th>\n",
       "      <td>14</td>\n",
       "      <td>Produits d'exploitation des mines, métaux de b...</td>\n",
       "      <td>2</td>\n",
       "    </tr>\n",
       "    <tr>\n",
       "      <th>3</th>\n",
       "      <td>15</td>\n",
       "      <td>Produits alimentaires, boissons, tabac et prod...</td>\n",
       "      <td>2</td>\n",
       "    </tr>\n",
       "    <tr>\n",
       "      <th>4</th>\n",
       "      <td>16</td>\n",
       "      <td>Machines agricoles</td>\n",
       "      <td>2</td>\n",
       "    </tr>\n",
       "  </tbody>\n",
       "</table>\n",
       "</div>"
      ],
      "text/plain": [
       "  code                                          cpv_label  level\n",
       "0   03  Produits agricoles, de l'élevage, de la pêche,...      2\n",
       "1   09  Produits pétroliers, combustibles, électricité...      2\n",
       "2   14  Produits d'exploitation des mines, métaux de b...      2\n",
       "3   15  Produits alimentaires, boissons, tabac et prod...      2\n",
       "4   16                                 Machines agricoles      2"
      ]
     },
     "execution_count": 8,
     "metadata": {},
     "output_type": "execute_result"
    }
   ],
   "source": [
    "cpv_df = pd.read_csv(\"data/cpv_long.csv\")\n",
    "cpv_df.head()"
   ]
  },
  {
   "cell_type": "markdown",
   "metadata": {},
   "source": [
    "# Nettoyage"
   ]
  },
  {
   "cell_type": "code",
   "execution_count": 9,
   "metadata": {},
   "outputs": [
    {
     "name": "stdout",
     "output_type": "stream",
     "text": [
      "<class 'pandas.core.frame.DataFrame'>\n",
      "Index: 476180 entries, 1221 to 1011072\n",
      "Data columns (total 21 columns):\n",
      " #   Column                  Non-Null Count   Dtype \n",
      "---  ------                  --------------   ----- \n",
      " 0   objet                   476180 non-null  object\n",
      " 1   nature                  476149 non-null  object\n",
      " 2   datenotification        476180 non-null  object\n",
      " 3   datepublicationdonnees  474251 non-null  object\n",
      " 4   _type                   169891 non-null  object\n",
      " 5   formeprix               474122 non-null  object\n",
      " 6   acheteur_nom            76522 non-null   object\n",
      " 7   lieuexecution_typecode  476179 non-null  object\n",
      " 8   codecpv                 474432 non-null  object\n",
      " 9   uid                     274773 non-null  object\n",
      " 10  montant                 476180 non-null  object\n",
      " 11  id                      472288 non-null  object\n",
      " 12  lieuexecution_code      476174 non-null  object\n",
      " 13  acheteur_id             476180 non-null  object\n",
      " 14  dureemois               476180 non-null  object\n",
      " 15  procedure               475148 non-null  object\n",
      " 16  lieuexecution_nom       475423 non-null  object\n",
      " 17  siren                   476180 non-null  object\n",
      " 18  nom                     476180 non-null  object\n",
      " 19  type                    476180 non-null  object\n",
      " 20  titulaires              475371 non-null  object\n",
      "dtypes: object(21)\n",
      "memory usage: 79.9+ MB\n"
     ]
    }
   ],
   "source": [
    "mp_df.info()"
   ]
  },
  {
   "cell_type": "code",
   "execution_count": 10,
   "metadata": {},
   "outputs": [
    {
     "name": "stdout",
     "output_type": "stream",
     "text": [
      "Cleaning duplicates: 476180 entries\n",
      "     After removing duplicates: 473301 entries\n",
      "Cleaning montant: 473301 entries\n",
      "Cleaning dates: 473301\n",
      "    After removing non valid dates from notification: 473234\n",
      "Cleaning datenotification: 473234\n",
      "    After removing non valid dates from publication: 473194\n",
      "    After dropping rows before 2016: 471088\n",
      "Cleaning duration of contract in months: 471088\n",
      "Cleaning procedure: 471088\n",
      "Share of dropped observations: 0.010693435255575645\n"
     ]
    }
   ],
   "source": [
    "#Creating clean dataset\n",
    "mp_clean = create_mp_staging(mp_df,cpv_df)"
   ]
  },
  {
   "cell_type": "code",
   "execution_count": 11,
   "metadata": {},
   "outputs": [
    {
     "data": {
      "text/html": [
       "<div>\n",
       "<style scoped>\n",
       "    .dataframe tbody tr th:only-of-type {\n",
       "        vertical-align: middle;\n",
       "    }\n",
       "\n",
       "    .dataframe tbody tr th {\n",
       "        vertical-align: top;\n",
       "    }\n",
       "\n",
       "    .dataframe thead th {\n",
       "        text-align: right;\n",
       "    }\n",
       "</style>\n",
       "<table border=\"1\" class=\"dataframe\">\n",
       "  <thead>\n",
       "    <tr style=\"text-align: right;\">\n",
       "      <th></th>\n",
       "      <th>acheteur_siren</th>\n",
       "      <th>acheteur_type</th>\n",
       "      <th>acheteur_nom</th>\n",
       "      <th>acheteur_sirene</th>\n",
       "      <th>titulaires_liste_noms</th>\n",
       "      <th>titulaires_nombre</th>\n",
       "      <th>objet</th>\n",
       "      <th>nature</th>\n",
       "      <th>_type</th>\n",
       "      <th>formeprix</th>\n",
       "      <th>lieuexecution_typecode</th>\n",
       "      <th>uid</th>\n",
       "      <th>montant</th>\n",
       "      <th>id</th>\n",
       "      <th>lieuexecution_code</th>\n",
       "      <th>dureemois</th>\n",
       "      <th>procedure</th>\n",
       "      <th>lieuexecution_nom</th>\n",
       "      <th>codecpv</th>\n",
       "      <th>cpv_8</th>\n",
       "      <th>cpv_2</th>\n",
       "      <th>cpv_2_label</th>\n",
       "      <th>cpv_8_label</th>\n",
       "      <th>obligation_publication</th>\n",
       "      <th>datenotification</th>\n",
       "      <th>datenotification_annee</th>\n",
       "      <th>datepublication</th>\n",
       "      <th>datepublication_annee</th>\n",
       "      <th>delaipublication_jours</th>\n",
       "    </tr>\n",
       "  </thead>\n",
       "  <tbody>\n",
       "    <tr>\n",
       "      <th>1221</th>\n",
       "      <td>241100593</td>\n",
       "      <td>CA</td>\n",
       "      <td>CA Le Grand Narbonne</td>\n",
       "      <td>24110059300078</td>\n",
       "      <td>[TOGNELLA/CITE]</td>\n",
       "      <td>1</td>\n",
       "      <td>GN9P18 - Prestation de maîtrise d'uvre pour l...</td>\n",
       "      <td>Marché</td>\n",
       "      <td>NaN</td>\n",
       "      <td>Révisable</td>\n",
       "      <td>CODE POSTAL</td>\n",
       "      <td>NaN</td>\n",
       "      <td>107400.0</td>\n",
       "      <td>20194694180000</td>\n",
       "      <td>11370</td>\n",
       "      <td>42</td>\n",
       "      <td>Procédure adaptée</td>\n",
       "      <td>Leucate</td>\n",
       "      <td>71335000</td>\n",
       "      <td>71335000</td>\n",
       "      <td>71</td>\n",
       "      <td>Services d'architecture, services de construct...</td>\n",
       "      <td>NaN</td>\n",
       "      <td>Obligatoire</td>\n",
       "      <td>2020-02-07</td>\n",
       "      <td>2020</td>\n",
       "      <td>2020-02-10</td>\n",
       "      <td>2020</td>\n",
       "      <td>3.0</td>\n",
       "    </tr>\n",
       "    <tr>\n",
       "      <th>1222</th>\n",
       "      <td>200041333</td>\n",
       "      <td>CC</td>\n",
       "      <td>CC de Parthenay-Gâtine</td>\n",
       "      <td>20004133300267</td>\n",
       "      <td>[POLLET]</td>\n",
       "      <td>1</td>\n",
       "      <td>20 F PDT ENT-Lot 2 : Produits d'entretien</td>\n",
       "      <td>Accord-cadre</td>\n",
       "      <td>NaN</td>\n",
       "      <td>Fermé</td>\n",
       "      <td>CODE PAYS</td>\n",
       "      <td>NaN</td>\n",
       "      <td>52000.0</td>\n",
       "      <td>2019rDk0jbS9to00</td>\n",
       "      <td>FR</td>\n",
       "      <td>48</td>\n",
       "      <td>Procédure adaptée</td>\n",
       "      <td>FRANCE</td>\n",
       "      <td>39800000</td>\n",
       "      <td>39800000</td>\n",
       "      <td>39</td>\n",
       "      <td>Meubles (y compris les meubles de bureau), amé...</td>\n",
       "      <td>NaN</td>\n",
       "      <td>Obligatoire</td>\n",
       "      <td>2020-01-28</td>\n",
       "      <td>2020</td>\n",
       "      <td>2020-02-10</td>\n",
       "      <td>2020</td>\n",
       "      <td>13.0</td>\n",
       "    </tr>\n",
       "    <tr>\n",
       "      <th>1223</th>\n",
       "      <td>200041333</td>\n",
       "      <td>CC</td>\n",
       "      <td>CC de Parthenay-Gâtine</td>\n",
       "      <td>20004133300267</td>\n",
       "      <td>[POLLET]</td>\n",
       "      <td>1</td>\n",
       "      <td>20 F PDT ENT-Lot 1 : Essuyage papier et hygi�n...</td>\n",
       "      <td>Accord-cadre</td>\n",
       "      <td>NaN</td>\n",
       "      <td>Fermé</td>\n",
       "      <td>CODE PAYS</td>\n",
       "      <td>NaN</td>\n",
       "      <td>112000.0</td>\n",
       "      <td>2019f2Gd0nDpRU00</td>\n",
       "      <td>FR</td>\n",
       "      <td>48</td>\n",
       "      <td>Procédure adaptée</td>\n",
       "      <td>FRANCE</td>\n",
       "      <td>39800000</td>\n",
       "      <td>39800000</td>\n",
       "      <td>39</td>\n",
       "      <td>Meubles (y compris les meubles de bureau), amé...</td>\n",
       "      <td>NaN</td>\n",
       "      <td>Obligatoire</td>\n",
       "      <td>2020-01-28</td>\n",
       "      <td>2020</td>\n",
       "      <td>2020-02-10</td>\n",
       "      <td>2020</td>\n",
       "      <td>13.0</td>\n",
       "    </tr>\n",
       "    <tr>\n",
       "      <th>1226</th>\n",
       "      <td>217805456</td>\n",
       "      <td>COM</td>\n",
       "      <td>Saint-Cyr-l'École</td>\n",
       "      <td>21780545600019</td>\n",
       "      <td>[Entreprise g�n�rale de peinture A. VIGNOLA]</td>\n",
       "      <td>1</td>\n",
       "      <td>2019-08-Lot 2 Peintures, rev�tements sols souples</td>\n",
       "      <td>Marché</td>\n",
       "      <td>NaN</td>\n",
       "      <td>Fermé</td>\n",
       "      <td>CODE DEPARTEMENT</td>\n",
       "      <td>NaN</td>\n",
       "      <td>17762.0</td>\n",
       "      <td>2019sFApN1hOGo00</td>\n",
       "      <td>78</td>\n",
       "      <td>120</td>\n",
       "      <td>Procédure adaptée</td>\n",
       "      <td>Yvelines</td>\n",
       "      <td>45442110</td>\n",
       "      <td>45442110</td>\n",
       "      <td>45</td>\n",
       "      <td>Travaux de construction</td>\n",
       "      <td>Travaux de peinture de bâtiments</td>\n",
       "      <td>Optionnel</td>\n",
       "      <td>2020-01-22</td>\n",
       "      <td>2020</td>\n",
       "      <td>2020-02-10</td>\n",
       "      <td>2020</td>\n",
       "      <td>19.0</td>\n",
       "    </tr>\n",
       "    <tr>\n",
       "      <th>1227</th>\n",
       "      <td>217805456</td>\n",
       "      <td>COM</td>\n",
       "      <td>Saint-Cyr-l'École</td>\n",
       "      <td>21780545600019</td>\n",
       "      <td>[Coop�rative Moderne de Construction]</td>\n",
       "      <td>1</td>\n",
       "      <td>2019-08-Lot 1 D�molition, gros oeuvre, carrela...</td>\n",
       "      <td>Marché</td>\n",
       "      <td>NaN</td>\n",
       "      <td>Fermé</td>\n",
       "      <td>CODE DEPARTEMENT</td>\n",
       "      <td>NaN</td>\n",
       "      <td>71011.0</td>\n",
       "      <td>2019J4iAWL44B300</td>\n",
       "      <td>78</td>\n",
       "      <td>120</td>\n",
       "      <td>Procédure adaptée</td>\n",
       "      <td>Yvelines</td>\n",
       "      <td>45111100</td>\n",
       "      <td>45111100</td>\n",
       "      <td>45</td>\n",
       "      <td>Travaux de construction</td>\n",
       "      <td>Travaux de démolition</td>\n",
       "      <td>Obligatoire</td>\n",
       "      <td>2019-12-26</td>\n",
       "      <td>2019</td>\n",
       "      <td>2020-02-10</td>\n",
       "      <td>2020</td>\n",
       "      <td>46.0</td>\n",
       "    </tr>\n",
       "  </tbody>\n",
       "</table>\n",
       "</div>"
      ],
      "text/plain": [
       "     acheteur_siren acheteur_type            acheteur_nom acheteur_sirene  \\\n",
       "1221      241100593            CA    CA Le Grand Narbonne  24110059300078   \n",
       "1222      200041333            CC  CC de Parthenay-Gâtine  20004133300267   \n",
       "1223      200041333            CC  CC de Parthenay-Gâtine  20004133300267   \n",
       "1226      217805456           COM       Saint-Cyr-l'École  21780545600019   \n",
       "1227      217805456           COM       Saint-Cyr-l'École  21780545600019   \n",
       "\n",
       "                             titulaires_liste_noms  titulaires_nombre  \\\n",
       "1221                               [TOGNELLA/CITE]                  1   \n",
       "1222                                      [POLLET]                  1   \n",
       "1223                                      [POLLET]                  1   \n",
       "1226  [Entreprise g�n�rale de peinture A. VIGNOLA]                  1   \n",
       "1227         [Coop�rative Moderne de Construction]                  1   \n",
       "\n",
       "                                                  objet        nature _type  \\\n",
       "1221  GN9P18 - Prestation de maîtrise d'uvre pour l...        Marché   NaN   \n",
       "1222          20 F PDT ENT-Lot 2 : Produits d'entretien  Accord-cadre   NaN   \n",
       "1223  20 F PDT ENT-Lot 1 : Essuyage papier et hygi�n...  Accord-cadre   NaN   \n",
       "1226  2019-08-Lot 2 Peintures, rev�tements sols souples        Marché   NaN   \n",
       "1227  2019-08-Lot 1 D�molition, gros oeuvre, carrela...        Marché   NaN   \n",
       "\n",
       "      formeprix lieuexecution_typecode  uid   montant                id  \\\n",
       "1221  Révisable            CODE POSTAL  NaN  107400.0    20194694180000   \n",
       "1222      Fermé              CODE PAYS  NaN   52000.0  2019rDk0jbS9to00   \n",
       "1223      Fermé              CODE PAYS  NaN  112000.0  2019f2Gd0nDpRU00   \n",
       "1226      Fermé       CODE DEPARTEMENT  NaN   17762.0  2019sFApN1hOGo00   \n",
       "1227      Fermé       CODE DEPARTEMENT  NaN   71011.0  2019J4iAWL44B300   \n",
       "\n",
       "     lieuexecution_code  dureemois          procedure lieuexecution_nom  \\\n",
       "1221              11370         42  Procédure adaptée           Leucate   \n",
       "1222                 FR         48  Procédure adaptée            FRANCE   \n",
       "1223                 FR         48  Procédure adaptée            FRANCE   \n",
       "1226                 78        120  Procédure adaptée          Yvelines   \n",
       "1227                 78        120  Procédure adaptée          Yvelines   \n",
       "\n",
       "       codecpv     cpv_8 cpv_2  \\\n",
       "1221  71335000  71335000    71   \n",
       "1222  39800000  39800000    39   \n",
       "1223  39800000  39800000    39   \n",
       "1226  45442110  45442110    45   \n",
       "1227  45111100  45111100    45   \n",
       "\n",
       "                                            cpv_2_label  \\\n",
       "1221  Services d'architecture, services de construct...   \n",
       "1222  Meubles (y compris les meubles de bureau), amé...   \n",
       "1223  Meubles (y compris les meubles de bureau), amé...   \n",
       "1226                            Travaux de construction   \n",
       "1227                            Travaux de construction   \n",
       "\n",
       "                           cpv_8_label obligation_publication  \\\n",
       "1221                               NaN            Obligatoire   \n",
       "1222                               NaN            Obligatoire   \n",
       "1223                               NaN            Obligatoire   \n",
       "1226  Travaux de peinture de bâtiments              Optionnel   \n",
       "1227             Travaux de démolition            Obligatoire   \n",
       "\n",
       "     datenotification  datenotification_annee datepublication  \\\n",
       "1221       2020-02-07                    2020      2020-02-10   \n",
       "1222       2020-01-28                    2020      2020-02-10   \n",
       "1223       2020-01-28                    2020      2020-02-10   \n",
       "1226       2020-01-22                    2020      2020-02-10   \n",
       "1227       2019-12-26                    2019      2020-02-10   \n",
       "\n",
       "      datepublication_annee  delaipublication_jours  \n",
       "1221                   2020                     3.0  \n",
       "1222                   2020                    13.0  \n",
       "1223                   2020                    13.0  \n",
       "1226                   2020                    19.0  \n",
       "1227                   2020                    46.0  "
      ]
     },
     "execution_count": 11,
     "metadata": {},
     "output_type": "execute_result"
    }
   ],
   "source": [
    "mp_clean.head()"
   ]
  },
  {
   "cell_type": "code",
   "execution_count": 83,
   "metadata": {},
   "outputs": [],
   "source": [
    "mp_clean.to_csv('data/mp_staging.csv')"
   ]
  },
  {
   "cell_type": "code",
   "execution_count": 12,
   "metadata": {},
   "outputs": [
    {
     "data": {
      "text/plain": [
       "Index(['acheteur_siren', 'acheteur_type', 'acheteur_nom', 'acheteur_sirene',\n",
       "       'titulaires_liste_noms', 'titulaires_nombre', 'objet', 'nature',\n",
       "       '_type', 'formeprix', 'lieuexecution_typecode', 'uid', 'montant', 'id',\n",
       "       'lieuexecution_code', 'dureemois', 'procedure', 'lieuexecution_nom',\n",
       "       'codecpv', 'cpv_8', 'cpv_2', 'cpv_2_label', 'cpv_8_label',\n",
       "       'obligation_publication', 'datenotification', 'datenotification_annee',\n",
       "       'datepublication', 'datepublication_annee', 'delaipublication_jours'],\n",
       "      dtype='object')"
      ]
     },
     "execution_count": 12,
     "metadata": {},
     "output_type": "execute_result"
    }
   ],
   "source": [
    "mp_clean.columns"
   ]
  },
  {
   "cell_type": "markdown",
   "metadata": {},
   "source": [
    "**ATTENTION** : A confirmer si c'est ok de supprimer les lignes dupliquées"
   ]
  },
  {
   "cell_type": "markdown",
   "metadata": {},
   "source": [
    "# Code pour l'étude d'une ville - Lyon"
   ]
  },
  {
   "cell_type": "markdown",
   "metadata": {},
   "source": [
    "Etape 1 : on sélectionne la ville via selected_communities"
   ]
  },
  {
   "cell_type": "code",
   "execution_count": 16,
   "metadata": {},
   "outputs": [],
   "source": [
    "communities_df = pd.read_parquet(path=COMMUNITIES_PATH)\n",
    "communities_df = communities_df.astype({'siren':str})\n",
    "\n",
    "NOM = 'Lyon'\n",
    "TYPE = 'COM'\n",
    "\n",
    "specific_community_df = communities_df.loc[(communities_df['nom'] == NOM) & (communities_df['type']==TYPE)]\n",
    "\n",
    "assert len(specific_community_df)==1\n",
    "\n",
    "community_info = specific_community_df.to_dict('records')[0]\n",
    "\n",
    "#Also want to look up specific info about community\n",
    "\n",
    "ELECTED_OFFICIALS_PATH = os.path.join(BACK_DATA_PATH, 'elected_officials', 'elected_officials.parquet')\n",
    "mayors_df = pd.read_parquet(ELECTED_OFFICIALS_PATH).query(\"mandat == 'Maires'\")\n",
    "community_mayor = mayors_df[mayors_df['code_commune'] == community_info.get('cog')].to_dict('records')[0]"
   ]
  },
  {
   "cell_type": "code",
   "execution_count": 17,
   "metadata": {},
   "outputs": [
    {
     "data": {
      "text/plain": [
       "(36352, 17)"
      ]
     },
     "execution_count": 17,
     "metadata": {},
     "output_type": "execute_result"
    }
   ],
   "source": [
    "communities_df.shape"
   ]
  },
  {
   "cell_type": "code",
   "execution_count": 18,
   "metadata": {},
   "outputs": [
    {
     "data": {
      "text/plain": [
       "{'nom': 'Lyon',\n",
       " 'siren': '216901231',\n",
       " 'type': 'COM',\n",
       " 'cog': '69123',\n",
       " 'cog_3digits': None,\n",
       " 'code_departement': '69',\n",
       " 'code_departement_3digits': '069',\n",
       " 'code_region': '84',\n",
       " 'population': 522679,\n",
       " 'epci': '200046977',\n",
       " 'url_ptf': 'https://data.grandlyon.com/recherche?responsibleParty.organisationName=Ville%20de%20Lyon',\n",
       " 'url_datagouv': None,\n",
       " 'id_datagouv': None,\n",
       " 'merge': 'ptf',\n",
       " 'ptf': 'Métropole de Lyon',\n",
       " 'trancheEffectifsUniteLegale': 53.0,\n",
       " 'EffectifsSup50': True}"
      ]
     },
     "execution_count": 18,
     "metadata": {},
     "output_type": "execute_result"
    }
   ],
   "source": [
    "\n",
    "community_info"
   ]
  },
  {
   "cell_type": "code",
   "execution_count": 42,
   "metadata": {},
   "outputs": [],
   "source": [
    "community_info['mayor'] = community_mayor['prenom'] + \" \" + community_mayor['nom']"
   ]
  },
  {
   "cell_type": "code",
   "execution_count": 43,
   "metadata": {},
   "outputs": [
    {
     "data": {
      "text/plain": [
       "{'nom': 'Lyon',\n",
       " 'siren': '216901231',\n",
       " 'type': 'COM',\n",
       " 'cog': '69123',\n",
       " 'cog_3digits': None,\n",
       " 'code_departement': '69',\n",
       " 'code_departement_3digits': '069',\n",
       " 'code_region': '84',\n",
       " 'population': 522679,\n",
       " 'epci': '200046977',\n",
       " 'url_ptf': 'https://data.grandlyon.com/recherche?responsibleParty.organisationName=Ville%20de%20Lyon',\n",
       " 'url_datagouv': None,\n",
       " 'id_datagouv': None,\n",
       " 'merge': 'ptf',\n",
       " 'ptf': 'Métropole de Lyon',\n",
       " 'trancheeffectifsunitelegale': 53.0,\n",
       " 'effectifssup50': True,\n",
       " 'longitude': '4.835',\n",
       " 'latitude': '45.758',\n",
       " 'mayor': 'Grégory DOUCET'}"
      ]
     },
     "execution_count": 43,
     "metadata": {},
     "output_type": "execute_result"
    }
   ],
   "source": [
    "community_info"
   ]
  },
  {
   "cell_type": "code",
   "execution_count": 44,
   "metadata": {},
   "outputs": [],
   "source": [
    "community_siren = community_info.get('siren')\n",
    "\n",
    "mp_community = mp_clean[mp_clean['acheteur_siren'] == community_siren]\n"
   ]
  },
  {
   "cell_type": "code",
   "execution_count": 84,
   "metadata": {},
   "outputs": [],
   "source": [
    "mp_community.to_csv('data/mp_staging_lyon.csv')"
   ]
  },
  {
   "cell_type": "markdown",
   "metadata": {},
   "source": [
    "## Etendue de la donnée"
   ]
  },
  {
   "cell_type": "code",
   "execution_count": 17,
   "metadata": {},
   "outputs": [
    {
     "data": {
      "text/html": [
       "<div>\n",
       "<style scoped>\n",
       "    .dataframe tbody tr th:only-of-type {\n",
       "        vertical-align: middle;\n",
       "    }\n",
       "\n",
       "    .dataframe tbody tr th {\n",
       "        vertical-align: top;\n",
       "    }\n",
       "\n",
       "    .dataframe thead th {\n",
       "        text-align: right;\n",
       "    }\n",
       "</style>\n",
       "<table border=\"1\" class=\"dataframe\">\n",
       "  <thead>\n",
       "    <tr style=\"text-align: right;\">\n",
       "      <th></th>\n",
       "      <th>notification_datetime</th>\n",
       "      <th>montant</th>\n",
       "      <th>dureemois</th>\n",
       "    </tr>\n",
       "  </thead>\n",
       "  <tbody>\n",
       "    <tr>\n",
       "      <th>count</th>\n",
       "      <td>3213</td>\n",
       "      <td>3.213000e+03</td>\n",
       "      <td>3213.000000</td>\n",
       "    </tr>\n",
       "    <tr>\n",
       "      <th>mean</th>\n",
       "      <td>2021-07-31 18:13:33.445378304</td>\n",
       "      <td>6.226238e+05</td>\n",
       "      <td>27.130096</td>\n",
       "    </tr>\n",
       "    <tr>\n",
       "      <th>min</th>\n",
       "      <td>2018-03-21 00:00:00</td>\n",
       "      <td>8.032000e+03</td>\n",
       "      <td>1.000000</td>\n",
       "    </tr>\n",
       "    <tr>\n",
       "      <th>25%</th>\n",
       "      <td>2020-05-19 00:00:00</td>\n",
       "      <td>6.649000e+04</td>\n",
       "      <td>12.000000</td>\n",
       "    </tr>\n",
       "    <tr>\n",
       "      <th>50%</th>\n",
       "      <td>2021-10-06 00:00:00</td>\n",
       "      <td>1.550000e+05</td>\n",
       "      <td>19.000000</td>\n",
       "    </tr>\n",
       "    <tr>\n",
       "      <th>75%</th>\n",
       "      <td>2022-10-31 00:00:00</td>\n",
       "      <td>4.400000e+05</td>\n",
       "      <td>48.000000</td>\n",
       "    </tr>\n",
       "    <tr>\n",
       "      <th>max</th>\n",
       "      <td>2023-12-27 00:00:00</td>\n",
       "      <td>5.500000e+07</td>\n",
       "      <td>855.000000</td>\n",
       "    </tr>\n",
       "    <tr>\n",
       "      <th>std</th>\n",
       "      <td>NaN</td>\n",
       "      <td>2.063722e+06</td>\n",
       "      <td>24.321961</td>\n",
       "    </tr>\n",
       "  </tbody>\n",
       "</table>\n",
       "</div>"
      ],
      "text/plain": [
       "               notification_datetime       montant    dureemois\n",
       "count                           3213  3.213000e+03  3213.000000\n",
       "mean   2021-07-31 18:13:33.445378304  6.226238e+05    27.130096\n",
       "min              2018-03-21 00:00:00  8.032000e+03     1.000000\n",
       "25%              2020-05-19 00:00:00  6.649000e+04    12.000000\n",
       "50%              2021-10-06 00:00:00  1.550000e+05    19.000000\n",
       "75%              2022-10-31 00:00:00  4.400000e+05    48.000000\n",
       "max              2023-12-27 00:00:00  5.500000e+07   855.000000\n",
       "std                              NaN  2.063722e+06    24.321961"
      ]
     },
     "execution_count": 17,
     "metadata": {},
     "output_type": "execute_result"
    }
   ],
   "source": [
    "mp_community[['notification_datetime','montant', 'dureemois']].describe()"
   ]
  },
  {
   "cell_type": "markdown",
   "metadata": {},
   "source": [
    "# Montant notifié par année"
   ]
  },
  {
   "cell_type": "code",
   "execution_count": 52,
   "metadata": {},
   "outputs": [
    {
     "data": {
      "text/html": [
       "<div>\n",
       "<style scoped>\n",
       "    .dataframe tbody tr th:only-of-type {\n",
       "        vertical-align: middle;\n",
       "    }\n",
       "\n",
       "    .dataframe tbody tr th {\n",
       "        vertical-align: top;\n",
       "    }\n",
       "\n",
       "    .dataframe thead th {\n",
       "        text-align: right;\n",
       "    }\n",
       "</style>\n",
       "<table border=\"1\" class=\"dataframe\">\n",
       "  <thead>\n",
       "    <tr style=\"text-align: right;\">\n",
       "      <th></th>\n",
       "      <th>acheteur_siren</th>\n",
       "      <th>acheteur_type</th>\n",
       "      <th>acheteur_nom</th>\n",
       "      <th>acheteur_sirene</th>\n",
       "      <th>titulaires_liste_noms</th>\n",
       "      <th>titulaires_nombre</th>\n",
       "      <th>objet</th>\n",
       "      <th>nature</th>\n",
       "      <th>_type</th>\n",
       "      <th>formeprix</th>\n",
       "      <th>lieuexecution_typecode</th>\n",
       "      <th>uid</th>\n",
       "      <th>montant</th>\n",
       "      <th>id</th>\n",
       "      <th>lieuexecution_code</th>\n",
       "      <th>dureemois</th>\n",
       "      <th>procedure</th>\n",
       "      <th>lieuexecution_nom</th>\n",
       "      <th>codecpv</th>\n",
       "      <th>cpv_8</th>\n",
       "      <th>cpv_2</th>\n",
       "      <th>cpv_2_label</th>\n",
       "      <th>cpv_8_label</th>\n",
       "      <th>obligation_publication</th>\n",
       "      <th>datenotification</th>\n",
       "      <th>datenotification_annee</th>\n",
       "      <th>datepublication</th>\n",
       "      <th>datepublication_annee</th>\n",
       "      <th>delaipublication_jours</th>\n",
       "    </tr>\n",
       "  </thead>\n",
       "  <tbody>\n",
       "    <tr>\n",
       "      <th>291948</th>\n",
       "      <td>216901231</td>\n",
       "      <td>COM</td>\n",
       "      <td>Lyon</td>\n",
       "      <td>21690123100011</td>\n",
       "      <td>[[DESAMIANTAGE FRANCE DEMOLITION-], [CARDEM-]]</td>\n",
       "      <td>2</td>\n",
       "      <td>Groupe scolaire Kennedy ? désamiantage déconst...</td>\n",
       "      <td>Accord-cadre</td>\n",
       "      <td>NaN</td>\n",
       "      <td>Révisable</td>\n",
       "      <td>Code commune</td>\n",
       "      <td>216901231000112023O448400</td>\n",
       "      <td>440742.0</td>\n",
       "      <td>2023O448400</td>\n",
       "      <td>69123</td>\n",
       "      <td>9</td>\n",
       "      <td>Appel d'offres ouvert</td>\n",
       "      <td>A Lyon</td>\n",
       "      <td>45262660-5</td>\n",
       "      <td>45262660</td>\n",
       "      <td>45</td>\n",
       "      <td>Travaux de construction</td>\n",
       "      <td>Travaux de désamiantage</td>\n",
       "      <td>Obligatoire</td>\n",
       "      <td>2023-01-12</td>\n",
       "      <td>2023</td>\n",
       "      <td>2023-06-14</td>\n",
       "      <td>2023</td>\n",
       "      <td>153.0</td>\n",
       "    </tr>\n",
       "    <tr>\n",
       "      <th>292168</th>\n",
       "      <td>216901231</td>\n",
       "      <td>COM</td>\n",
       "      <td>Lyon</td>\n",
       "      <td>21690123100011</td>\n",
       "      <td>[IVECO LVI-]</td>\n",
       "      <td>1</td>\n",
       "      <td>Acquisition d?un camion polybenne</td>\n",
       "      <td>Marché subséquent</td>\n",
       "      <td>NaN</td>\n",
       "      <td>Fermé</td>\n",
       "      <td>Code commune</td>\n",
       "      <td>216901231000112019K1869U00</td>\n",
       "      <td>117150.0</td>\n",
       "      <td>2019K1869U00</td>\n",
       "      <td>69123</td>\n",
       "      <td>12</td>\n",
       "      <td>Appel d'offres ouvert</td>\n",
       "      <td>A Lyon</td>\n",
       "      <td>34140000-0</td>\n",
       "      <td>34140000</td>\n",
       "      <td>34</td>\n",
       "      <td>Équipement de transport et produits auxiliaire...</td>\n",
       "      <td>NaN</td>\n",
       "      <td>Obligatoire</td>\n",
       "      <td>2019-08-14</td>\n",
       "      <td>2019</td>\n",
       "      <td>2019-11-19</td>\n",
       "      <td>2019</td>\n",
       "      <td>97.0</td>\n",
       "    </tr>\n",
       "    <tr>\n",
       "      <th>293247</th>\n",
       "      <td>216901231</td>\n",
       "      <td>COM</td>\n",
       "      <td>Lyon</td>\n",
       "      <td>21690123100011</td>\n",
       "      <td>[AIR CHARTER SERVICE]</td>\n",
       "      <td>1</td>\n",
       "      <td>Transport musiciens tournée Russie ONL février...</td>\n",
       "      <td>Accord-cadre</td>\n",
       "      <td>NaN</td>\n",
       "      <td>Fermé</td>\n",
       "      <td>Code commune</td>\n",
       "      <td>216901231000112020L240100</td>\n",
       "      <td>180000.0</td>\n",
       "      <td>2020L240100</td>\n",
       "      <td>69123</td>\n",
       "      <td>6</td>\n",
       "      <td>Marché public négocié sans publicité ni mise e...</td>\n",
       "      <td>Auditorium / ONL</td>\n",
       "      <td>60400000-2</td>\n",
       "      <td>60400000</td>\n",
       "      <td>60</td>\n",
       "      <td>Services de transport (à l'exclusion du transp...</td>\n",
       "      <td>NaN</td>\n",
       "      <td>Obligatoire</td>\n",
       "      <td>2020-02-10</td>\n",
       "      <td>2020</td>\n",
       "      <td>2020-02-11</td>\n",
       "      <td>2020</td>\n",
       "      <td>1.0</td>\n",
       "    </tr>\n",
       "    <tr>\n",
       "      <th>293248</th>\n",
       "      <td>216901231</td>\n",
       "      <td>COM</td>\n",
       "      <td>Lyon</td>\n",
       "      <td>21690123100011</td>\n",
       "      <td>[ADG ENERGY-]</td>\n",
       "      <td>1</td>\n",
       "      <td>Rénovation de l?installation d?éclairage entre...</td>\n",
       "      <td>Accord-cadre</td>\n",
       "      <td>NaN</td>\n",
       "      <td>Mixte</td>\n",
       "      <td>Code commune</td>\n",
       "      <td>216901231000112019K119402</td>\n",
       "      <td>269934.0</td>\n",
       "      <td>2019K119402</td>\n",
       "      <td>69123</td>\n",
       "      <td>73</td>\n",
       "      <td>Procédure adaptée</td>\n",
       "      <td>A Lyon 69004</td>\n",
       "      <td>45316000-5</td>\n",
       "      <td>45316000</td>\n",
       "      <td>45</td>\n",
       "      <td>Travaux de construction</td>\n",
       "      <td>NaN</td>\n",
       "      <td>Obligatoire</td>\n",
       "      <td>2019-04-16</td>\n",
       "      <td>2019</td>\n",
       "      <td>2020-02-11</td>\n",
       "      <td>2020</td>\n",
       "      <td>301.0</td>\n",
       "    </tr>\n",
       "    <tr>\n",
       "      <th>293249</th>\n",
       "      <td>216901231</td>\n",
       "      <td>COM</td>\n",
       "      <td>Lyon</td>\n",
       "      <td>21690123100011</td>\n",
       "      <td>[MMCI ART LOGISTICS]</td>\n",
       "      <td>1</td>\n",
       "      <td>Transport matériel instruments ONL tournée Rus...</td>\n",
       "      <td>Accord-cadre</td>\n",
       "      <td>NaN</td>\n",
       "      <td>Fermé</td>\n",
       "      <td>Code commune</td>\n",
       "      <td>216901231000112020L237600</td>\n",
       "      <td>162340.0</td>\n",
       "      <td>2020L237600</td>\n",
       "      <td>69123</td>\n",
       "      <td>6</td>\n",
       "      <td>Marché public négocié sans publicité ni mise e...</td>\n",
       "      <td>Auditorium / ONL</td>\n",
       "      <td>60400000-2</td>\n",
       "      <td>60400000</td>\n",
       "      <td>60</td>\n",
       "      <td>Services de transport (à l'exclusion du transp...</td>\n",
       "      <td>NaN</td>\n",
       "      <td>Obligatoire</td>\n",
       "      <td>2020-02-11</td>\n",
       "      <td>2020</td>\n",
       "      <td>2020-02-11</td>\n",
       "      <td>2020</td>\n",
       "      <td>0.0</td>\n",
       "    </tr>\n",
       "  </tbody>\n",
       "</table>\n",
       "</div>"
      ],
      "text/plain": [
       "       acheteur_siren acheteur_type acheteur_nom acheteur_sirene  \\\n",
       "291948      216901231           COM         Lyon  21690123100011   \n",
       "292168      216901231           COM         Lyon  21690123100011   \n",
       "293247      216901231           COM         Lyon  21690123100011   \n",
       "293248      216901231           COM         Lyon  21690123100011   \n",
       "293249      216901231           COM         Lyon  21690123100011   \n",
       "\n",
       "                                 titulaires_liste_noms  titulaires_nombre  \\\n",
       "291948  [[DESAMIANTAGE FRANCE DEMOLITION-], [CARDEM-]]                  2   \n",
       "292168                                    [IVECO LVI-]                  1   \n",
       "293247                           [AIR CHARTER SERVICE]                  1   \n",
       "293248                                   [ADG ENERGY-]                  1   \n",
       "293249                            [MMCI ART LOGISTICS]                  1   \n",
       "\n",
       "                                                    objet             nature  \\\n",
       "291948  Groupe scolaire Kennedy ? désamiantage déconst...       Accord-cadre   \n",
       "292168                  Acquisition d?un camion polybenne  Marché subséquent   \n",
       "293247  Transport musiciens tournée Russie ONL février...       Accord-cadre   \n",
       "293248  Rénovation de l?installation d?éclairage entre...       Accord-cadre   \n",
       "293249  Transport matériel instruments ONL tournée Rus...       Accord-cadre   \n",
       "\n",
       "       _type  formeprix lieuexecution_typecode                         uid  \\\n",
       "291948   NaN  Révisable           Code commune   216901231000112023O448400   \n",
       "292168   NaN      Fermé           Code commune  216901231000112019K1869U00   \n",
       "293247   NaN      Fermé           Code commune   216901231000112020L240100   \n",
       "293248   NaN      Mixte           Code commune   216901231000112019K119402   \n",
       "293249   NaN      Fermé           Code commune   216901231000112020L237600   \n",
       "\n",
       "         montant            id lieuexecution_code  dureemois  \\\n",
       "291948  440742.0   2023O448400              69123          9   \n",
       "292168  117150.0  2019K1869U00              69123         12   \n",
       "293247  180000.0   2020L240100              69123          6   \n",
       "293248  269934.0   2019K119402              69123         73   \n",
       "293249  162340.0   2020L237600              69123          6   \n",
       "\n",
       "                                                procedure lieuexecution_nom  \\\n",
       "291948                              Appel d'offres ouvert            A Lyon   \n",
       "292168                              Appel d'offres ouvert            A Lyon   \n",
       "293247  Marché public négocié sans publicité ni mise e...  Auditorium / ONL   \n",
       "293248                                  Procédure adaptée      A Lyon 69004   \n",
       "293249  Marché public négocié sans publicité ni mise e...  Auditorium / ONL   \n",
       "\n",
       "           codecpv     cpv_8 cpv_2  \\\n",
       "291948  45262660-5  45262660    45   \n",
       "292168  34140000-0  34140000    34   \n",
       "293247  60400000-2  60400000    60   \n",
       "293248  45316000-5  45316000    45   \n",
       "293249  60400000-2  60400000    60   \n",
       "\n",
       "                                              cpv_2_label  \\\n",
       "291948                            Travaux de construction   \n",
       "292168  Équipement de transport et produits auxiliaire...   \n",
       "293247  Services de transport (à l'exclusion du transp...   \n",
       "293248                            Travaux de construction   \n",
       "293249  Services de transport (à l'exclusion du transp...   \n",
       "\n",
       "                    cpv_8_label obligation_publication datenotification  \\\n",
       "291948  Travaux de désamiantage            Obligatoire       2023-01-12   \n",
       "292168                      NaN            Obligatoire       2019-08-14   \n",
       "293247                      NaN            Obligatoire       2020-02-10   \n",
       "293248                      NaN            Obligatoire       2019-04-16   \n",
       "293249                      NaN            Obligatoire       2020-02-11   \n",
       "\n",
       "        datenotification_annee datepublication  datepublication_annee  \\\n",
       "291948                    2023      2023-06-14                   2023   \n",
       "292168                    2019      2019-11-19                   2019   \n",
       "293247                    2020      2020-02-11                   2020   \n",
       "293248                    2019      2020-02-11                   2020   \n",
       "293249                    2020      2020-02-11                   2020   \n",
       "\n",
       "        delaipublication_jours  \n",
       "291948                   153.0  \n",
       "292168                    97.0  \n",
       "293247                     1.0  \n",
       "293248                   301.0  \n",
       "293249                     0.0  "
      ]
     },
     "execution_count": 52,
     "metadata": {},
     "output_type": "execute_result"
    }
   ],
   "source": [
    "mp_community.head()"
   ]
  },
  {
   "cell_type": "code",
   "execution_count": null,
   "metadata": {},
   "outputs": [],
   "source": [
    "def create_mp_dim_year(df):\n",
    "    \"\"\"Create year dimension table for staging table filtered on a specific community (WARNING : no grouping by acheteur_siren)\"\"\"\n",
    "\n",
    "    mp_obligatoires = df[df['obligation_publication'] == 'Obligatoire']\n",
    "    dim_annees_obligatoires = mp_obligatoires.groupby('datenotification_annee')[['montant']].agg({'montant':['sum', pd.Series.count]}).reset_index()\n",
    "    dim_annees_obligatoires.columns = ['datenotification_annee', 'publication_obligatoire_montant', 'publication_obligatoire_nombre']\n",
    "\n",
    "    mp_optionnels = df[df['obligation_publication'] == 'Optionnel']\n",
    "    dim_annees_optionnels = mp_optionnels.groupby('datenotification_annee')[['montant']].agg({'montant':['sum', pd.Series.count]}).reset_index()\n",
    "    dim_annees_optionnels.columns = ['datenotification_annee', 'publication_optionnelle_montant', 'publication_optionnelle_nombre']\n",
    "\n",
    "    dim_annees = dim_annees_obligatoires.merge(dim_annees_optionnels, how='outer', on='datenotification_annee')\n",
    "\n",
    "    dim_annees['montant_total'] = dim_annees['publication_obligatoire_montant']+dim_annees['publication_optionnelle_montant']\n",
    "    dim_annees['tendance_montant_total']=dim_annees['montant_total'].pct_change()\n",
    "\n",
    "    return dim_annees"
   ]
  },
  {
   "cell_type": "code",
   "execution_count": 80,
   "metadata": {},
   "outputs": [],
   "source": [
    "dim_annees = create_mp_dim_year(mp_community)"
   ]
  },
  {
   "cell_type": "code",
   "execution_count": 81,
   "metadata": {},
   "outputs": [
    {
     "data": {
      "text/html": [
       "<div>\n",
       "<style scoped>\n",
       "    .dataframe tbody tr th:only-of-type {\n",
       "        vertical-align: middle;\n",
       "    }\n",
       "\n",
       "    .dataframe tbody tr th {\n",
       "        vertical-align: top;\n",
       "    }\n",
       "\n",
       "    .dataframe thead th {\n",
       "        text-align: right;\n",
       "    }\n",
       "</style>\n",
       "<table border=\"1\" class=\"dataframe\">\n",
       "  <thead>\n",
       "    <tr style=\"text-align: right;\">\n",
       "      <th></th>\n",
       "      <th>datenotification_annee</th>\n",
       "      <th>publication_obligatoire_montant</th>\n",
       "      <th>publication_obligatoire_nombre</th>\n",
       "      <th>publication_optionnelle_montant</th>\n",
       "      <th>publication_optionnelle_nombre</th>\n",
       "      <th>montant_total</th>\n",
       "      <th>tendance_montant_total</th>\n",
       "    </tr>\n",
       "  </thead>\n",
       "  <tbody>\n",
       "    <tr>\n",
       "      <th>0</th>\n",
       "      <td>2018</td>\n",
       "      <td>56393489.0</td>\n",
       "      <td>143</td>\n",
       "      <td>309320.0</td>\n",
       "      <td>10</td>\n",
       "      <td>56702809.0</td>\n",
       "      <td>NaN</td>\n",
       "    </tr>\n",
       "    <tr>\n",
       "      <th>1</th>\n",
       "      <td>2019</td>\n",
       "      <td>238744502.0</td>\n",
       "      <td>409</td>\n",
       "      <td>1154727.0</td>\n",
       "      <td>38</td>\n",
       "      <td>239899229.0</td>\n",
       "      <td>3.230817</td>\n",
       "    </tr>\n",
       "    <tr>\n",
       "      <th>2</th>\n",
       "      <td>2020</td>\n",
       "      <td>289853033.0</td>\n",
       "      <td>476</td>\n",
       "      <td>1019291.0</td>\n",
       "      <td>32</td>\n",
       "      <td>290872324.0</td>\n",
       "      <td>0.212477</td>\n",
       "    </tr>\n",
       "    <tr>\n",
       "      <th>3</th>\n",
       "      <td>2021</td>\n",
       "      <td>505599266.0</td>\n",
       "      <td>672</td>\n",
       "      <td>2280811.0</td>\n",
       "      <td>72</td>\n",
       "      <td>507880077.0</td>\n",
       "      <td>0.746058</td>\n",
       "    </tr>\n",
       "    <tr>\n",
       "      <th>4</th>\n",
       "      <td>2022</td>\n",
       "      <td>402096595.0</td>\n",
       "      <td>591</td>\n",
       "      <td>3628902.0</td>\n",
       "      <td>112</td>\n",
       "      <td>405725497.0</td>\n",
       "      <td>-0.201139</td>\n",
       "    </tr>\n",
       "    <tr>\n",
       "      <th>5</th>\n",
       "      <td>2023</td>\n",
       "      <td>497396354.0</td>\n",
       "      <td>596</td>\n",
       "      <td>2014033.0</td>\n",
       "      <td>62</td>\n",
       "      <td>499410387.0</td>\n",
       "      <td>0.230907</td>\n",
       "    </tr>\n",
       "  </tbody>\n",
       "</table>\n",
       "</div>"
      ],
      "text/plain": [
       "   datenotification_annee  publication_obligatoire_montant  \\\n",
       "0                    2018                       56393489.0   \n",
       "1                    2019                      238744502.0   \n",
       "2                    2020                      289853033.0   \n",
       "3                    2021                      505599266.0   \n",
       "4                    2022                      402096595.0   \n",
       "5                    2023                      497396354.0   \n",
       "\n",
       "   publication_obligatoire_nombre  publication_optionnelle_montant  \\\n",
       "0                             143                         309320.0   \n",
       "1                             409                        1154727.0   \n",
       "2                             476                        1019291.0   \n",
       "3                             672                        2280811.0   \n",
       "4                             591                        3628902.0   \n",
       "5                             596                        2014033.0   \n",
       "\n",
       "   publication_optionnelle_nombre  montant_total  tendance_montant_total  \n",
       "0                              10     56702809.0                     NaN  \n",
       "1                              38    239899229.0                3.230817  \n",
       "2                              32    290872324.0                0.212477  \n",
       "3                              72    507880077.0                0.746058  \n",
       "4                             112    405725497.0               -0.201139  \n",
       "5                              62    499410387.0                0.230907  "
      ]
     },
     "execution_count": 81,
     "metadata": {},
     "output_type": "execute_result"
    }
   ],
   "source": [
    "dim_annees"
   ]
  },
  {
   "cell_type": "code",
   "execution_count": null,
   "metadata": {},
   "outputs": [
    {
     "name": "stderr",
     "output_type": "stream",
     "text": [
      "/var/folders/kh/c8yjct5d3s95jbbrgl8221sc0000gn/T/ipykernel_34457/1613218440.py:6: PerformanceWarning:\n",
      "\n",
      "indexing past lexsort depth may impact performance.\n",
      "\n",
      "/var/folders/kh/c8yjct5d3s95jbbrgl8221sc0000gn/T/ipykernel_34457/1613218440.py:14: PerformanceWarning:\n",
      "\n",
      "indexing past lexsort depth may impact performance.\n",
      "\n"
     ]
    },
    {
     "data": {
      "application/vnd.plotly.v1+json": {
       "config": {
        "plotlyServerURL": "https://plot.ly"
       },
       "data": [
        {
         "name": "Montant (€)",
         "textposition": "outside",
         "type": "bar",
         "x": {
          "bdata": "4gfjB+QH5QfmB+cH",
          "dtype": "i2"
         },
         "y": {
          "bdata": "AAAAyLoJi0EAAAC6JJmsQQAAAARcVrFBAAAAjaJFvkEAAAA54S64QQAAANNlxL1B",
          "dtype": "f8"
         }
        },
        {
         "line": {
          "color": "orange",
          "dash": "dot",
          "width": 2
         },
         "marker": {
          "size": 6
         },
         "mode": "lines+markers",
         "name": "Nombre de marchés",
         "type": "scatter",
         "x": {
          "bdata": "4gfjB+QH5QfmB+cH",
          "dtype": "i2"
         },
         "y": {
          "bdata": "mQC/AfwB6AK/ApIC",
          "dtype": "i2"
         },
         "yaxis": "y2"
        }
       ],
       "layout": {
        "height": 500,
        "legend": {
         "x": 0.8,
         "y": 1.1
        },
        "template": {
         "data": {
          "bar": [
           {
            "error_x": {
             "color": "#2a3f5f"
            },
            "error_y": {
             "color": "#2a3f5f"
            },
            "marker": {
             "line": {
              "color": "white",
              "width": 0.5
             },
             "pattern": {
              "fillmode": "overlay",
              "size": 10,
              "solidity": 0.2
             }
            },
            "type": "bar"
           }
          ],
          "barpolar": [
           {
            "marker": {
             "line": {
              "color": "white",
              "width": 0.5
             },
             "pattern": {
              "fillmode": "overlay",
              "size": 10,
              "solidity": 0.2
             }
            },
            "type": "barpolar"
           }
          ],
          "carpet": [
           {
            "aaxis": {
             "endlinecolor": "#2a3f5f",
             "gridcolor": "#C8D4E3",
             "linecolor": "#C8D4E3",
             "minorgridcolor": "#C8D4E3",
             "startlinecolor": "#2a3f5f"
            },
            "baxis": {
             "endlinecolor": "#2a3f5f",
             "gridcolor": "#C8D4E3",
             "linecolor": "#C8D4E3",
             "minorgridcolor": "#C8D4E3",
             "startlinecolor": "#2a3f5f"
            },
            "type": "carpet"
           }
          ],
          "choropleth": [
           {
            "colorbar": {
             "outlinewidth": 0,
             "ticks": ""
            },
            "type": "choropleth"
           }
          ],
          "contour": [
           {
            "colorbar": {
             "outlinewidth": 0,
             "ticks": ""
            },
            "colorscale": [
             [
              0,
              "#0d0887"
             ],
             [
              0.1111111111111111,
              "#46039f"
             ],
             [
              0.2222222222222222,
              "#7201a8"
             ],
             [
              0.3333333333333333,
              "#9c179e"
             ],
             [
              0.4444444444444444,
              "#bd3786"
             ],
             [
              0.5555555555555556,
              "#d8576b"
             ],
             [
              0.6666666666666666,
              "#ed7953"
             ],
             [
              0.7777777777777778,
              "#fb9f3a"
             ],
             [
              0.8888888888888888,
              "#fdca26"
             ],
             [
              1,
              "#f0f921"
             ]
            ],
            "type": "contour"
           }
          ],
          "contourcarpet": [
           {
            "colorbar": {
             "outlinewidth": 0,
             "ticks": ""
            },
            "type": "contourcarpet"
           }
          ],
          "heatmap": [
           {
            "colorbar": {
             "outlinewidth": 0,
             "ticks": ""
            },
            "colorscale": [
             [
              0,
              "#0d0887"
             ],
             [
              0.1111111111111111,
              "#46039f"
             ],
             [
              0.2222222222222222,
              "#7201a8"
             ],
             [
              0.3333333333333333,
              "#9c179e"
             ],
             [
              0.4444444444444444,
              "#bd3786"
             ],
             [
              0.5555555555555556,
              "#d8576b"
             ],
             [
              0.6666666666666666,
              "#ed7953"
             ],
             [
              0.7777777777777778,
              "#fb9f3a"
             ],
             [
              0.8888888888888888,
              "#fdca26"
             ],
             [
              1,
              "#f0f921"
             ]
            ],
            "type": "heatmap"
           }
          ],
          "histogram": [
           {
            "marker": {
             "pattern": {
              "fillmode": "overlay",
              "size": 10,
              "solidity": 0.2
             }
            },
            "type": "histogram"
           }
          ],
          "histogram2d": [
           {
            "colorbar": {
             "outlinewidth": 0,
             "ticks": ""
            },
            "colorscale": [
             [
              0,
              "#0d0887"
             ],
             [
              0.1111111111111111,
              "#46039f"
             ],
             [
              0.2222222222222222,
              "#7201a8"
             ],
             [
              0.3333333333333333,
              "#9c179e"
             ],
             [
              0.4444444444444444,
              "#bd3786"
             ],
             [
              0.5555555555555556,
              "#d8576b"
             ],
             [
              0.6666666666666666,
              "#ed7953"
             ],
             [
              0.7777777777777778,
              "#fb9f3a"
             ],
             [
              0.8888888888888888,
              "#fdca26"
             ],
             [
              1,
              "#f0f921"
             ]
            ],
            "type": "histogram2d"
           }
          ],
          "histogram2dcontour": [
           {
            "colorbar": {
             "outlinewidth": 0,
             "ticks": ""
            },
            "colorscale": [
             [
              0,
              "#0d0887"
             ],
             [
              0.1111111111111111,
              "#46039f"
             ],
             [
              0.2222222222222222,
              "#7201a8"
             ],
             [
              0.3333333333333333,
              "#9c179e"
             ],
             [
              0.4444444444444444,
              "#bd3786"
             ],
             [
              0.5555555555555556,
              "#d8576b"
             ],
             [
              0.6666666666666666,
              "#ed7953"
             ],
             [
              0.7777777777777778,
              "#fb9f3a"
             ],
             [
              0.8888888888888888,
              "#fdca26"
             ],
             [
              1,
              "#f0f921"
             ]
            ],
            "type": "histogram2dcontour"
           }
          ],
          "mesh3d": [
           {
            "colorbar": {
             "outlinewidth": 0,
             "ticks": ""
            },
            "type": "mesh3d"
           }
          ],
          "parcoords": [
           {
            "line": {
             "colorbar": {
              "outlinewidth": 0,
              "ticks": ""
             }
            },
            "type": "parcoords"
           }
          ],
          "pie": [
           {
            "automargin": true,
            "type": "pie"
           }
          ],
          "scatter": [
           {
            "fillpattern": {
             "fillmode": "overlay",
             "size": 10,
             "solidity": 0.2
            },
            "type": "scatter"
           }
          ],
          "scatter3d": [
           {
            "line": {
             "colorbar": {
              "outlinewidth": 0,
              "ticks": ""
             }
            },
            "marker": {
             "colorbar": {
              "outlinewidth": 0,
              "ticks": ""
             }
            },
            "type": "scatter3d"
           }
          ],
          "scattercarpet": [
           {
            "marker": {
             "colorbar": {
              "outlinewidth": 0,
              "ticks": ""
             }
            },
            "type": "scattercarpet"
           }
          ],
          "scattergeo": [
           {
            "marker": {
             "colorbar": {
              "outlinewidth": 0,
              "ticks": ""
             }
            },
            "type": "scattergeo"
           }
          ],
          "scattergl": [
           {
            "marker": {
             "colorbar": {
              "outlinewidth": 0,
              "ticks": ""
             }
            },
            "type": "scattergl"
           }
          ],
          "scattermap": [
           {
            "marker": {
             "colorbar": {
              "outlinewidth": 0,
              "ticks": ""
             }
            },
            "type": "scattermap"
           }
          ],
          "scattermapbox": [
           {
            "marker": {
             "colorbar": {
              "outlinewidth": 0,
              "ticks": ""
             }
            },
            "type": "scattermapbox"
           }
          ],
          "scatterpolar": [
           {
            "marker": {
             "colorbar": {
              "outlinewidth": 0,
              "ticks": ""
             }
            },
            "type": "scatterpolar"
           }
          ],
          "scatterpolargl": [
           {
            "marker": {
             "colorbar": {
              "outlinewidth": 0,
              "ticks": ""
             }
            },
            "type": "scatterpolargl"
           }
          ],
          "scatterternary": [
           {
            "marker": {
             "colorbar": {
              "outlinewidth": 0,
              "ticks": ""
             }
            },
            "type": "scatterternary"
           }
          ],
          "surface": [
           {
            "colorbar": {
             "outlinewidth": 0,
             "ticks": ""
            },
            "colorscale": [
             [
              0,
              "#0d0887"
             ],
             [
              0.1111111111111111,
              "#46039f"
             ],
             [
              0.2222222222222222,
              "#7201a8"
             ],
             [
              0.3333333333333333,
              "#9c179e"
             ],
             [
              0.4444444444444444,
              "#bd3786"
             ],
             [
              0.5555555555555556,
              "#d8576b"
             ],
             [
              0.6666666666666666,
              "#ed7953"
             ],
             [
              0.7777777777777778,
              "#fb9f3a"
             ],
             [
              0.8888888888888888,
              "#fdca26"
             ],
             [
              1,
              "#f0f921"
             ]
            ],
            "type": "surface"
           }
          ],
          "table": [
           {
            "cells": {
             "fill": {
              "color": "#EBF0F8"
             },
             "line": {
              "color": "white"
             }
            },
            "header": {
             "fill": {
              "color": "#C8D4E3"
             },
             "line": {
              "color": "white"
             }
            },
            "type": "table"
           }
          ]
         },
         "layout": {
          "annotationdefaults": {
           "arrowcolor": "#2a3f5f",
           "arrowhead": 0,
           "arrowwidth": 1
          },
          "autotypenumbers": "strict",
          "coloraxis": {
           "colorbar": {
            "outlinewidth": 0,
            "ticks": ""
           }
          },
          "colorscale": {
           "diverging": [
            [
             0,
             "#8e0152"
            ],
            [
             0.1,
             "#c51b7d"
            ],
            [
             0.2,
             "#de77ae"
            ],
            [
             0.3,
             "#f1b6da"
            ],
            [
             0.4,
             "#fde0ef"
            ],
            [
             0.5,
             "#f7f7f7"
            ],
            [
             0.6,
             "#e6f5d0"
            ],
            [
             0.7,
             "#b8e186"
            ],
            [
             0.8,
             "#7fbc41"
            ],
            [
             0.9,
             "#4d9221"
            ],
            [
             1,
             "#276419"
            ]
           ],
           "sequential": [
            [
             0,
             "#0d0887"
            ],
            [
             0.1111111111111111,
             "#46039f"
            ],
            [
             0.2222222222222222,
             "#7201a8"
            ],
            [
             0.3333333333333333,
             "#9c179e"
            ],
            [
             0.4444444444444444,
             "#bd3786"
            ],
            [
             0.5555555555555556,
             "#d8576b"
            ],
            [
             0.6666666666666666,
             "#ed7953"
            ],
            [
             0.7777777777777778,
             "#fb9f3a"
            ],
            [
             0.8888888888888888,
             "#fdca26"
            ],
            [
             1,
             "#f0f921"
            ]
           ],
           "sequentialminus": [
            [
             0,
             "#0d0887"
            ],
            [
             0.1111111111111111,
             "#46039f"
            ],
            [
             0.2222222222222222,
             "#7201a8"
            ],
            [
             0.3333333333333333,
             "#9c179e"
            ],
            [
             0.4444444444444444,
             "#bd3786"
            ],
            [
             0.5555555555555556,
             "#d8576b"
            ],
            [
             0.6666666666666666,
             "#ed7953"
            ],
            [
             0.7777777777777778,
             "#fb9f3a"
            ],
            [
             0.8888888888888888,
             "#fdca26"
            ],
            [
             1,
             "#f0f921"
            ]
           ]
          },
          "colorway": [
           "#636efa",
           "#EF553B",
           "#00cc96",
           "#ab63fa",
           "#FFA15A",
           "#19d3f3",
           "#FF6692",
           "#B6E880",
           "#FF97FF",
           "#FECB52"
          ],
          "font": {
           "color": "#2a3f5f"
          },
          "geo": {
           "bgcolor": "white",
           "lakecolor": "white",
           "landcolor": "white",
           "showlakes": true,
           "showland": true,
           "subunitcolor": "#C8D4E3"
          },
          "hoverlabel": {
           "align": "left"
          },
          "hovermode": "closest",
          "mapbox": {
           "style": "light"
          },
          "paper_bgcolor": "white",
          "plot_bgcolor": "white",
          "polar": {
           "angularaxis": {
            "gridcolor": "#EBF0F8",
            "linecolor": "#EBF0F8",
            "ticks": ""
           },
           "bgcolor": "white",
           "radialaxis": {
            "gridcolor": "#EBF0F8",
            "linecolor": "#EBF0F8",
            "ticks": ""
           }
          },
          "scene": {
           "xaxis": {
            "backgroundcolor": "white",
            "gridcolor": "#DFE8F3",
            "gridwidth": 2,
            "linecolor": "#EBF0F8",
            "showbackground": true,
            "ticks": "",
            "zerolinecolor": "#EBF0F8"
           },
           "yaxis": {
            "backgroundcolor": "white",
            "gridcolor": "#DFE8F3",
            "gridwidth": 2,
            "linecolor": "#EBF0F8",
            "showbackground": true,
            "ticks": "",
            "zerolinecolor": "#EBF0F8"
           },
           "zaxis": {
            "backgroundcolor": "white",
            "gridcolor": "#DFE8F3",
            "gridwidth": 2,
            "linecolor": "#EBF0F8",
            "showbackground": true,
            "ticks": "",
            "zerolinecolor": "#EBF0F8"
           }
          },
          "shapedefaults": {
           "line": {
            "color": "#2a3f5f"
           }
          },
          "ternary": {
           "aaxis": {
            "gridcolor": "#DFE8F3",
            "linecolor": "#A2B1C6",
            "ticks": ""
           },
           "baxis": {
            "gridcolor": "#DFE8F3",
            "linecolor": "#A2B1C6",
            "ticks": ""
           },
           "bgcolor": "white",
           "caxis": {
            "gridcolor": "#DFE8F3",
            "linecolor": "#A2B1C6",
            "ticks": ""
           }
          },
          "title": {
           "x": 0.05
          },
          "xaxis": {
           "automargin": true,
           "gridcolor": "#EBF0F8",
           "linecolor": "#EBF0F8",
           "ticks": "",
           "title": {
            "standoff": 15
           },
           "zerolinecolor": "#EBF0F8",
           "zerolinewidth": 2
          },
          "yaxis": {
           "automargin": true,
           "gridcolor": "#EBF0F8",
           "linecolor": "#EBF0F8",
           "ticks": "",
           "title": {
            "standoff": 15
           },
           "zerolinecolor": "#EBF0F8",
           "zerolinewidth": 2
          }
         }
        },
        "title": {
         "text": "Montant total et nombre de marchés publics notifiés par année"
        },
        "width": 700,
        "xaxis": {
         "title": {
          "text": "Année"
         }
        },
        "yaxis": {
         "side": "left",
         "title": {
          "text": "Montant (€)"
         }
        },
        "yaxis2": {
         "color": "orange",
         "overlaying": "y",
         "showgrid": false,
         "side": "right",
         "title": {
          "text": "Nombre"
         }
        }
       }
      }
     },
     "metadata": {},
     "output_type": "display_data"
    }
   ],
   "source": [
    "#NE MARCHE PLUS DEPUIS RENOMMAGE DES COLONNES - A REPRENDRE\n",
    "\n",
    "# # Create figure\n",
    "# fig = go.Figure()\n",
    "\n",
    "# # Add bar chart (Primary Y-Axis)\n",
    "# fig.add_trace(go.Bar(\n",
    "#     x=data[(\"notification_year\",)],\n",
    "#     y=data[(\"montant\",'sum')],\n",
    "#     name=\"Montant (€)\",\n",
    "#     textposition=\"outside\"\n",
    "# ))\n",
    "\n",
    "# # Add red dotted line (Secondary Y-Axis)\n",
    "# fig.add_trace(go.Scatter(\n",
    "#     x=data[(\"notification_year\",)],\n",
    "#     y=data[(\"montant\",'count')],\n",
    "#     name=\"Nombre de marchés\",\n",
    "#     mode=\"lines+markers\",\n",
    "#     line=dict(color=\"orange\", dash=\"dot\", width=2),\n",
    "#     marker=dict(size=6)\n",
    "# ))\n",
    "\n",
    "# # Update layout for secondary y-axis\n",
    "# fig.update_layout(\n",
    "#     title=\"Montant total et nombre de marchés publics notifiés par année\",\n",
    "#     xaxis_title=\"Année\",\n",
    "#     yaxis=dict(title=\"Montant (€)\", side=\"left\"),\n",
    "#     yaxis2=dict(\n",
    "#         title=\"Nombre\",\n",
    "#         overlaying=\"y\",  # Places second axis on top of the first\n",
    "#         side=\"right\",\n",
    "#         showgrid=False,\n",
    "#         color = 'orange'\n",
    "#     ),\n",
    "#     template=\"plotly_white\",\n",
    "#     width=700,\n",
    "#     height=500,\n",
    "#     legend=dict(\n",
    "#         x=0.8,  # Adjust horizontal position (0 = left, 1 = right)\n",
    "#         y=1.1)\n",
    "# )\n",
    "\n",
    "# # Assign second y-axis to the red dotted line\n",
    "# fig.data[1].update(yaxis=\"y2\")\n",
    "\n",
    "# # Show plot\n",
    "# fig.show()\n"
   ]
  },
  {
   "cell_type": "code",
   "execution_count": null,
   "metadata": {},
   "outputs": [],
   "source": []
  },
  {
   "cell_type": "markdown",
   "metadata": {},
   "source": [
    "# Explorations on original dataset (do not execute !)"
   ]
  },
  {
   "cell_type": "code",
   "execution_count": null,
   "metadata": {},
   "outputs": [],
   "source": [
    "# mp_original = pd.read_json('data/decp-2019.json')\n",
    "# mp_original = pd.json_normalize(mp_original['marches'])"
   ]
  },
  {
   "cell_type": "code",
   "execution_count": null,
   "metadata": {},
   "outputs": [
    {
     "data": {
      "text/plain": [
       "procedure                          0.031652\n",
       "modifications                      0.000000\n",
       "nature                             0.006434\n",
       "codeCPV                            0.003787\n",
       "dureeMois                          0.000000\n",
       "datePublicationDonnees             0.003617\n",
       "titulaires                         0.003750\n",
       "id                                 0.008239\n",
       "formePrix                          0.020220\n",
       "dateNotification                   0.000272\n",
       "objet                              0.003080\n",
       "montant                            0.000000\n",
       "acheteur.id                        0.000272\n",
       "source                             0.000000\n",
       "lieuExecution.code                 0.003482\n",
       "lieuExecution.typeCode             0.003482\n",
       "lieuExecution.nom                  0.005997\n",
       "lieuExecution                      1.000000\n",
       "uid                                0.567934\n",
       "_type                              0.683434\n",
       "acheteur.nom                       0.866572\n",
       "uuid                               0.860748\n",
       "dateDebutExecution                 0.866182\n",
       "considerationsSociales             0.997675\n",
       "considerationsEnvironnementales    0.997675\n",
       "marcheInnovant                     0.997676\n",
       "ccag                               0.998152\n",
       "offresRecues                       0.997676\n",
       "attributionAvance                  0.997676\n",
       "typeGroupementOperateurs           0.998975\n",
       "sousTraitanceDeclaree              0.997676\n",
       "idAccordCadre                      0.999411\n",
       "actesSousTraitance                 0.997676\n",
       "modificationsActesSousTraitance    0.997676\n",
       "technique                          0.998598\n",
       "modaliteExecution                  0.998539\n",
       "TypePrix                           0.998949\n",
       "tauxAvance                         0.999795\n",
       "origineUE                          0.999706\n",
       "origineFrance                      0.999706\n",
       "created_at                         0.997507\n",
       "typesPrix                          0.999077\n",
       "typePrix                           0.999651\n",
       "valeurGlobale                      0.999610\n",
       "dateSignature                      0.999610\n",
       "montantSubventionPublique          0.999618\n",
       "concessionnaires                   0.999728\n",
       "donneesExecution                   0.999728\n",
       "autoriteConcedante.id              0.999728\n",
       "autoriteConcedante.nom             0.999728\n",
       "term.acheteur.id                   0.999999\n",
       "updated_at                         0.999594\n",
       "dtype: float64"
      ]
     },
     "execution_count": 5,
     "metadata": {},
     "output_type": "execute_result"
    }
   ],
   "source": [
    "# mp_original.isna().sum()/len(mp_original)"
   ]
  },
  {
   "cell_type": "code",
   "execution_count": null,
   "metadata": {},
   "outputs": [],
   "source": [
    "# pd.json_normalize(mp_original['modifications'])"
   ]
  },
  {
   "cell_type": "code",
   "execution_count": null,
   "metadata": {},
   "outputs": [
    {
     "data": {
      "text/html": [
       "<div>\n",
       "<style scoped>\n",
       "    .dataframe tbody tr th:only-of-type {\n",
       "        vertical-align: middle;\n",
       "    }\n",
       "\n",
       "    .dataframe tbody tr th {\n",
       "        vertical-align: top;\n",
       "    }\n",
       "\n",
       "    .dataframe thead th {\n",
       "        text-align: right;\n",
       "    }\n",
       "</style>\n",
       "<table border=\"1\" class=\"dataframe\">\n",
       "  <thead>\n",
       "    <tr style=\"text-align: right;\">\n",
       "      <th></th>\n",
       "      <th>procedure</th>\n",
       "      <th>modifications</th>\n",
       "      <th>nature</th>\n",
       "      <th>codeCPV</th>\n",
       "      <th>dureeMois</th>\n",
       "      <th>datePublicationDonnees</th>\n",
       "      <th>titulaires</th>\n",
       "      <th>id</th>\n",
       "      <th>formePrix</th>\n",
       "      <th>dateNotification</th>\n",
       "      <th>objet</th>\n",
       "      <th>montant</th>\n",
       "      <th>acheteur.id</th>\n",
       "      <th>source</th>\n",
       "      <th>lieuExecution.code</th>\n",
       "      <th>lieuExecution.typeCode</th>\n",
       "      <th>lieuExecution.nom</th>\n",
       "      <th>lieuExecution</th>\n",
       "      <th>uid</th>\n",
       "      <th>_type</th>\n",
       "      <th>acheteur.nom</th>\n",
       "      <th>uuid</th>\n",
       "      <th>dateDebutExecution</th>\n",
       "      <th>considerationsSociales</th>\n",
       "      <th>considerationsEnvironnementales</th>\n",
       "      <th>marcheInnovant</th>\n",
       "      <th>ccag</th>\n",
       "      <th>offresRecues</th>\n",
       "      <th>attributionAvance</th>\n",
       "      <th>typeGroupementOperateurs</th>\n",
       "      <th>sousTraitanceDeclaree</th>\n",
       "      <th>idAccordCadre</th>\n",
       "      <th>actesSousTraitance</th>\n",
       "      <th>modificationsActesSousTraitance</th>\n",
       "      <th>technique</th>\n",
       "      <th>modaliteExecution</th>\n",
       "      <th>TypePrix</th>\n",
       "      <th>tauxAvance</th>\n",
       "      <th>origineUE</th>\n",
       "      <th>origineFrance</th>\n",
       "      <th>created_at</th>\n",
       "      <th>typesPrix</th>\n",
       "      <th>typePrix</th>\n",
       "      <th>valeurGlobale</th>\n",
       "      <th>dateSignature</th>\n",
       "      <th>montantSubventionPublique</th>\n",
       "      <th>concessionnaires</th>\n",
       "      <th>donneesExecution</th>\n",
       "      <th>autoriteConcedante.id</th>\n",
       "      <th>autoriteConcedante.nom</th>\n",
       "      <th>term.acheteur.id</th>\n",
       "      <th>updated_at</th>\n",
       "    </tr>\n",
       "  </thead>\n",
       "  <tbody>\n",
       "    <tr>\n",
       "      <th>0</th>\n",
       "      <td>Appel d'offres ouvert</td>\n",
       "      <td>[]</td>\n",
       "      <td>ACCORD-CADRE</td>\n",
       "      <td>30192000</td>\n",
       "      <td>48</td>\n",
       "      <td>2020-08-06</td>\n",
       "      <td>[{'typeIdentifiant': 'SIRET', 'id': '571722669...</td>\n",
       "      <td>20202020F1234900</td>\n",
       "      <td>Révisable</td>\n",
       "      <td>2020-08-06</td>\n",
       "      <td>Achat et livraison de fournitures, petits maté...</td>\n",
       "      <td>4102920.24</td>\n",
       "      <td>13000548100010</td>\n",
       "      <td>data.gouv.fr_aife</td>\n",
       "      <td>22</td>\n",
       "      <td>CODE DEPARTEMENT</td>\n",
       "      <td>(22) Côtes-d'Armor</td>\n",
       "      <td>NaN</td>\n",
       "      <td>NaN</td>\n",
       "      <td>NaN</td>\n",
       "      <td>NaN</td>\n",
       "      <td>NaN</td>\n",
       "      <td>NaN</td>\n",
       "      <td>NaN</td>\n",
       "      <td>NaN</td>\n",
       "      <td>NaN</td>\n",
       "      <td>NaN</td>\n",
       "      <td>NaN</td>\n",
       "      <td>NaN</td>\n",
       "      <td>NaN</td>\n",
       "      <td>NaN</td>\n",
       "      <td>NaN</td>\n",
       "      <td>NaN</td>\n",
       "      <td>NaN</td>\n",
       "      <td>NaN</td>\n",
       "      <td>NaN</td>\n",
       "      <td>NaN</td>\n",
       "      <td>NaN</td>\n",
       "      <td>NaN</td>\n",
       "      <td>NaN</td>\n",
       "      <td>NaN</td>\n",
       "      <td>NaN</td>\n",
       "      <td>NaN</td>\n",
       "      <td>NaN</td>\n",
       "      <td>NaN</td>\n",
       "      <td>NaN</td>\n",
       "      <td>NaN</td>\n",
       "      <td>NaN</td>\n",
       "      <td>NaN</td>\n",
       "      <td>NaN</td>\n",
       "      <td>NaN</td>\n",
       "      <td>NaN</td>\n",
       "    </tr>\n",
       "    <tr>\n",
       "      <th>1</th>\n",
       "      <td>Procédure adaptée</td>\n",
       "      <td>[]</td>\n",
       "      <td>MARCHE</td>\n",
       "      <td>71300000</td>\n",
       "      <td>18</td>\n",
       "      <td>2020-02-10</td>\n",
       "      <td>[{'typeIdentifiant': 'SIRET', 'id': '394360077...</td>\n",
       "      <td>2020150980004500</td>\n",
       "      <td>Ferme et actualisable</td>\n",
       "      <td>2020-02-10</td>\n",
       "      <td>RESTRUCTURATION MA LONS LE SAUNIER PROJET ILOT...</td>\n",
       "      <td>95280.00</td>\n",
       "      <td>17210120600016</td>\n",
       "      <td>data.gouv.fr_aife</td>\n",
       "      <td>39</td>\n",
       "      <td>CODE DEPARTEMENT</td>\n",
       "      <td>(39) Jura</td>\n",
       "      <td>NaN</td>\n",
       "      <td>NaN</td>\n",
       "      <td>NaN</td>\n",
       "      <td>NaN</td>\n",
       "      <td>NaN</td>\n",
       "      <td>NaN</td>\n",
       "      <td>NaN</td>\n",
       "      <td>NaN</td>\n",
       "      <td>NaN</td>\n",
       "      <td>NaN</td>\n",
       "      <td>NaN</td>\n",
       "      <td>NaN</td>\n",
       "      <td>NaN</td>\n",
       "      <td>NaN</td>\n",
       "      <td>NaN</td>\n",
       "      <td>NaN</td>\n",
       "      <td>NaN</td>\n",
       "      <td>NaN</td>\n",
       "      <td>NaN</td>\n",
       "      <td>NaN</td>\n",
       "      <td>NaN</td>\n",
       "      <td>NaN</td>\n",
       "      <td>NaN</td>\n",
       "      <td>NaN</td>\n",
       "      <td>NaN</td>\n",
       "      <td>NaN</td>\n",
       "      <td>NaN</td>\n",
       "      <td>NaN</td>\n",
       "      <td>NaN</td>\n",
       "      <td>NaN</td>\n",
       "      <td>NaN</td>\n",
       "      <td>NaN</td>\n",
       "      <td>NaN</td>\n",
       "      <td>NaN</td>\n",
       "      <td>NaN</td>\n",
       "    </tr>\n",
       "    <tr>\n",
       "      <th>2</th>\n",
       "      <td>Appel d'offres ouvert</td>\n",
       "      <td>[]</td>\n",
       "      <td>ACCORD-CADRE</td>\n",
       "      <td>90513000</td>\n",
       "      <td>36</td>\n",
       "      <td>2019-01-08</td>\n",
       "      <td>[{'typeIdentifiant': 'SIRET', 'id': '302590898...</td>\n",
       "      <td>20192019S2228100</td>\n",
       "      <td>Ferme et actualisable</td>\n",
       "      <td>2019-01-08</td>\n",
       "      <td>DAL-DAH2018-34 Prestation de collecte, enlèvem...</td>\n",
       "      <td>37539.00</td>\n",
       "      <td>26420030400014</td>\n",
       "      <td>data.gouv.fr_aife</td>\n",
       "      <td>42</td>\n",
       "      <td>CODE DEPARTEMENT</td>\n",
       "      <td>(42) Loire</td>\n",
       "      <td>NaN</td>\n",
       "      <td>NaN</td>\n",
       "      <td>NaN</td>\n",
       "      <td>NaN</td>\n",
       "      <td>NaN</td>\n",
       "      <td>NaN</td>\n",
       "      <td>NaN</td>\n",
       "      <td>NaN</td>\n",
       "      <td>NaN</td>\n",
       "      <td>NaN</td>\n",
       "      <td>NaN</td>\n",
       "      <td>NaN</td>\n",
       "      <td>NaN</td>\n",
       "      <td>NaN</td>\n",
       "      <td>NaN</td>\n",
       "      <td>NaN</td>\n",
       "      <td>NaN</td>\n",
       "      <td>NaN</td>\n",
       "      <td>NaN</td>\n",
       "      <td>NaN</td>\n",
       "      <td>NaN</td>\n",
       "      <td>NaN</td>\n",
       "      <td>NaN</td>\n",
       "      <td>NaN</td>\n",
       "      <td>NaN</td>\n",
       "      <td>NaN</td>\n",
       "      <td>NaN</td>\n",
       "      <td>NaN</td>\n",
       "      <td>NaN</td>\n",
       "      <td>NaN</td>\n",
       "      <td>NaN</td>\n",
       "      <td>NaN</td>\n",
       "      <td>NaN</td>\n",
       "      <td>NaN</td>\n",
       "      <td>NaN</td>\n",
       "    </tr>\n",
       "    <tr>\n",
       "      <th>3</th>\n",
       "      <td>Appel d'offres ouvert</td>\n",
       "      <td>[]</td>\n",
       "      <td>ACCORD-CADRE</td>\n",
       "      <td>90513000</td>\n",
       "      <td>26</td>\n",
       "      <td>2019-01-01</td>\n",
       "      <td>[{'typeIdentifiant': 'SIRET', 'id': '380040402...</td>\n",
       "      <td>20192019S2227900</td>\n",
       "      <td>Ferme et actualisable</td>\n",
       "      <td>2019-01-01</td>\n",
       "      <td>DAL-DAH2018-34 Prestation de collecte, enlèvem...</td>\n",
       "      <td>1168980.82</td>\n",
       "      <td>26420030400014</td>\n",
       "      <td>data.gouv.fr_aife</td>\n",
       "      <td>42</td>\n",
       "      <td>CODE DEPARTEMENT</td>\n",
       "      <td>(42) Loire</td>\n",
       "      <td>NaN</td>\n",
       "      <td>NaN</td>\n",
       "      <td>NaN</td>\n",
       "      <td>NaN</td>\n",
       "      <td>NaN</td>\n",
       "      <td>NaN</td>\n",
       "      <td>NaN</td>\n",
       "      <td>NaN</td>\n",
       "      <td>NaN</td>\n",
       "      <td>NaN</td>\n",
       "      <td>NaN</td>\n",
       "      <td>NaN</td>\n",
       "      <td>NaN</td>\n",
       "      <td>NaN</td>\n",
       "      <td>NaN</td>\n",
       "      <td>NaN</td>\n",
       "      <td>NaN</td>\n",
       "      <td>NaN</td>\n",
       "      <td>NaN</td>\n",
       "      <td>NaN</td>\n",
       "      <td>NaN</td>\n",
       "      <td>NaN</td>\n",
       "      <td>NaN</td>\n",
       "      <td>NaN</td>\n",
       "      <td>NaN</td>\n",
       "      <td>NaN</td>\n",
       "      <td>NaN</td>\n",
       "      <td>NaN</td>\n",
       "      <td>NaN</td>\n",
       "      <td>NaN</td>\n",
       "      <td>NaN</td>\n",
       "      <td>NaN</td>\n",
       "      <td>NaN</td>\n",
       "      <td>NaN</td>\n",
       "      <td>NaN</td>\n",
       "    </tr>\n",
       "    <tr>\n",
       "      <th>4</th>\n",
       "      <td>Procédure adaptée</td>\n",
       "      <td>[]</td>\n",
       "      <td>MARCHE</td>\n",
       "      <td>45252125</td>\n",
       "      <td>23</td>\n",
       "      <td>2020-02-03</td>\n",
       "      <td>[{'typeIdentifiant': 'SIRET', 'id': '429723307...</td>\n",
       "      <td>2020150982972800</td>\n",
       "      <td>Ferme et actualisable</td>\n",
       "      <td>2020-02-03</td>\n",
       "      <td>FD RTM de la Lauzière - Torrent de la Balme - ...</td>\n",
       "      <td>42254.00</td>\n",
       "      <td>13000824600014</td>\n",
       "      <td>data.gouv.fr_aife</td>\n",
       "      <td>73</td>\n",
       "      <td>CODE DEPARTEMENT</td>\n",
       "      <td>(73) Savoie</td>\n",
       "      <td>NaN</td>\n",
       "      <td>NaN</td>\n",
       "      <td>NaN</td>\n",
       "      <td>NaN</td>\n",
       "      <td>NaN</td>\n",
       "      <td>NaN</td>\n",
       "      <td>NaN</td>\n",
       "      <td>NaN</td>\n",
       "      <td>NaN</td>\n",
       "      <td>NaN</td>\n",
       "      <td>NaN</td>\n",
       "      <td>NaN</td>\n",
       "      <td>NaN</td>\n",
       "      <td>NaN</td>\n",
       "      <td>NaN</td>\n",
       "      <td>NaN</td>\n",
       "      <td>NaN</td>\n",
       "      <td>NaN</td>\n",
       "      <td>NaN</td>\n",
       "      <td>NaN</td>\n",
       "      <td>NaN</td>\n",
       "      <td>NaN</td>\n",
       "      <td>NaN</td>\n",
       "      <td>NaN</td>\n",
       "      <td>NaN</td>\n",
       "      <td>NaN</td>\n",
       "      <td>NaN</td>\n",
       "      <td>NaN</td>\n",
       "      <td>NaN</td>\n",
       "      <td>NaN</td>\n",
       "      <td>NaN</td>\n",
       "      <td>NaN</td>\n",
       "      <td>NaN</td>\n",
       "      <td>NaN</td>\n",
       "      <td>NaN</td>\n",
       "    </tr>\n",
       "  </tbody>\n",
       "</table>\n",
       "</div>"
      ],
      "text/plain": [
       "               procedure modifications        nature   codeCPV dureeMois  \\\n",
       "0  Appel d'offres ouvert            []  ACCORD-CADRE  30192000        48   \n",
       "1      Procédure adaptée            []        MARCHE  71300000        18   \n",
       "2  Appel d'offres ouvert            []  ACCORD-CADRE  90513000        36   \n",
       "3  Appel d'offres ouvert            []  ACCORD-CADRE  90513000        26   \n",
       "4      Procédure adaptée            []        MARCHE  45252125        23   \n",
       "\n",
       "  datePublicationDonnees                                         titulaires  \\\n",
       "0             2020-08-06  [{'typeIdentifiant': 'SIRET', 'id': '571722669...   \n",
       "1             2020-02-10  [{'typeIdentifiant': 'SIRET', 'id': '394360077...   \n",
       "2             2019-01-08  [{'typeIdentifiant': 'SIRET', 'id': '302590898...   \n",
       "3             2019-01-01  [{'typeIdentifiant': 'SIRET', 'id': '380040402...   \n",
       "4             2020-02-03  [{'typeIdentifiant': 'SIRET', 'id': '429723307...   \n",
       "\n",
       "                 id              formePrix dateNotification  \\\n",
       "0  20202020F1234900              Révisable       2020-08-06   \n",
       "1  2020150980004500  Ferme et actualisable       2020-02-10   \n",
       "2  20192019S2228100  Ferme et actualisable       2019-01-08   \n",
       "3  20192019S2227900  Ferme et actualisable       2019-01-01   \n",
       "4  2020150982972800  Ferme et actualisable       2020-02-03   \n",
       "\n",
       "                                               objet     montant  \\\n",
       "0  Achat et livraison de fournitures, petits maté...  4102920.24   \n",
       "1  RESTRUCTURATION MA LONS LE SAUNIER PROJET ILOT...    95280.00   \n",
       "2  DAL-DAH2018-34 Prestation de collecte, enlèvem...    37539.00   \n",
       "3  DAL-DAH2018-34 Prestation de collecte, enlèvem...  1168980.82   \n",
       "4  FD RTM de la Lauzière - Torrent de la Balme - ...    42254.00   \n",
       "\n",
       "      acheteur.id             source lieuExecution.code  \\\n",
       "0  13000548100010  data.gouv.fr_aife                 22   \n",
       "1  17210120600016  data.gouv.fr_aife                 39   \n",
       "2  26420030400014  data.gouv.fr_aife                 42   \n",
       "3  26420030400014  data.gouv.fr_aife                 42   \n",
       "4  13000824600014  data.gouv.fr_aife                 73   \n",
       "\n",
       "  lieuExecution.typeCode   lieuExecution.nom  lieuExecution  uid _type  \\\n",
       "0       CODE DEPARTEMENT  (22) Côtes-d'Armor            NaN  NaN   NaN   \n",
       "1       CODE DEPARTEMENT           (39) Jura            NaN  NaN   NaN   \n",
       "2       CODE DEPARTEMENT          (42) Loire            NaN  NaN   NaN   \n",
       "3       CODE DEPARTEMENT          (42) Loire            NaN  NaN   NaN   \n",
       "4       CODE DEPARTEMENT         (73) Savoie            NaN  NaN   NaN   \n",
       "\n",
       "  acheteur.nom uuid dateDebutExecution considerationsSociales  \\\n",
       "0          NaN  NaN                NaN                    NaN   \n",
       "1          NaN  NaN                NaN                    NaN   \n",
       "2          NaN  NaN                NaN                    NaN   \n",
       "3          NaN  NaN                NaN                    NaN   \n",
       "4          NaN  NaN                NaN                    NaN   \n",
       "\n",
       "  considerationsEnvironnementales marcheInnovant ccag  offresRecues  \\\n",
       "0                             NaN            NaN  NaN           NaN   \n",
       "1                             NaN            NaN  NaN           NaN   \n",
       "2                             NaN            NaN  NaN           NaN   \n",
       "3                             NaN            NaN  NaN           NaN   \n",
       "4                             NaN            NaN  NaN           NaN   \n",
       "\n",
       "  attributionAvance typeGroupementOperateurs sousTraitanceDeclaree  \\\n",
       "0               NaN                      NaN                   NaN   \n",
       "1               NaN                      NaN                   NaN   \n",
       "2               NaN                      NaN                   NaN   \n",
       "3               NaN                      NaN                   NaN   \n",
       "4               NaN                      NaN                   NaN   \n",
       "\n",
       "  idAccordCadre actesSousTraitance modificationsActesSousTraitance technique  \\\n",
       "0           NaN                NaN                             NaN       NaN   \n",
       "1           NaN                NaN                             NaN       NaN   \n",
       "2           NaN                NaN                             NaN       NaN   \n",
       "3           NaN                NaN                             NaN       NaN   \n",
       "4           NaN                NaN                             NaN       NaN   \n",
       "\n",
       "  modaliteExecution TypePrix  tauxAvance  origineUE  origineFrance created_at  \\\n",
       "0               NaN      NaN         NaN        NaN            NaN        NaN   \n",
       "1               NaN      NaN         NaN        NaN            NaN        NaN   \n",
       "2               NaN      NaN         NaN        NaN            NaN        NaN   \n",
       "3               NaN      NaN         NaN        NaN            NaN        NaN   \n",
       "4               NaN      NaN         NaN        NaN            NaN        NaN   \n",
       "\n",
       "  typesPrix typePrix valeurGlobale dateSignature montantSubventionPublique  \\\n",
       "0       NaN      NaN           NaN           NaN                       NaN   \n",
       "1       NaN      NaN           NaN           NaN                       NaN   \n",
       "2       NaN      NaN           NaN           NaN                       NaN   \n",
       "3       NaN      NaN           NaN           NaN                       NaN   \n",
       "4       NaN      NaN           NaN           NaN                       NaN   \n",
       "\n",
       "  concessionnaires donneesExecution autoriteConcedante.id  \\\n",
       "0              NaN              NaN                   NaN   \n",
       "1              NaN              NaN                   NaN   \n",
       "2              NaN              NaN                   NaN   \n",
       "3              NaN              NaN                   NaN   \n",
       "4              NaN              NaN                   NaN   \n",
       "\n",
       "  autoriteConcedante.nom term.acheteur.id updated_at  \n",
       "0                    NaN              NaN        NaN  \n",
       "1                    NaN              NaN        NaN  \n",
       "2                    NaN              NaN        NaN  \n",
       "3                    NaN              NaN        NaN  \n",
       "4                    NaN              NaN        NaN  "
      ]
     },
     "execution_count": 4,
     "metadata": {},
     "output_type": "execute_result"
    }
   ],
   "source": [
    "# mp_original.head()"
   ]
  },
  {
   "cell_type": "code",
   "execution_count": null,
   "metadata": {},
   "outputs": [],
   "source": []
  },
  {
   "cell_type": "code",
   "execution_count": null,
   "metadata": {},
   "outputs": [],
   "source": [
    "# mp_original = mp_original[(mp_original.isna().sum()/len(mp_original) < 0.80).index.to_list()]"
   ]
  },
  {
   "cell_type": "code",
   "execution_count": null,
   "metadata": {},
   "outputs": [],
   "source": [
    "# mp_original.to_csv('data/mp_intermediaire.csv')"
   ]
  },
  {
   "cell_type": "code",
   "execution_count": null,
   "metadata": {},
   "outputs": [],
   "source": [
    "# mp_original = pd.read_csv('data/mp_intermediaire.csv',dtype=str,index_col=0)"
   ]
  },
  {
   "cell_type": "code",
   "execution_count": null,
   "metadata": {},
   "outputs": [
    {
     "name": "stdout",
     "output_type": "stream",
     "text": [
      "<class 'pandas.core.frame.DataFrame'>\n",
      "Index: 1015725 entries, 0 to 1015724\n",
      "Data columns (total 52 columns):\n",
      " #   Column                           Non-Null Count    Dtype \n",
      "---  ------                           --------------    ----- \n",
      " 0   procedure                        983575 non-null   object\n",
      " 1   modifications                    1015725 non-null  object\n",
      " 2   nature                           1009190 non-null  object\n",
      " 3   codeCPV                          1011878 non-null  object\n",
      " 4   dureeMois                        1015725 non-null  object\n",
      " 5   datePublicationDonnees           1012028 non-null  object\n",
      " 6   titulaires                       1011916 non-null  object\n",
      " 7   id                               1007356 non-null  object\n",
      " 8   formePrix                        995187 non-null   object\n",
      " 9   dateNotification                 1015449 non-null  object\n",
      " 10  objet                            1012597 non-null  object\n",
      " 11  montant                          1015725 non-null  object\n",
      " 12  acheteur.id                      1014514 non-null  object\n",
      " 13  source                           1015725 non-null  object\n",
      " 14  lieuExecution.code               1012141 non-null  object\n",
      " 15  lieuExecution.typeCode           1012188 non-null  object\n",
      " 16  lieuExecution.nom                1009634 non-null  object\n",
      " 17  lieuExecution                    0 non-null        object\n",
      " 18  uid                              438860 non-null   object\n",
      " 19  _type                            321544 non-null   object\n",
      " 20  acheteur.nom                     135526 non-null   object\n",
      " 21  uuid                             141442 non-null   object\n",
      " 22  dateDebutExecution               391 non-null      object\n",
      " 23  considerationsSociales           2362 non-null     object\n",
      " 24  considerationsEnvironnementales  2362 non-null     object\n",
      " 25  marcheInnovant                   2361 non-null     object\n",
      " 26  ccag                             1877 non-null     object\n",
      " 27  offresRecues                     2361 non-null     object\n",
      " 28  attributionAvance                2361 non-null     object\n",
      " 29  typeGroupementOperateurs         1041 non-null     object\n",
      " 30  sousTraitanceDeclaree            2361 non-null     object\n",
      " 31  idAccordCadre                    598 non-null      object\n",
      " 32  actesSousTraitance               2361 non-null     object\n",
      " 33  modificationsActesSousTraitance  2361 non-null     object\n",
      " 34  technique                        1424 non-null     object\n",
      " 35  modaliteExecution                1484 non-null     object\n",
      " 36  TypePrix                         1068 non-null     object\n",
      " 37  tauxAvance                       208 non-null      object\n",
      " 38  origineUE                        299 non-null      object\n",
      " 39  origineFrance                    299 non-null      object\n",
      " 40  created_at                       2532 non-null     object\n",
      " 41  typesPrix                        938 non-null      object\n",
      " 42  typePrix                         354 non-null      object\n",
      " 43  valeurGlobale                    396 non-null      object\n",
      " 44  dateSignature                    396 non-null      object\n",
      " 45  montantSubventionPublique        388 non-null      object\n",
      " 46  concessionnaires                 276 non-null      object\n",
      " 47  donneesExecution                 276 non-null      object\n",
      " 48  autoriteConcedante.id            276 non-null      object\n",
      " 49  autoriteConcedante.nom           276 non-null      object\n",
      " 50  term.acheteur.id                 1 non-null        object\n",
      " 51  updated_at                       412 non-null      object\n",
      "dtypes: object(52)\n",
      "memory usage: 410.7+ MB\n"
     ]
    }
   ],
   "source": [
    "# mp_original.info()"
   ]
  },
  {
   "cell_type": "code",
   "execution_count": null,
   "metadata": {},
   "outputs": [
    {
     "data": {
      "text/html": [
       "<div>\n",
       "<style scoped>\n",
       "    .dataframe tbody tr th:only-of-type {\n",
       "        vertical-align: middle;\n",
       "    }\n",
       "\n",
       "    .dataframe tbody tr th {\n",
       "        vertical-align: top;\n",
       "    }\n",
       "\n",
       "    .dataframe thead th {\n",
       "        text-align: right;\n",
       "    }\n",
       "</style>\n",
       "<table border=\"1\" class=\"dataframe\">\n",
       "  <thead>\n",
       "    <tr style=\"text-align: right;\">\n",
       "      <th></th>\n",
       "      <th>procedure</th>\n",
       "      <th>modifications</th>\n",
       "      <th>nature</th>\n",
       "      <th>codeCPV</th>\n",
       "      <th>dureeMois</th>\n",
       "      <th>datePublicationDonnees</th>\n",
       "      <th>titulaires</th>\n",
       "      <th>id</th>\n",
       "      <th>formePrix</th>\n",
       "      <th>dateNotification</th>\n",
       "      <th>objet</th>\n",
       "      <th>montant</th>\n",
       "      <th>acheteur.id</th>\n",
       "      <th>source</th>\n",
       "      <th>lieuExecution.code</th>\n",
       "      <th>lieuExecution.typeCode</th>\n",
       "      <th>lieuExecution.nom</th>\n",
       "      <th>uid</th>\n",
       "      <th>_type</th>\n",
       "      <th>acheteur.nom</th>\n",
       "      <th>uuid</th>\n",
       "    </tr>\n",
       "  </thead>\n",
       "  <tbody>\n",
       "    <tr>\n",
       "      <th>0</th>\n",
       "      <td>Appel d'offres ouvert</td>\n",
       "      <td>[]</td>\n",
       "      <td>ACCORD-CADRE</td>\n",
       "      <td>30192000</td>\n",
       "      <td>48</td>\n",
       "      <td>2020-08-06</td>\n",
       "      <td>[{'typeIdentifiant': 'SIRET', 'id': '571722669...</td>\n",
       "      <td>20202020F1234900</td>\n",
       "      <td>Révisable</td>\n",
       "      <td>2020-08-06</td>\n",
       "      <td>Achat et livraison de fournitures, petits maté...</td>\n",
       "      <td>4102920.24</td>\n",
       "      <td>13000548100010</td>\n",
       "      <td>data.gouv.fr_aife</td>\n",
       "      <td>22</td>\n",
       "      <td>CODE DEPARTEMENT</td>\n",
       "      <td>(22) Côtes-d'Armor</td>\n",
       "      <td>NaN</td>\n",
       "      <td>NaN</td>\n",
       "      <td>NaN</td>\n",
       "      <td>NaN</td>\n",
       "    </tr>\n",
       "    <tr>\n",
       "      <th>1</th>\n",
       "      <td>Procédure adaptée</td>\n",
       "      <td>[]</td>\n",
       "      <td>MARCHE</td>\n",
       "      <td>71300000</td>\n",
       "      <td>18</td>\n",
       "      <td>2020-02-10</td>\n",
       "      <td>[{'typeIdentifiant': 'SIRET', 'id': '394360077...</td>\n",
       "      <td>2020150980004500</td>\n",
       "      <td>Ferme et actualisable</td>\n",
       "      <td>2020-02-10</td>\n",
       "      <td>RESTRUCTURATION MA LONS LE SAUNIER PROJET ILOT...</td>\n",
       "      <td>95280.0</td>\n",
       "      <td>17210120600016</td>\n",
       "      <td>data.gouv.fr_aife</td>\n",
       "      <td>39</td>\n",
       "      <td>CODE DEPARTEMENT</td>\n",
       "      <td>(39) Jura</td>\n",
       "      <td>NaN</td>\n",
       "      <td>NaN</td>\n",
       "      <td>NaN</td>\n",
       "      <td>NaN</td>\n",
       "    </tr>\n",
       "    <tr>\n",
       "      <th>2</th>\n",
       "      <td>Appel d'offres ouvert</td>\n",
       "      <td>[]</td>\n",
       "      <td>ACCORD-CADRE</td>\n",
       "      <td>90513000</td>\n",
       "      <td>36</td>\n",
       "      <td>2019-01-08</td>\n",
       "      <td>[{'typeIdentifiant': 'SIRET', 'id': '302590898...</td>\n",
       "      <td>20192019S2228100</td>\n",
       "      <td>Ferme et actualisable</td>\n",
       "      <td>2019-01-08</td>\n",
       "      <td>DAL-DAH2018-34 Prestation de collecte, enlèvem...</td>\n",
       "      <td>37539.0</td>\n",
       "      <td>26420030400014</td>\n",
       "      <td>data.gouv.fr_aife</td>\n",
       "      <td>42</td>\n",
       "      <td>CODE DEPARTEMENT</td>\n",
       "      <td>(42) Loire</td>\n",
       "      <td>NaN</td>\n",
       "      <td>NaN</td>\n",
       "      <td>NaN</td>\n",
       "      <td>NaN</td>\n",
       "    </tr>\n",
       "    <tr>\n",
       "      <th>3</th>\n",
       "      <td>Appel d'offres ouvert</td>\n",
       "      <td>[]</td>\n",
       "      <td>ACCORD-CADRE</td>\n",
       "      <td>90513000</td>\n",
       "      <td>26</td>\n",
       "      <td>2019-01-01</td>\n",
       "      <td>[{'typeIdentifiant': 'SIRET', 'id': '380040402...</td>\n",
       "      <td>20192019S2227900</td>\n",
       "      <td>Ferme et actualisable</td>\n",
       "      <td>2019-01-01</td>\n",
       "      <td>DAL-DAH2018-34 Prestation de collecte, enlèvem...</td>\n",
       "      <td>1168980.82</td>\n",
       "      <td>26420030400014</td>\n",
       "      <td>data.gouv.fr_aife</td>\n",
       "      <td>42</td>\n",
       "      <td>CODE DEPARTEMENT</td>\n",
       "      <td>(42) Loire</td>\n",
       "      <td>NaN</td>\n",
       "      <td>NaN</td>\n",
       "      <td>NaN</td>\n",
       "      <td>NaN</td>\n",
       "    </tr>\n",
       "    <tr>\n",
       "      <th>4</th>\n",
       "      <td>Procédure adaptée</td>\n",
       "      <td>[]</td>\n",
       "      <td>MARCHE</td>\n",
       "      <td>45252125</td>\n",
       "      <td>23</td>\n",
       "      <td>2020-02-03</td>\n",
       "      <td>[{'typeIdentifiant': 'SIRET', 'id': '429723307...</td>\n",
       "      <td>2020150982972800</td>\n",
       "      <td>Ferme et actualisable</td>\n",
       "      <td>2020-02-03</td>\n",
       "      <td>FD RTM de la Lauzière - Torrent de la Balme - ...</td>\n",
       "      <td>42254.0</td>\n",
       "      <td>13000824600014</td>\n",
       "      <td>data.gouv.fr_aife</td>\n",
       "      <td>73</td>\n",
       "      <td>CODE DEPARTEMENT</td>\n",
       "      <td>(73) Savoie</td>\n",
       "      <td>NaN</td>\n",
       "      <td>NaN</td>\n",
       "      <td>NaN</td>\n",
       "      <td>NaN</td>\n",
       "    </tr>\n",
       "    <tr>\n",
       "      <th>...</th>\n",
       "      <td>...</td>\n",
       "      <td>...</td>\n",
       "      <td>...</td>\n",
       "      <td>...</td>\n",
       "      <td>...</td>\n",
       "      <td>...</td>\n",
       "      <td>...</td>\n",
       "      <td>...</td>\n",
       "      <td>...</td>\n",
       "      <td>...</td>\n",
       "      <td>...</td>\n",
       "      <td>...</td>\n",
       "      <td>...</td>\n",
       "      <td>...</td>\n",
       "      <td>...</td>\n",
       "      <td>...</td>\n",
       "      <td>...</td>\n",
       "      <td>...</td>\n",
       "      <td>...</td>\n",
       "      <td>...</td>\n",
       "      <td>...</td>\n",
       "    </tr>\n",
       "    <tr>\n",
       "      <th>1015720</th>\n",
       "      <td>Procédure adaptée</td>\n",
       "      <td>[{'objetModification': \"Avt 1 au Marché n°2020...</td>\n",
       "      <td>Accord-cadre</td>\n",
       "      <td>80500000</td>\n",
       "      <td>30</td>\n",
       "      <td>2020-07-21</td>\n",
       "      <td>[{'typeIdentifiant': 'SIRET', 'id': '824363436...</td>\n",
       "      <td>20202020S0007501</td>\n",
       "      <td>Révisable</td>\n",
       "      <td>2020-07-21</td>\n",
       "      <td>Programme régional de formation à destination ...</td>\n",
       "      <td>0.0</td>\n",
       "      <td>20005372600028</td>\n",
       "      <td>ternum-bfc</td>\n",
       "      <td>21</td>\n",
       "      <td>Code département</td>\n",
       "      <td>(21) Côte-d'Or</td>\n",
       "      <td>NaN</td>\n",
       "      <td>Marché</td>\n",
       "      <td>NaN</td>\n",
       "      <td>69D01830-9071-479A-B35D-287429FFE7BE</td>\n",
       "    </tr>\n",
       "    <tr>\n",
       "      <th>1015721</th>\n",
       "      <td>Procédure adaptée</td>\n",
       "      <td>[{'objetModification': \"Avt 1 au Marché n°2020...</td>\n",
       "      <td>Accord-cadre</td>\n",
       "      <td>80500000</td>\n",
       "      <td>30</td>\n",
       "      <td>2020-07-21</td>\n",
       "      <td>[{'typeIdentifiant': 'SIRET', 'id': '778666453...</td>\n",
       "      <td>20202020S0009001</td>\n",
       "      <td>Révisable</td>\n",
       "      <td>2020-07-21</td>\n",
       "      <td>Programme régional de formation à destination ...</td>\n",
       "      <td>0.0</td>\n",
       "      <td>20005372600028</td>\n",
       "      <td>ternum-bfc</td>\n",
       "      <td>21</td>\n",
       "      <td>Code département</td>\n",
       "      <td>(21) Côte-d'Or</td>\n",
       "      <td>NaN</td>\n",
       "      <td>Marché</td>\n",
       "      <td>NaN</td>\n",
       "      <td>8CCCF634-832D-419E-ACAD-03058A6D4BE8</td>\n",
       "    </tr>\n",
       "    <tr>\n",
       "      <th>1015722</th>\n",
       "      <td>Procédure adaptée</td>\n",
       "      <td>[{'objetModification': \"Modification n°1: exéc...</td>\n",
       "      <td>Marché</td>\n",
       "      <td>45233140</td>\n",
       "      <td>12</td>\n",
       "      <td>2019-10-07</td>\n",
       "      <td>[{'typeIdentifiant': 'SIRET', 'id': '490921996...</td>\n",
       "      <td>20192019T0000501</td>\n",
       "      <td>Ferme</td>\n",
       "      <td>2019-10-07</td>\n",
       "      <td>La présente consultation a pour objet la rénov...</td>\n",
       "      <td>51460.0</td>\n",
       "      <td>20007053000015</td>\n",
       "      <td>ternum-bfc</td>\n",
       "      <td>71</td>\n",
       "      <td>Code département</td>\n",
       "      <td>(71) Saône-et-Loire</td>\n",
       "      <td>NaN</td>\n",
       "      <td>Marché</td>\n",
       "      <td>NaN</td>\n",
       "      <td>38294B39-5A08-43AE-BC8F-E56EDABA0739</td>\n",
       "    </tr>\n",
       "    <tr>\n",
       "      <th>1015723</th>\n",
       "      <td>Procédure adaptée</td>\n",
       "      <td>[{'objetModification': \"MODIFICATION 1: Exécut...</td>\n",
       "      <td>Marché</td>\n",
       "      <td>45311200</td>\n",
       "      <td>12</td>\n",
       "      <td>2019-10-07</td>\n",
       "      <td>[{'typeIdentifiant': 'SIRET', 'id': '389562430...</td>\n",
       "      <td>20192019T0002101</td>\n",
       "      <td>Ferme et actualisable</td>\n",
       "      <td>2019-10-07</td>\n",
       "      <td>La présente consultation a pour objet la rénov...</td>\n",
       "      <td>79600.0</td>\n",
       "      <td>20007053000015</td>\n",
       "      <td>ternum-bfc</td>\n",
       "      <td>71</td>\n",
       "      <td>Code département</td>\n",
       "      <td>(71) Saône-et-Loire</td>\n",
       "      <td>NaN</td>\n",
       "      <td>Marché</td>\n",
       "      <td>NaN</td>\n",
       "      <td>806BD81D-4E46-43D0-9E54-95418808D897</td>\n",
       "    </tr>\n",
       "    <tr>\n",
       "      <th>1015724</th>\n",
       "      <td>Procédure adaptée</td>\n",
       "      <td>[{'objetModification': 'Avenant n°01 au marché...</td>\n",
       "      <td>Marché</td>\n",
       "      <td>44212310</td>\n",
       "      <td>8</td>\n",
       "      <td>2019-11-22</td>\n",
       "      <td>[{'typeIdentifiant': 'SIRET', 'id': '820398600...</td>\n",
       "      <td>20192019T0018201</td>\n",
       "      <td>Ferme</td>\n",
       "      <td>2019-11-22</td>\n",
       "      <td>21 DIJON – Maison régionale de l’Innovation : ...</td>\n",
       "      <td>71974.6</td>\n",
       "      <td>20005372600028</td>\n",
       "      <td>ternum-bfc</td>\n",
       "      <td>21</td>\n",
       "      <td>Code département</td>\n",
       "      <td>(21) Côte-d'Or</td>\n",
       "      <td>NaN</td>\n",
       "      <td>Marché</td>\n",
       "      <td>NaN</td>\n",
       "      <td>24881F72-0FDD-405A-A52E-47B4DF268465</td>\n",
       "    </tr>\n",
       "  </tbody>\n",
       "</table>\n",
       "<p>1015725 rows × 21 columns</p>\n",
       "</div>"
      ],
      "text/plain": [
       "                     procedure  \\\n",
       "0        Appel d'offres ouvert   \n",
       "1            Procédure adaptée   \n",
       "2        Appel d'offres ouvert   \n",
       "3        Appel d'offres ouvert   \n",
       "4            Procédure adaptée   \n",
       "...                        ...   \n",
       "1015720      Procédure adaptée   \n",
       "1015721      Procédure adaptée   \n",
       "1015722      Procédure adaptée   \n",
       "1015723      Procédure adaptée   \n",
       "1015724      Procédure adaptée   \n",
       "\n",
       "                                             modifications        nature  \\\n",
       "0                                                       []  ACCORD-CADRE   \n",
       "1                                                       []        MARCHE   \n",
       "2                                                       []  ACCORD-CADRE   \n",
       "3                                                       []  ACCORD-CADRE   \n",
       "4                                                       []        MARCHE   \n",
       "...                                                    ...           ...   \n",
       "1015720  [{'objetModification': \"Avt 1 au Marché n°2020...  Accord-cadre   \n",
       "1015721  [{'objetModification': \"Avt 1 au Marché n°2020...  Accord-cadre   \n",
       "1015722  [{'objetModification': \"Modification n°1: exéc...        Marché   \n",
       "1015723  [{'objetModification': \"MODIFICATION 1: Exécut...        Marché   \n",
       "1015724  [{'objetModification': 'Avenant n°01 au marché...        Marché   \n",
       "\n",
       "          codeCPV dureeMois datePublicationDonnees  \\\n",
       "0        30192000        48             2020-08-06   \n",
       "1        71300000        18             2020-02-10   \n",
       "2        90513000        36             2019-01-08   \n",
       "3        90513000        26             2019-01-01   \n",
       "4        45252125        23             2020-02-03   \n",
       "...           ...       ...                    ...   \n",
       "1015720  80500000        30             2020-07-21   \n",
       "1015721  80500000        30             2020-07-21   \n",
       "1015722  45233140        12             2019-10-07   \n",
       "1015723  45311200        12             2019-10-07   \n",
       "1015724  44212310         8             2019-11-22   \n",
       "\n",
       "                                                titulaires                id  \\\n",
       "0        [{'typeIdentifiant': 'SIRET', 'id': '571722669...  20202020F1234900   \n",
       "1        [{'typeIdentifiant': 'SIRET', 'id': '394360077...  2020150980004500   \n",
       "2        [{'typeIdentifiant': 'SIRET', 'id': '302590898...  20192019S2228100   \n",
       "3        [{'typeIdentifiant': 'SIRET', 'id': '380040402...  20192019S2227900   \n",
       "4        [{'typeIdentifiant': 'SIRET', 'id': '429723307...  2020150982972800   \n",
       "...                                                    ...               ...   \n",
       "1015720  [{'typeIdentifiant': 'SIRET', 'id': '824363436...  20202020S0007501   \n",
       "1015721  [{'typeIdentifiant': 'SIRET', 'id': '778666453...  20202020S0009001   \n",
       "1015722  [{'typeIdentifiant': 'SIRET', 'id': '490921996...  20192019T0000501   \n",
       "1015723  [{'typeIdentifiant': 'SIRET', 'id': '389562430...  20192019T0002101   \n",
       "1015724  [{'typeIdentifiant': 'SIRET', 'id': '820398600...  20192019T0018201   \n",
       "\n",
       "                     formePrix dateNotification  \\\n",
       "0                    Révisable       2020-08-06   \n",
       "1        Ferme et actualisable       2020-02-10   \n",
       "2        Ferme et actualisable       2019-01-08   \n",
       "3        Ferme et actualisable       2019-01-01   \n",
       "4        Ferme et actualisable       2020-02-03   \n",
       "...                        ...              ...   \n",
       "1015720              Révisable       2020-07-21   \n",
       "1015721              Révisable       2020-07-21   \n",
       "1015722                  Ferme       2019-10-07   \n",
       "1015723  Ferme et actualisable       2019-10-07   \n",
       "1015724                  Ferme       2019-11-22   \n",
       "\n",
       "                                                     objet     montant  \\\n",
       "0        Achat et livraison de fournitures, petits maté...  4102920.24   \n",
       "1        RESTRUCTURATION MA LONS LE SAUNIER PROJET ILOT...     95280.0   \n",
       "2        DAL-DAH2018-34 Prestation de collecte, enlèvem...     37539.0   \n",
       "3        DAL-DAH2018-34 Prestation de collecte, enlèvem...  1168980.82   \n",
       "4        FD RTM de la Lauzière - Torrent de la Balme - ...     42254.0   \n",
       "...                                                    ...         ...   \n",
       "1015720  Programme régional de formation à destination ...         0.0   \n",
       "1015721  Programme régional de formation à destination ...         0.0   \n",
       "1015722  La présente consultation a pour objet la rénov...     51460.0   \n",
       "1015723  La présente consultation a pour objet la rénov...     79600.0   \n",
       "1015724  21 DIJON – Maison régionale de l’Innovation : ...     71974.6   \n",
       "\n",
       "            acheteur.id             source lieuExecution.code  \\\n",
       "0        13000548100010  data.gouv.fr_aife                 22   \n",
       "1        17210120600016  data.gouv.fr_aife                 39   \n",
       "2        26420030400014  data.gouv.fr_aife                 42   \n",
       "3        26420030400014  data.gouv.fr_aife                 42   \n",
       "4        13000824600014  data.gouv.fr_aife                 73   \n",
       "...                 ...                ...                ...   \n",
       "1015720  20005372600028         ternum-bfc                 21   \n",
       "1015721  20005372600028         ternum-bfc                 21   \n",
       "1015722  20007053000015         ternum-bfc                 71   \n",
       "1015723  20007053000015         ternum-bfc                 71   \n",
       "1015724  20005372600028         ternum-bfc                 21   \n",
       "\n",
       "        lieuExecution.typeCode    lieuExecution.nom  uid   _type acheteur.nom  \\\n",
       "0             CODE DEPARTEMENT   (22) Côtes-d'Armor  NaN     NaN          NaN   \n",
       "1             CODE DEPARTEMENT            (39) Jura  NaN     NaN          NaN   \n",
       "2             CODE DEPARTEMENT           (42) Loire  NaN     NaN          NaN   \n",
       "3             CODE DEPARTEMENT           (42) Loire  NaN     NaN          NaN   \n",
       "4             CODE DEPARTEMENT          (73) Savoie  NaN     NaN          NaN   \n",
       "...                        ...                  ...  ...     ...          ...   \n",
       "1015720       Code département       (21) Côte-d'Or  NaN  Marché          NaN   \n",
       "1015721       Code département       (21) Côte-d'Or  NaN  Marché          NaN   \n",
       "1015722       Code département  (71) Saône-et-Loire  NaN  Marché          NaN   \n",
       "1015723       Code département  (71) Saône-et-Loire  NaN  Marché          NaN   \n",
       "1015724       Code département       (21) Côte-d'Or  NaN  Marché          NaN   \n",
       "\n",
       "                                         uuid  \n",
       "0                                         NaN  \n",
       "1                                         NaN  \n",
       "2                                         NaN  \n",
       "3                                         NaN  \n",
       "4                                         NaN  \n",
       "...                                       ...  \n",
       "1015720  69D01830-9071-479A-B35D-287429FFE7BE  \n",
       "1015721  8CCCF634-832D-419E-ACAD-03058A6D4BE8  \n",
       "1015722  38294B39-5A08-43AE-BC8F-E56EDABA0739  \n",
       "1015723  806BD81D-4E46-43D0-9E54-95418808D897  \n",
       "1015724  24881F72-0FDD-405A-A52E-47B4DF268465  \n",
       "\n",
       "[1015725 rows x 21 columns]"
      ]
     },
     "execution_count": 47,
     "metadata": {},
     "output_type": "execute_result"
    }
   ],
   "source": [
    "# mp_original[mp_original.columns[(mp_original.isna().sum()/len(mp_original) < 0.90)]]"
   ]
  },
  {
   "cell_type": "code",
   "execution_count": null,
   "metadata": {},
   "outputs": [
    {
     "data": {
      "text/plain": [
       "Index(['dureemois', 'nature', 'codecpv', 'acheteur_nom', 'datenotification',\n",
       "       'id', 'lieuexecution_nom', 'procedure', 'montant', 'acheteur_id',\n",
       "       'lieuexecution_typecode', 'uid', 'lieuexecution_code', 'formeprix',\n",
       "       'datepublicationdonnees', '_type', 'objet', 'siren', 'nom', 'type',\n",
       "       'titulaires'],\n",
       "      dtype='object')"
      ]
     },
     "execution_count": 33,
     "metadata": {},
     "output_type": "execute_result"
    }
   ],
   "source": [
    "# mp_df.columns"
   ]
  },
  {
   "cell_type": "code",
   "execution_count": null,
   "metadata": {},
   "outputs": [],
   "source": [
    "# mp_original = mp_original[mp_original.columns[(mp_original.isna().sum()/len(mp_original) < 0.90)]]"
   ]
  },
  {
   "cell_type": "code",
   "execution_count": null,
   "metadata": {},
   "outputs": [
    {
     "name": "stdout",
     "output_type": "stream",
     "text": [
      "<class 'pandas.core.frame.DataFrame'>\n",
      "Index: 1015725 entries, 0 to 1015724\n",
      "Data columns (total 21 columns):\n",
      " #   Column                  Non-Null Count    Dtype \n",
      "---  ------                  --------------    ----- \n",
      " 0   procedure               983575 non-null   object\n",
      " 1   modifications           1015725 non-null  object\n",
      " 2   nature                  1009190 non-null  object\n",
      " 3   codeCPV                 1011878 non-null  object\n",
      " 4   dureeMois               1015725 non-null  object\n",
      " 5   datePublicationDonnees  1012028 non-null  object\n",
      " 6   titulaires              1011916 non-null  object\n",
      " 7   id                      1007356 non-null  object\n",
      " 8   formePrix               995187 non-null   object\n",
      " 9   dateNotification        1015449 non-null  object\n",
      " 10  objet                   1012597 non-null  object\n",
      " 11  montant                 1015725 non-null  object\n",
      " 12  acheteur.id             1014514 non-null  object\n",
      " 13  source                  1015725 non-null  object\n",
      " 14  lieuExecution.code      1012141 non-null  object\n",
      " 15  lieuExecution.typeCode  1012188 non-null  object\n",
      " 16  lieuExecution.nom       1009634 non-null  object\n",
      " 17  uid                     438860 non-null   object\n",
      " 18  _type                   321544 non-null   object\n",
      " 19  acheteur.nom            135526 non-null   object\n",
      " 20  uuid                    141442 non-null   object\n",
      "dtypes: object(21)\n",
      "memory usage: 170.5+ MB\n"
     ]
    }
   ],
   "source": [
    "# mp_original.info()"
   ]
  },
  {
   "cell_type": "code",
   "execution_count": null,
   "metadata": {},
   "outputs": [],
   "source": [
    "# mp_original.to_csv('data/mp_intermediaire.csv')"
   ]
  },
  {
   "cell_type": "code",
   "execution_count": null,
   "metadata": {},
   "outputs": [
    {
     "data": {
      "text/html": [
       "<div>\n",
       "<style scoped>\n",
       "    .dataframe tbody tr th:only-of-type {\n",
       "        vertical-align: middle;\n",
       "    }\n",
       "\n",
       "    .dataframe tbody tr th {\n",
       "        vertical-align: top;\n",
       "    }\n",
       "\n",
       "    .dataframe thead th {\n",
       "        text-align: right;\n",
       "    }\n",
       "</style>\n",
       "<table border=\"1\" class=\"dataframe\">\n",
       "  <thead>\n",
       "    <tr style=\"text-align: right;\">\n",
       "      <th></th>\n",
       "      <th>procedure</th>\n",
       "      <th>modifications</th>\n",
       "      <th>nature</th>\n",
       "      <th>codeCPV</th>\n",
       "      <th>dureeMois</th>\n",
       "      <th>datePublicationDonnees</th>\n",
       "      <th>titulaires</th>\n",
       "      <th>id</th>\n",
       "      <th>formePrix</th>\n",
       "      <th>dateNotification</th>\n",
       "      <th>objet</th>\n",
       "      <th>montant</th>\n",
       "      <th>acheteur.id</th>\n",
       "      <th>source</th>\n",
       "      <th>lieuExecution.code</th>\n",
       "      <th>lieuExecution.typeCode</th>\n",
       "      <th>lieuExecution.nom</th>\n",
       "      <th>uid</th>\n",
       "      <th>_type</th>\n",
       "      <th>acheteur.nom</th>\n",
       "      <th>uuid</th>\n",
       "    </tr>\n",
       "  </thead>\n",
       "  <tbody>\n",
       "    <tr>\n",
       "      <th>420</th>\n",
       "      <td>Procédure adaptée</td>\n",
       "      <td>[]</td>\n",
       "      <td>MARCHE</td>\n",
       "      <td>42961100</td>\n",
       "      <td>6</td>\n",
       "      <td>2020-02-12</td>\n",
       "      <td>NaN</td>\n",
       "      <td>2020.004100</td>\n",
       "      <td>Ferme</td>\n",
       "      <td>2020-02-11</td>\n",
       "      <td>Fourniture et installation d�un syst�me de con...</td>\n",
       "      <td>57142.7</td>\n",
       "      <td>77953712500022</td>\n",
       "      <td>data.gouv.fr_aife</td>\n",
       "      <td>38000</td>\n",
       "      <td>CODE POSTAL</td>\n",
       "      <td>GRENOBLE</td>\n",
       "      <td>NaN</td>\n",
       "      <td>NaN</td>\n",
       "      <td>NaN</td>\n",
       "      <td>NaN</td>\n",
       "    </tr>\n",
       "    <tr>\n",
       "      <th>579</th>\n",
       "      <td>Appel d'offres ouvert</td>\n",
       "      <td>[]</td>\n",
       "      <td>ACCORD-CADRE</td>\n",
       "      <td>16700000</td>\n",
       "      <td>48</td>\n",
       "      <td>2018-11-14</td>\n",
       "      <td>NaN</td>\n",
       "      <td>20182018F1921800</td>\n",
       "      <td>Révisable</td>\n",
       "      <td>2018-11-14</td>\n",
       "      <td>Engins porte-outils en acquisition, options, é...</td>\n",
       "      <td>3200000.0</td>\n",
       "      <td>77605646700587</td>\n",
       "      <td>data.gouv.fr_aife</td>\n",
       "      <td>02</td>\n",
       "      <td>CODE DEPARTEMENT</td>\n",
       "      <td>(02) Aisne</td>\n",
       "      <td>NaN</td>\n",
       "      <td>NaN</td>\n",
       "      <td>NaN</td>\n",
       "      <td>NaN</td>\n",
       "    </tr>\n",
       "    <tr>\n",
       "      <th>795</th>\n",
       "      <td>Procédure adaptée</td>\n",
       "      <td>[]</td>\n",
       "      <td>MARCHE</td>\n",
       "      <td>33140000</td>\n",
       "      <td>14</td>\n",
       "      <td>2018-11-08</td>\n",
       "      <td>NaN</td>\n",
       "      <td>20182018F0026400</td>\n",
       "      <td>Ferme</td>\n",
       "      <td>2018-11-08</td>\n",
       "      <td>Acquisition de dispositifs médicaux à usage un...</td>\n",
       "      <td>150000.0</td>\n",
       "      <td>26450009100014</td>\n",
       "      <td>data.gouv.fr_aife</td>\n",
       "      <td>45</td>\n",
       "      <td>CODE DEPARTEMENT</td>\n",
       "      <td>(45) Loiret</td>\n",
       "      <td>NaN</td>\n",
       "      <td>NaN</td>\n",
       "      <td>NaN</td>\n",
       "      <td>NaN</td>\n",
       "    </tr>\n",
       "    <tr>\n",
       "      <th>1115</th>\n",
       "      <td>Appel d'offres restreint</td>\n",
       "      <td>[]</td>\n",
       "      <td>ACCORD-CADRE</td>\n",
       "      <td>35520000</td>\n",
       "      <td>60</td>\n",
       "      <td>2018-12-21</td>\n",
       "      <td>NaN</td>\n",
       "      <td>20182018F0051900</td>\n",
       "      <td>NaN</td>\n",
       "      <td>2018-12-21</td>\n",
       "      <td>M18T20008 relatif à la fourniture d'équipement...</td>\n",
       "      <td>6666667.0</td>\n",
       "      <td>15000106300018</td>\n",
       "      <td>data.gouv.fr_aife</td>\n",
       "      <td>83</td>\n",
       "      <td>CODE DEPARTEMENT</td>\n",
       "      <td>(83) Var</td>\n",
       "      <td>NaN</td>\n",
       "      <td>NaN</td>\n",
       "      <td>NaN</td>\n",
       "      <td>NaN</td>\n",
       "    </tr>\n",
       "    <tr>\n",
       "      <th>1186</th>\n",
       "      <td>Appel d'offres ouvert</td>\n",
       "      <td>[]</td>\n",
       "      <td>ACCORD-CADRE</td>\n",
       "      <td>50711000</td>\n",
       "      <td>48</td>\n",
       "      <td>2018-12-13</td>\n",
       "      <td>NaN</td>\n",
       "      <td>20182018T0056800</td>\n",
       "      <td>Révisable</td>\n",
       "      <td>2018-12-13</td>\n",
       "      <td>MARCHE DE MAINTENANCE ET DE TRAVAUX SUR LES IN...</td>\n",
       "      <td>0.0</td>\n",
       "      <td>17760000400044</td>\n",
       "      <td>data.gouv.fr_aife</td>\n",
       "      <td>14</td>\n",
       "      <td>CODE DEPARTEMENT</td>\n",
       "      <td>(14) Calvados</td>\n",
       "      <td>NaN</td>\n",
       "      <td>NaN</td>\n",
       "      <td>NaN</td>\n",
       "      <td>NaN</td>\n",
       "    </tr>\n",
       "    <tr>\n",
       "      <th>...</th>\n",
       "      <td>...</td>\n",
       "      <td>...</td>\n",
       "      <td>...</td>\n",
       "      <td>...</td>\n",
       "      <td>...</td>\n",
       "      <td>...</td>\n",
       "      <td>...</td>\n",
       "      <td>...</td>\n",
       "      <td>...</td>\n",
       "      <td>...</td>\n",
       "      <td>...</td>\n",
       "      <td>...</td>\n",
       "      <td>...</td>\n",
       "      <td>...</td>\n",
       "      <td>...</td>\n",
       "      <td>...</td>\n",
       "      <td>...</td>\n",
       "      <td>...</td>\n",
       "      <td>...</td>\n",
       "      <td>...</td>\n",
       "      <td>...</td>\n",
       "    </tr>\n",
       "    <tr>\n",
       "      <th>998363</th>\n",
       "      <td>Procédure négociée ouverte</td>\n",
       "      <td>[{'dateSignatureModification': '2022-12-30', '...</td>\n",
       "      <td>Concession de service</td>\n",
       "      <td>55510000</td>\n",
       "      <td>72</td>\n",
       "      <td>2022-08-16</td>\n",
       "      <td>NaN</td>\n",
       "      <td>2022RL02301</td>\n",
       "      <td>NaN</td>\n",
       "      <td>NaN</td>\n",
       "      <td>Concession de service public de la restauratio...</td>\n",
       "      <td>0.0</td>\n",
       "      <td>NaN</td>\n",
       "      <td>marches-publics.info</td>\n",
       "      <td>13700</td>\n",
       "      <td>Code postal</td>\n",
       "      <td>Ville de marignane</td>\n",
       "      <td>NaN</td>\n",
       "      <td>Contrat de concession</td>\n",
       "      <td>NaN</td>\n",
       "      <td>NaN</td>\n",
       "    </tr>\n",
       "    <tr>\n",
       "      <th>1000781</th>\n",
       "      <td>Procédure négociée ouverte</td>\n",
       "      <td>[{'dateSignatureModification': '2020-12-08', '...</td>\n",
       "      <td>Concession de service</td>\n",
       "      <td>50118110</td>\n",
       "      <td>60</td>\n",
       "      <td>2019-07-29</td>\n",
       "      <td>NaN</td>\n",
       "      <td>2019FOURRIERE01</td>\n",
       "      <td>NaN</td>\n",
       "      <td>NaN</td>\n",
       "      <td>Concession de service public pour l'exploitati...</td>\n",
       "      <td>0.0</td>\n",
       "      <td>NaN</td>\n",
       "      <td>marches-publics.info</td>\n",
       "      <td>69000</td>\n",
       "      <td>Code postal</td>\n",
       "      <td>A LYON</td>\n",
       "      <td>NaN</td>\n",
       "      <td>Contrat de concession</td>\n",
       "      <td>NaN</td>\n",
       "      <td>6322B4D1D851F3B74BA283AD13D5DB79</td>\n",
       "    </tr>\n",
       "    <tr>\n",
       "      <th>1000847</th>\n",
       "      <td>Procédure négociée restreinte</td>\n",
       "      <td>[{'dateSignatureModification': '2020-09-30', '...</td>\n",
       "      <td>Concession de service public</td>\n",
       "      <td>55241000</td>\n",
       "      <td>48</td>\n",
       "      <td>2019-10-24</td>\n",
       "      <td>NaN</td>\n",
       "      <td>2019000000006b02</td>\n",
       "      <td>NaN</td>\n",
       "      <td>NaN</td>\n",
       "      <td>Appel à candidatures pour la concession de ser...</td>\n",
       "      <td>0.0</td>\n",
       "      <td>NaN</td>\n",
       "      <td>marches-publics.info</td>\n",
       "      <td>31840</td>\n",
       "      <td>Code postal</td>\n",
       "      <td>Seilh (31)</td>\n",
       "      <td>NaN</td>\n",
       "      <td>Contrat de concession</td>\n",
       "      <td>NaN</td>\n",
       "      <td>ED64EAD89BD6D1F007301EBD3CAE1253</td>\n",
       "    </tr>\n",
       "    <tr>\n",
       "      <th>1001173</th>\n",
       "      <td>Procédure négociée ouverte</td>\n",
       "      <td>[{'dateSignatureModification': '2019-11-22', '...</td>\n",
       "      <td>Concession de service</td>\n",
       "      <td>85312110</td>\n",
       "      <td>72</td>\n",
       "      <td>2019-11-13</td>\n",
       "      <td>NaN</td>\n",
       "      <td>2019CC101</td>\n",
       "      <td>NaN</td>\n",
       "      <td>NaN</td>\n",
       "      <td>DELEGATION DE SERVICE PUBLIC POUR LA GESTION D...</td>\n",
       "      <td>0.0</td>\n",
       "      <td>NaN</td>\n",
       "      <td>marches-publics.info</td>\n",
       "      <td>74940</td>\n",
       "      <td>Code postal</td>\n",
       "      <td>ANNECY</td>\n",
       "      <td>NaN</td>\n",
       "      <td>Contrat de concession</td>\n",
       "      <td>NaN</td>\n",
       "      <td>C063A155D7D56D4366B88F1DC4C6FAED</td>\n",
       "    </tr>\n",
       "    <tr>\n",
       "      <th>1011507</th>\n",
       "      <td>Procédure négociée ouverte</td>\n",
       "      <td>[{'dateSignatureModification': '2020-11-02', '...</td>\n",
       "      <td>Concession de service</td>\n",
       "      <td>92622000</td>\n",
       "      <td>48</td>\n",
       "      <td>2021-02-05</td>\n",
       "      <td>NaN</td>\n",
       "      <td>2020DSP2000101</td>\n",
       "      <td>NaN</td>\n",
       "      <td>NaN</td>\n",
       "      <td>Concession de service public pour l'exploitati...</td>\n",
       "      <td>0.0</td>\n",
       "      <td>NaN</td>\n",
       "      <td>marches-publics.info</td>\n",
       "      <td>13200</td>\n",
       "      <td>Code postal</td>\n",
       "      <td>Arles</td>\n",
       "      <td>NaN</td>\n",
       "      <td>Contrat de concession</td>\n",
       "      <td>NaN</td>\n",
       "      <td>910F5520F90FEA953E173BE69999DFA7</td>\n",
       "    </tr>\n",
       "  </tbody>\n",
       "</table>\n",
       "<p>3809 rows × 21 columns</p>\n",
       "</div>"
      ],
      "text/plain": [
       "                             procedure  \\\n",
       "420                  Procédure adaptée   \n",
       "579              Appel d'offres ouvert   \n",
       "795                  Procédure adaptée   \n",
       "1115          Appel d'offres restreint   \n",
       "1186             Appel d'offres ouvert   \n",
       "...                                ...   \n",
       "998363      Procédure négociée ouverte   \n",
       "1000781     Procédure négociée ouverte   \n",
       "1000847  Procédure négociée restreinte   \n",
       "1001173     Procédure négociée ouverte   \n",
       "1011507     Procédure négociée ouverte   \n",
       "\n",
       "                                             modifications  \\\n",
       "420                                                     []   \n",
       "579                                                     []   \n",
       "795                                                     []   \n",
       "1115                                                    []   \n",
       "1186                                                    []   \n",
       "...                                                    ...   \n",
       "998363   [{'dateSignatureModification': '2022-12-30', '...   \n",
       "1000781  [{'dateSignatureModification': '2020-12-08', '...   \n",
       "1000847  [{'dateSignatureModification': '2020-09-30', '...   \n",
       "1001173  [{'dateSignatureModification': '2019-11-22', '...   \n",
       "1011507  [{'dateSignatureModification': '2020-11-02', '...   \n",
       "\n",
       "                               nature   codeCPV dureeMois  \\\n",
       "420                            MARCHE  42961100         6   \n",
       "579                      ACCORD-CADRE  16700000        48   \n",
       "795                            MARCHE  33140000        14   \n",
       "1115                     ACCORD-CADRE  35520000        60   \n",
       "1186                     ACCORD-CADRE  50711000        48   \n",
       "...                               ...       ...       ...   \n",
       "998363          Concession de service  55510000        72   \n",
       "1000781         Concession de service  50118110        60   \n",
       "1000847  Concession de service public  55241000        48   \n",
       "1001173         Concession de service  85312110        72   \n",
       "1011507         Concession de service  92622000        48   \n",
       "\n",
       "        datePublicationDonnees titulaires                id  formePrix  \\\n",
       "420                 2020-02-12        NaN       2020.004100      Ferme   \n",
       "579                 2018-11-14        NaN  20182018F1921800  Révisable   \n",
       "795                 2018-11-08        NaN  20182018F0026400      Ferme   \n",
       "1115                2018-12-21        NaN  20182018F0051900        NaN   \n",
       "1186                2018-12-13        NaN  20182018T0056800  Révisable   \n",
       "...                        ...        ...               ...        ...   \n",
       "998363              2022-08-16        NaN       2022RL02301        NaN   \n",
       "1000781             2019-07-29        NaN   2019FOURRIERE01        NaN   \n",
       "1000847             2019-10-24        NaN  2019000000006b02        NaN   \n",
       "1001173             2019-11-13        NaN         2019CC101        NaN   \n",
       "1011507             2021-02-05        NaN    2020DSP2000101        NaN   \n",
       "\n",
       "        dateNotification                                              objet  \\\n",
       "420           2020-02-11  Fourniture et installation d�un syst�me de con...   \n",
       "579           2018-11-14  Engins porte-outils en acquisition, options, é...   \n",
       "795           2018-11-08  Acquisition de dispositifs médicaux à usage un...   \n",
       "1115          2018-12-21  M18T20008 relatif à la fourniture d'équipement...   \n",
       "1186          2018-12-13  MARCHE DE MAINTENANCE ET DE TRAVAUX SUR LES IN...   \n",
       "...                  ...                                                ...   \n",
       "998363               NaN  Concession de service public de la restauratio...   \n",
       "1000781              NaN  Concession de service public pour l'exploitati...   \n",
       "1000847              NaN  Appel à candidatures pour la concession de ser...   \n",
       "1001173              NaN  DELEGATION DE SERVICE PUBLIC POUR LA GESTION D...   \n",
       "1011507              NaN  Concession de service public pour l'exploitati...   \n",
       "\n",
       "           montant     acheteur.id                source lieuExecution.code  \\\n",
       "420        57142.7  77953712500022     data.gouv.fr_aife              38000   \n",
       "579      3200000.0  77605646700587     data.gouv.fr_aife                 02   \n",
       "795       150000.0  26450009100014     data.gouv.fr_aife                 45   \n",
       "1115     6666667.0  15000106300018     data.gouv.fr_aife                 83   \n",
       "1186           0.0  17760000400044     data.gouv.fr_aife                 14   \n",
       "...            ...             ...                   ...                ...   \n",
       "998363         0.0             NaN  marches-publics.info              13700   \n",
       "1000781        0.0             NaN  marches-publics.info              69000   \n",
       "1000847        0.0             NaN  marches-publics.info              31840   \n",
       "1001173        0.0             NaN  marches-publics.info              74940   \n",
       "1011507        0.0             NaN  marches-publics.info              13200   \n",
       "\n",
       "        lieuExecution.typeCode   lieuExecution.nom  uid  \\\n",
       "420                CODE POSTAL            GRENOBLE  NaN   \n",
       "579           CODE DEPARTEMENT          (02) Aisne  NaN   \n",
       "795           CODE DEPARTEMENT         (45) Loiret  NaN   \n",
       "1115          CODE DEPARTEMENT            (83) Var  NaN   \n",
       "1186          CODE DEPARTEMENT       (14) Calvados  NaN   \n",
       "...                        ...                 ...  ...   \n",
       "998363             Code postal  Ville de marignane  NaN   \n",
       "1000781            Code postal              A LYON  NaN   \n",
       "1000847            Code postal          Seilh (31)  NaN   \n",
       "1001173            Code postal              ANNECY  NaN   \n",
       "1011507            Code postal               Arles  NaN   \n",
       "\n",
       "                         _type acheteur.nom                              uuid  \n",
       "420                        NaN          NaN                               NaN  \n",
       "579                        NaN          NaN                               NaN  \n",
       "795                        NaN          NaN                               NaN  \n",
       "1115                       NaN          NaN                               NaN  \n",
       "1186                       NaN          NaN                               NaN  \n",
       "...                        ...          ...                               ...  \n",
       "998363   Contrat de concession          NaN                               NaN  \n",
       "1000781  Contrat de concession          NaN  6322B4D1D851F3B74BA283AD13D5DB79  \n",
       "1000847  Contrat de concession          NaN  ED64EAD89BD6D1F007301EBD3CAE1253  \n",
       "1001173  Contrat de concession          NaN  C063A155D7D56D4366B88F1DC4C6FAED  \n",
       "1011507  Contrat de concession          NaN  910F5520F90FEA953E173BE69999DFA7  \n",
       "\n",
       "[3809 rows x 21 columns]"
      ]
     },
     "execution_count": 84,
     "metadata": {},
     "output_type": "execute_result"
    }
   ],
   "source": [
    "# mp_original[mp_original['titulaires'].isna()]"
   ]
  },
  {
   "cell_type": "code",
   "execution_count": 5,
   "metadata": {},
   "outputs": [],
   "source": [
    "# import json\n",
    "\n",
    "# type_id = []\n",
    "# id = []\n",
    "# denomination=[]\n",
    "# for titulaires in mp_original['titulaires']:\n",
    "#     # a = json.loads(item)\n",
    "#     # if type(item) == str:\n",
    "#     #     item = item.replace(\"/\", \"\")\n",
    "#     #     a = eval(item)\n",
    "#     #     if type(a) == list and len(a)>0:\n",
    "#     #         type_id.append([titulaire.get('typeIdentifiant') for titulaire in a])\n",
    "#     #         id.append([titulaire.get('id') for titulaire in a])\n",
    "#     #         denomination.append([titulaire.get('denominationSociale') for titulaire in a])\n",
    "#     #     else:\n",
    "#     #         type_id.append(item)\n",
    "#     #         id.append(item)\n",
    "#     #         denomination.append(item)\n",
    "#     # else :\n",
    "#     #     type_id.append(item)\n",
    "#     #     id.append(item)\n",
    "#     #     denomination.append(item)\n",
    "\n",
    "# pd.DataFrame({'typeid': type_id, 'id': id, 'denominationsociale': denomination})\n"
   ]
  },
  {
   "cell_type": "code",
   "execution_count": null,
   "metadata": {},
   "outputs": [],
   "source": [
    "# siren_df = pd.read_parquet('../13_eclaireur_public/back/data/sirene/sirene.parquet')"
   ]
  },
  {
   "cell_type": "code",
   "execution_count": null,
   "metadata": {},
   "outputs": [
    {
     "data": {
      "text/plain": [
       "siren                     object\n",
       "is_active                   bool\n",
       "raison_sociale            object\n",
       "raison_sociale_prenom     object\n",
       "naf8                      object\n",
       "code_ju                    int64\n",
       "tranche_effectif         float64\n",
       "dtype: object"
      ]
     },
     "execution_count": 102,
     "metadata": {},
     "output_type": "execute_result"
    }
   ],
   "source": [
    "# siren_df.dtypes"
   ]
  },
  {
   "cell_type": "code",
   "execution_count": null,
   "metadata": {},
   "outputs": [],
   "source": []
  },
  {
   "cell_type": "code",
   "execution_count": null,
   "metadata": {},
   "outputs": [],
   "source": []
  },
  {
   "cell_type": "code",
   "execution_count": null,
   "metadata": {},
   "outputs": [],
   "source": []
  }
 ],
 "metadata": {
  "kernelspec": {
   "display_name": "eclaireur-public",
   "language": "python",
   "name": "python3"
  },
  "language_info": {
   "codemirror_mode": {
    "name": "ipython",
    "version": 3
   },
   "file_extension": ".py",
   "mimetype": "text/x-python",
   "name": "python",
   "nbconvert_exporter": "python",
   "pygments_lexer": "ipython3",
   "version": "3.10.6"
  }
 },
 "nbformat": 4,
 "nbformat_minor": 2
}
